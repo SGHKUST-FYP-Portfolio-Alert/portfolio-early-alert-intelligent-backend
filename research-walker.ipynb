{
 "cells": [
  {
   "cell_type": "markdown",
   "metadata": {},
   "source": [
    "# FinBert Embedding Research"
   ]
  },
  {
   "cell_type": "code",
   "execution_count": 1,
   "metadata": {
    "ExecuteTime": {
     "end_time": "2022-01-13T08:45:27.793200Z",
     "start_time": "2022-01-13T08:45:27.785200Z"
    }
   },
   "outputs": [
    {
     "data": {
      "application/javascript": [
       "IPython.notebook.set_autosave_interval(30000)"
      ]
     },
     "metadata": {},
     "output_type": "display_data"
    },
    {
     "name": "stdout",
     "output_type": "stream",
     "text": [
      "Autosaving every 30 seconds\n"
     ]
    }
   ],
   "source": [
    "%autosave 30"
   ]
  },
  {
   "cell_type": "code",
   "execution_count": 2,
   "metadata": {
    "ExecuteTime": {
     "end_time": "2022-01-13T08:46:37.592578Z",
     "start_time": "2022-01-13T08:45:27.794193Z"
    }
   },
   "outputs": [],
   "source": [
    "from transformers import BertTokenizer, BertForSequenceClassification\n",
    "import numpy as np\n",
    "import torch"
   ]
  },
  {
   "cell_type": "code",
   "execution_count": 3,
   "metadata": {
    "ExecuteTime": {
     "end_time": "2022-01-13T08:46:37.608565Z",
     "start_time": "2022-01-13T08:46:37.594568Z"
    }
   },
   "outputs": [],
   "source": [
    "def check_memory():\n",
    "    print('GPU memory: %.1f' % (torch.cuda.memory_allocated() // 1024 ** 2))"
   ]
  },
  {
   "cell_type": "code",
   "execution_count": 4,
   "metadata": {
    "ExecuteTime": {
     "end_time": "2022-01-13T08:46:37.688564Z",
     "start_time": "2022-01-13T08:46:37.612567Z"
    }
   },
   "outputs": [
    {
     "data": {
      "text/plain": [
       "'cuda:0'"
      ]
     },
     "execution_count": 4,
     "metadata": {},
     "output_type": "execute_result"
    }
   ],
   "source": [
    "device = \"cuda:0\" if torch.cuda.is_available() else \"cpu\"\n",
    "device"
   ]
  },
  {
   "cell_type": "code",
   "execution_count": 5,
   "metadata": {
    "ExecuteTime": {
     "end_time": "2022-01-13T08:47:05.240873Z",
     "start_time": "2022-01-13T08:46:37.689564Z"
    }
   },
   "outputs": [],
   "source": [
    "finbert = BertForSequenceClassification.from_pretrained('yiyanghkust/finbert-tone',num_labels=3).to(device)\n",
    "tokenizer = BertTokenizer.from_pretrained('yiyanghkust/finbert-tone')"
   ]
  },
  {
   "cell_type": "markdown",
   "metadata": {
    "ExecuteTime": {
     "end_time": "2022-01-11T15:03:11.315843Z",
     "start_time": "2022-01-11T15:03:11.302842Z"
    }
   },
   "source": [
    "#----------- RUN ABOVE FIRST FOR EVERYTHING TO WORK"
   ]
  },
  {
   "cell_type": "code",
   "execution_count": 13,
   "metadata": {
    "ExecuteTime": {
     "end_time": "2022-01-11T15:03:38.450299Z",
     "start_time": "2022-01-11T15:03:38.431301Z"
    }
   },
   "outputs": [],
   "source": [
    "sentences = [\"there is a shortage of capital, and we need extra financing\", \n",
    "             \"growth is strong and we have plenty of liquidity\",\n",
    "             \"growth is strong and we have plenty of liquidity now\",\n",
    "             \"growth is weak and we have plenty of liquidity\",\n",
    "             \"there are doubts about our finances\", \n",
    "             \"profits are flat\"]"
   ]
  },
  {
   "cell_type": "code",
   "execution_count": 46,
   "metadata": {
    "ExecuteTime": {
     "end_time": "2022-01-11T15:09:48.160806Z",
     "start_time": "2022-01-11T15:09:47.822287Z"
    },
    "scrolled": true
   },
   "outputs": [
    {
     "name": "stdout",
     "output_type": "stream",
     "text": [
      "Dow Jones Futures Rebound After Stock Market Sells Off On China Property Default Fears; These 4 Top Growth Stocks Tumbled ---- negative\n",
      "Dow Jones Futures Rise After Stock Market Sells Off On China Property Default Fears; These 4 Top Growth Stocks Tumbled ---- negative\n",
      "With U.S. Credit Default No Longer a Likely Threat, Eyes Turn Back Toward the Fed ---- negative\n",
      "S&P 500 Claws Back Losses on Easing Fears of U.S. Default By Investing.com ---- negative\n",
      "Dow Jones Futures Rise Despite China's Evergrande Default Warning After Fed Fuels Market Rally ---- positive\n",
      "Dow Jones Futures Dive On China Default Fears With Stock Market Rally At Turning Point; What To Do Now ---- neutral\n",
      "Apple — Highlighting Commitment To 'Diversity' — Says Siri Will No Longer Default To Female Voice ---- neutral\n",
      "No, Apple Still Won't  Quite Let You Set A Default Music Service in iOS 14.5 ---- neutral\n",
      "Google Pays Apple $8-12 Bn Every Year To Be Default Search Engine On Apple Devices: Report ---- neutral\n",
      "DOJ: Google Pays up to $12B Just to Be the  Default Search Engine on Apple Devices and Siri ---- neutral\n",
      "Dow Jones Futures Rebound After Stock Market Sells Off On China Property Default Fears; These 4 Top Growth Stocks Tumbled ---- negative\n",
      "Dow Jones Futures Rise After Stock Market Sells Off On China Property Default Fears; These 4 Top Growth Stocks Tumbled ---- negative\n",
      "Dow Jones Futures Dive On China Default Fears With Stock Market Rally At Turning Point; What To Do Now ---- neutral\n",
      "Alibaba, Tencent And Nio Rivals Xpeng, Li Auto Fall In Hong Kong As Evergrande, Kaisa Default On Payments ---- negative\n",
      "3 Chinese Stocks to Buy on the Dip After Evergrande Default ---- positive\n",
      "Alibaba, Tencent And Nio Rivals Xpeng, Li Auto Fall In Hong Kong As Evergrande, Kaisa Default On Payments ---- negative\n",
      "Alibaba, Tencent And Nio Rivals Xpeng, Li Auto Fall In Hong Kong As Evergrande, Kaisa Default On Payments ---- negative\n",
      "S&P 500 Claws Back Losses on Easing Fears of U.S. Default By Investing.com ---- negative\n",
      "Dow Jones Today Chases Nasdaq Lower As Yellen Warns Of Default Risk; Ford Surges On $11.4 Bil. EV Plan ---- positive\n",
      "Alibaba, Tencent And Nio Rivals Xpeng, Li Auto Fall In Hong Kong As Evergrande, Kaisa Default On Payments ---- negative\n",
      "3 Chinese Stocks to Buy on the Dip After Evergrande Default ---- positive\n",
      "Dow Jones Futures Rise Despite China's Evergrande Default Warning After Fed Fuels Market Rally ---- positive\n",
      "Dow Jones Futures Rebound After Stock Market Sells Off On China Property Default Fears; These 4 Top Growth Stocks Tumbled ---- negative\n",
      "Dow Jones Futures Rise After Stock Market Sells Off On China Property Default Fears; These 4 Top Growth Stocks Tumbled ---- negative\n",
      "Dow Jones Futures: Market Sells Off Amid Yellen Default Warning; Growth Stocks On Track For Worst Week Since Coronavirus Crash ---- negative\n",
      "REITs Are Recurring Revenue Models By Default ---- neutral\n",
      "S&P 500 Claws Back Losses on Easing Fears of U.S. Default By Investing.com ---- negative\n",
      "Dow Jones Futures: Market Sells Off Amid Yellen Default Warning; Growth Stocks On Track For Worst Week Since Coronavirus Crash ---- negative\n",
      "Dow Jones Futures Dive On China Default Fears With Stock Market Rally At Turning Point; What To Do Now ---- neutral\n",
      "Microsoft Excel New Updates Unlock Default Full Shortcut Keyboard List ---- neutral\n",
      "S&P 500 Claws Back Losses on Easing Fears of U.S. Default By Investing.com ---- negative\n",
      "Dow Jones Futures: Market Sells Off Amid Yellen Default Warning; Growth Stocks On Track For Worst Week Since Coronavirus Crash ---- negative\n",
      "YouTube Will Make Video Uploads Private by Default for Kids Under 18 ---- neutral\n",
      "Facebook : More Control and Privacy on WhatsApp with Default Disappearing Messages and Multiple Durations ---- positive\n",
      "Dow Jones Futures Rise Despite China's Evergrande Default Warning After Fed Fuels Market Rally ---- positive\n",
      "REITs Are Recurring Revenue Models By Default ---- neutral\n",
      "Netflix and Cuddle: Streamer Launches ‘Chilleez’ Plushies Based on Its Default Profile Icons ---- neutral\n",
      "Wall Street Breakfast: Debt Ceiling And Default (Podcast) ---- neutral\n",
      "Wall Street Breakfast: Debt Ceiling And Default ---- negative\n",
      "3 Chinese Stocks to Buy on the Dip After Evergrande Default ---- positive\n",
      "S&P 500 Claws Back Losses on Easing Fears of U.S. Default By Investing.com ---- negative\n",
      "Alibaba, Tencent And Nio Rivals Xpeng, Li Auto Fall In Hong Kong As Evergrande, Kaisa Default On Payments ---- negative\n",
      "3 Chinese Stocks to Buy on the Dip After Evergrande Default ---- positive\n",
      "Asian Stocks Up as U.S. Avoids Immediate Default By Investing.com ---- negative\n",
      "Nomura, Credit Suisse Face 'Significant' Losses Following Hedge Fund's Default On Margin Calls ---- negative\n",
      "Nomura, Credit Suisse Face 'Significant' Losses Following Hedge Fund's Default On Margin Calls ---- negative\n",
      "Credit Suisse, Nomura Warn of Sizeable Losses After Hedge Fund’s Default ---- negative\n",
      "S&P 500 Claws Back Losses on Easing Fears of U.S. Default By Investing.com ---- negative\n"
     ]
    }
   ],
   "source": [
    "inputs = tokenizer(sentences, return_tensors=\"pt\", max_length=64, padding='max_length', truncation=True).to(device)\n",
    "outputs = finbert(**inputs, output_hidden_states=True)\n",
    "\n",
    "labels = {0:'neutral', 1:'positive',2:'negative'}\n",
    "for idx, sent in enumerate(sentences):\n",
    "    print(sent, '----', labels[np.argmax(outputs[0].cpu().detach().numpy()[idx])])"
   ]
  },
  {
   "cell_type": "code",
   "execution_count": 32,
   "metadata": {
    "ExecuteTime": {
     "end_time": "2022-01-11T15:08:47.186533Z",
     "start_time": "2022-01-11T15:08:47.172542Z"
    }
   },
   "outputs": [
    {
     "name": "stdout",
     "output_type": "stream",
     "text": [
      "<class 'transformers.modeling_outputs.SequenceClassifierOutput'>\n",
      "13\n",
      "torch.Size([3, 64, 768])\n"
     ]
    }
   ],
   "source": [
    "print(type(outputs))\n",
    "print(len(outputs.hidden_states)) #total hidden states\n",
    "print(outputs.hidden_states[-1].shape) #(batch_size, sequence_length, hidden_size)\n",
    "#sequence_length is longest seq in batch"
   ]
  },
  {
   "cell_type": "code",
   "execution_count": 36,
   "metadata": {
    "ExecuteTime": {
     "end_time": "2022-01-11T14:47:23.745411Z",
     "start_time": "2022-01-11T14:47:23.715427Z"
    }
   },
   "outputs": [
    {
     "name": "stdout",
     "output_type": "stream",
     "text": [
      "[[0.3754264]\n",
      " [0.4140498]] \n",
      "\n",
      "[[0.46129707]\n",
      " [0.47162113]] \n",
      "\n",
      "[[0.47874796]\n",
      " [0.48315597]] \n",
      "\n",
      "[[0.6744245 ]\n",
      " [0.66781634]] \n",
      "\n",
      "[[0.6612018]\n",
      " [0.6672796]] \n",
      "\n"
     ]
    }
   ],
   "source": [
    "from sklearn.metrics.pairwise import cosine_similarity\n",
    "\n",
    "def tests(layer):\n",
    "    x = lambda h_idx, sen: np.hstack(outputs.hidden_states[h_idx][sen].cpu().detach().numpy())\n",
    "    target = x(layer, 1)  #1st sentence\n",
    "    a = x(layer, 2) #2nd sentence\n",
    "    b = x(layer, 3)\n",
    "    # print(target.shape, a.shape, b.shape)\n",
    "\n",
    "    print(cosine_similarity([a, b], [target]), '\\n')\n",
    "tests(-1) #layer -1\n",
    "tests(-2) #layer -2 \n",
    "tests(-3)\n",
    "tests(0)\n",
    "tests(1)"
   ]
  },
  {
   "cell_type": "markdown",
   "metadata": {},
   "source": [
    "# Abhi's stuff modified "
   ]
  },
  {
   "cell_type": "code",
   "execution_count": 1,
   "metadata": {},
   "outputs": [],
   "source": [
    "# duplicates needs dropping (probably based on headline and summary)"
   ]
  },
  {
   "cell_type": "markdown",
   "metadata": {},
   "source": [
    "## Save news_df as csv (done once)"
   ]
  },
  {
   "cell_type": "code",
   "execution_count": 74,
   "metadata": {
    "ExecuteTime": {
     "end_time": "2022-01-13T10:13:41.174711Z",
     "start_time": "2022-01-13T10:13:35.949471Z"
    }
   },
   "outputs": [],
   "source": [
    "import sys\n",
    "import os\n",
    "\n",
    "import pandas as pd\n",
    "\n",
    "from database import database"
   ]
  },
  {
   "cell_type": "code",
   "execution_count": 8,
   "metadata": {
    "ExecuteTime": {
     "end_time": "2022-01-11T13:31:41.333722Z",
     "start_time": "2022-01-11T13:31:23.692701Z"
    }
   },
   "outputs": [],
   "source": [
    "news_doc = []\n",
    "for doc in database.news_collection.find({}):\n",
    "    news_doc.append(doc)"
   ]
  },
  {
   "cell_type": "code",
   "execution_count": 9,
   "metadata": {
    "ExecuteTime": {
     "end_time": "2022-01-11T13:32:41.175392Z",
     "start_time": "2022-01-11T13:32:40.076593Z"
    }
   },
   "outputs": [
    {
     "data": {
      "text/html": [
       "<div>\n",
       "<style scoped>\n",
       "    .dataframe tbody tr th:only-of-type {\n",
       "        vertical-align: middle;\n",
       "    }\n",
       "\n",
       "    .dataframe tbody tr th {\n",
       "        vertical-align: top;\n",
       "    }\n",
       "\n",
       "    .dataframe thead th {\n",
       "        text-align: right;\n",
       "    }\n",
       "</style>\n",
       "<table border=\"1\" class=\"dataframe\">\n",
       "  <thead>\n",
       "    <tr style=\"text-align: right;\">\n",
       "      <th></th>\n",
       "      <th>_id</th>\n",
       "      <th>datetime</th>\n",
       "      <th>headline</th>\n",
       "      <th>image</th>\n",
       "      <th>source</th>\n",
       "      <th>summary</th>\n",
       "      <th>url</th>\n",
       "      <th>api</th>\n",
       "      <th>counterparty</th>\n",
       "      <th>date</th>\n",
       "      <th>keyword_count</th>\n",
       "      <th>sentiment</th>\n",
       "      <th>category</th>\n",
       "      <th>related</th>\n",
       "      <th>id</th>\n",
       "    </tr>\n",
       "  </thead>\n",
       "  <tbody>\n",
       "    <tr>\n",
       "      <th>0</th>\n",
       "      <td>616a9214d6b0969db79ff380</td>\n",
       "      <td>1634342006</td>\n",
       "      <td>Dow Jones Futures: Microsoft, Tesla Rival Xpen...</td>\n",
       "      <td>https://s.yimg.com/uu/api/res/1.2/8E9xXtahKzzU...</td>\n",
       "      <td>Yahoo</td>\n",
       "      <td>With a confirmed market rally, how aggressive ...</td>\n",
       "      <td>https://finnhub.io/api/news?id=0a71ef5127fb093...</td>\n",
       "      <td>Finnhub</td>\n",
       "      <td>TSLA</td>\n",
       "      <td>2021-10-16</td>\n",
       "      <td>{}</td>\n",
       "      <td>0.0</td>\n",
       "      <td>NaN</td>\n",
       "      <td>NaN</td>\n",
       "      <td>NaN</td>\n",
       "    </tr>\n",
       "    <tr>\n",
       "      <th>1</th>\n",
       "      <td>616a9214d6b0969db79ff381</td>\n",
       "      <td>1634345700</td>\n",
       "      <td>Tesla Will Probably Beat Earnings Estimates. W...</td>\n",
       "      <td>https://s.yimg.com/ny/api/res/1.2/Gc1PiHZWDkam...</td>\n",
       "      <td>Yahoo</td>\n",
       "      <td>Tesla  will easily beat earnings expectations ...</td>\n",
       "      <td>https://finnhub.io/api/news?id=b21fa618c07df48...</td>\n",
       "      <td>Finnhub</td>\n",
       "      <td>TSLA</td>\n",
       "      <td>2021-10-16</td>\n",
       "      <td>{}</td>\n",
       "      <td>-1.0</td>\n",
       "      <td>NaN</td>\n",
       "      <td>NaN</td>\n",
       "      <td>NaN</td>\n",
       "    </tr>\n",
       "    <tr>\n",
       "      <th>2</th>\n",
       "      <td>616a9214d6b0969db79ff382</td>\n",
       "      <td>1634342280</td>\n",
       "      <td>Musk Trolls Bezos Over Wealth. He Could have T...</td>\n",
       "      <td>https://s.yimg.com/ny/api/res/1.2/eLHfCjFR8LCr...</td>\n",
       "      <td>Yahoo</td>\n",
       "      <td>In a tweet, the Tesla CEO drew attention to hi...</td>\n",
       "      <td>https://finnhub.io/api/news?id=e94ea5b855e79f8...</td>\n",
       "      <td>Finnhub</td>\n",
       "      <td>TSLA</td>\n",
       "      <td>2021-10-16</td>\n",
       "      <td>{}</td>\n",
       "      <td>-1.0</td>\n",
       "      <td>NaN</td>\n",
       "      <td>NaN</td>\n",
       "      <td>NaN</td>\n",
       "    </tr>\n",
       "    <tr>\n",
       "      <th>3</th>\n",
       "      <td>616a9214d6b0969db79ff383</td>\n",
       "      <td>1634335078</td>\n",
       "      <td>'Big Short' investor Burry says he's no longer...</td>\n",
       "      <td>https://s.yimg.com/uu/api/res/1.2/BnJkedCmxSup...</td>\n",
       "      <td>Yahoo</td>\n",
       "      <td>Burry's Scion Asset Management said in a regul...</td>\n",
       "      <td>https://finnhub.io/api/news?id=d162aec79de9fdb...</td>\n",
       "      <td>Finnhub</td>\n",
       "      <td>TSLA</td>\n",
       "      <td>2021-10-16</td>\n",
       "      <td>{}</td>\n",
       "      <td>1.0</td>\n",
       "      <td>NaN</td>\n",
       "      <td>NaN</td>\n",
       "      <td>NaN</td>\n",
       "    </tr>\n",
       "    <tr>\n",
       "      <th>4</th>\n",
       "      <td>616a9214d6b0969db79ff385</td>\n",
       "      <td>1634334249</td>\n",
       "      <td>Into the Heart of Q3 Earnings Season</td>\n",
       "      <td>https://s.yimg.com/uu/api/res/1.2/Dbt0ApA69Vv9...</td>\n",
       "      <td>Yahoo</td>\n",
       "      <td>The big banks got us off to a flying start in ...</td>\n",
       "      <td>https://finnhub.io/api/news?id=f453ec3b3fffc3e...</td>\n",
       "      <td>Finnhub</td>\n",
       "      <td>TSLA</td>\n",
       "      <td>2021-10-16</td>\n",
       "      <td>{}</td>\n",
       "      <td>1.0</td>\n",
       "      <td>NaN</td>\n",
       "      <td>NaN</td>\n",
       "      <td>NaN</td>\n",
       "    </tr>\n",
       "  </tbody>\n",
       "</table>\n",
       "</div>"
      ],
      "text/plain": [
       "                        _id    datetime  \\\n",
       "0  616a9214d6b0969db79ff380  1634342006   \n",
       "1  616a9214d6b0969db79ff381  1634345700   \n",
       "2  616a9214d6b0969db79ff382  1634342280   \n",
       "3  616a9214d6b0969db79ff383  1634335078   \n",
       "4  616a9214d6b0969db79ff385  1634334249   \n",
       "\n",
       "                                            headline  \\\n",
       "0  Dow Jones Futures: Microsoft, Tesla Rival Xpen...   \n",
       "1  Tesla Will Probably Beat Earnings Estimates. W...   \n",
       "2  Musk Trolls Bezos Over Wealth. He Could have T...   \n",
       "3  'Big Short' investor Burry says he's no longer...   \n",
       "4               Into the Heart of Q3 Earnings Season   \n",
       "\n",
       "                                               image source  \\\n",
       "0  https://s.yimg.com/uu/api/res/1.2/8E9xXtahKzzU...  Yahoo   \n",
       "1  https://s.yimg.com/ny/api/res/1.2/Gc1PiHZWDkam...  Yahoo   \n",
       "2  https://s.yimg.com/ny/api/res/1.2/eLHfCjFR8LCr...  Yahoo   \n",
       "3  https://s.yimg.com/uu/api/res/1.2/BnJkedCmxSup...  Yahoo   \n",
       "4  https://s.yimg.com/uu/api/res/1.2/Dbt0ApA69Vv9...  Yahoo   \n",
       "\n",
       "                                             summary  \\\n",
       "0  With a confirmed market rally, how aggressive ...   \n",
       "1  Tesla  will easily beat earnings expectations ...   \n",
       "2  In a tweet, the Tesla CEO drew attention to hi...   \n",
       "3  Burry's Scion Asset Management said in a regul...   \n",
       "4  The big banks got us off to a flying start in ...   \n",
       "\n",
       "                                                 url      api counterparty  \\\n",
       "0  https://finnhub.io/api/news?id=0a71ef5127fb093...  Finnhub         TSLA   \n",
       "1  https://finnhub.io/api/news?id=b21fa618c07df48...  Finnhub         TSLA   \n",
       "2  https://finnhub.io/api/news?id=e94ea5b855e79f8...  Finnhub         TSLA   \n",
       "3  https://finnhub.io/api/news?id=d162aec79de9fdb...  Finnhub         TSLA   \n",
       "4  https://finnhub.io/api/news?id=f453ec3b3fffc3e...  Finnhub         TSLA   \n",
       "\n",
       "         date keyword_count  sentiment category related  id  \n",
       "0  2021-10-16            {}        0.0      NaN     NaN NaN  \n",
       "1  2021-10-16            {}       -1.0      NaN     NaN NaN  \n",
       "2  2021-10-16            {}       -1.0      NaN     NaN NaN  \n",
       "3  2021-10-16            {}        1.0      NaN     NaN NaN  \n",
       "4  2021-10-16            {}        1.0      NaN     NaN NaN  "
      ]
     },
     "execution_count": 9,
     "metadata": {},
     "output_type": "execute_result"
    }
   ],
   "source": [
    "news_df = pd.DataFrame(news_doc)\n",
    "news_df.head()"
   ]
  },
  {
   "cell_type": "code",
   "execution_count": 10,
   "metadata": {
    "ExecuteTime": {
     "end_time": "2022-01-11T13:33:02.504063Z",
     "start_time": "2022-01-11T13:32:57.479553Z"
    }
   },
   "outputs": [],
   "source": [
    "news_df.to_csv('./news_df.csv')"
   ]
  },
  {
   "cell_type": "markdown",
   "metadata": {},
   "source": [
    "## Batch inf embeddings for all articles"
   ]
  },
  {
   "cell_type": "code",
   "execution_count": 75,
   "metadata": {
    "ExecuteTime": {
     "end_time": "2022-01-13T10:13:41.406736Z",
     "start_time": "2022-01-13T10:13:41.393714Z"
    }
   },
   "outputs": [],
   "source": [
    "import pandas as pd\n",
    "\n",
    "news_df = pd.read_csv('./news_df.csv')\n",
    "headlines = list(news_df.headline.fillna('NaN'))\n",
    "headlines"
   ]
  },
  {
   "cell_type": "code",
   "execution_count": 7,
   "metadata": {
    "ExecuteTime": {
     "end_time": "2022-01-13T08:47:08.475199Z",
     "start_time": "2022-01-13T08:47:08.462190Z"
    }
   },
   "outputs": [],
   "source": [
    "def batch_inf(sentences):\n",
    "    inputs = tokenizer(sentences, return_tensors=\"pt\", max_length=64, padding='max_length', truncation=True).to(device)\n",
    "    outputs = finbert(**inputs, output_hidden_states=True)\n",
    "    \n",
    "    ret = outputs.hidden_states[-1].cpu().detach().numpy() #last layer hidden (batch, seq_len, emb_dim)\n",
    "    return ret.reshape(ret.shape[0], ret.shape[1]*ret.shape[2]) #flatten to 1-d"
   ]
  },
  {
   "cell_type": "code",
   "execution_count": 8,
   "metadata": {
    "ExecuteTime": {
     "end_time": "2022-01-11T14:28:05.094167Z",
     "start_time": "2022-01-11T14:17:19.218822Z"
    },
    "deletable": false,
    "editable": false,
    "run_control": {
     "frozen": true
    }
   },
   "outputs": [
    {
     "name": "stderr",
     "output_type": "stream",
     "text": [
      "\r",
      "  0%|                                                                     | 0/3955 [00:00<?, ?it/s]"
     ]
    },
    {
     "name": "stdout",
     "output_type": "stream",
     "text": [
      "start\n"
     ]
    },
    {
     "name": "stderr",
     "output_type": "stream",
     "text": [
      "100%|██████████████████████████████████████████████████████████| 3955/3955 [10:45<00:00,  6.12it/s]\n"
     ]
    }
   ],
   "source": [
    "#save all embeddings as np array files\n",
    "from tqdm import tqdm\n",
    "print('start')\n",
    "embeds = []\n",
    "batch_size = 64\n",
    "for i in tqdm(range(0, len(headlines), batch_size)):\n",
    "    batch = headlines[i:i+batch_size]\n",
    "    ret = batch_inf(batch)\n",
    "\n",
    "    temp = np.array((batch + [''], ret))\n",
    "    with open(f'./saved_arrays/{i}.npy', 'wb') as f:\n",
    "        np.save(f, temp)\n"
   ]
  },
  {
   "cell_type": "code",
   "execution_count": 39,
   "metadata": {
    "ExecuteTime": {
     "end_time": "2022-01-11T13:59:13.969083Z",
     "start_time": "2022-01-11T13:59:13.898073Z"
    }
   },
   "outputs": [
    {
     "name": "stdout",
     "output_type": "stream",
     "text": [
      "GPU memory: 418.0\n"
     ]
    }
   ],
   "source": [
    "torch.cuda.empty_cache()\n",
    "check_memory()"
   ]
  },
  {
   "cell_type": "markdown",
   "metadata": {},
   "source": [
    "## Find articles similar to keywords"
   ]
  },
  {
   "cell_type": "code",
   "execution_count": 103,
   "metadata": {
    "ExecuteTime": {
     "end_time": "2022-01-13T10:23:58.518329Z",
     "start_time": "2022-01-13T10:23:58.497143Z"
    }
   },
   "outputs": [],
   "source": [
    "keywords = [\"Ownership change\", \"Change of control\", \"Acceleration\", \"accelerate\", \"default\", \"Insolvency\", \"Insolvent\", \"Delay\", \"Late\", \"Failure\", \"fail\", \"Dispute\", \"Liquidation\", \"Liquidator\", \"Margin call\", \"Haircut\", \"Bank run\", \"Termination\", \"Moratorium\", \"Suspension\", \"Suspend\", \"Fraud\", \"misrepresentation\", \"Fine\", \"sanction\", \"Breach\", \"Reschedule\", \"Restructuring\", \"Restructure\", \"Credit event\", \"Losses\", \"Loss\", \"Bailout\", \"Bailin\", \"Bankrupt\", \"Receivership\", \"Receiver\", \"Judicial Management\", \"Judicial Manager\", \"Administration\", \"Administrator\", \"Sequestrate\", \"Sequestration\", \"Support\", \"Capital call\", \"Liquidity event\", \"Negative trends\", \"Price changes\", \"Board infighting\", \"Corruption\", \"Inappropriate or ultra vires dealings\", \"Negative working capital\", \"Acquisition\", \"LBO\", \"Qualified audit opinion\", \"Regulatory breach\", \"Non-performing assets\", \"Provisions\", \"Force majeur\", \"Distress\", \"Frozen\", \"Delisted\", \"Sued\", \"Suit\", \"Arrested\", \"Disappeared\", \"Uncontactable\"]\n",
    "\n",
    "def keyword_count(news):\n",
    "    keywords_count_dict = {}\n",
    "    \n",
    "    for keyword in keywords:\n",
    "        for news_str in news:\n",
    "            news_str = news_str.lower().split()\n",
    "            for word in news_str:\n",
    "                if keyword == word:\n",
    "                    keywords_count_dict[keyword] = keywords_count_dict.get(keyword, 0) + 1\n",
    "    \n",
    "    return keywords_count_dict\n",
    "\n",
    "def keyword_ret(news, keyword):\n",
    "    matched_titles = []\n",
    "    \n",
    "    for news_str in news:\n",
    "        for word in news_str.lower().split():\n",
    "            if keyword == word:\n",
    "                matched_titles.append(news_str)\n",
    "    \n",
    "    return matched_titles\n",
    "\n",
    "def plot_keyword_frequency (news_keyword_frequency):\n",
    "    news_list = news_keyword_frequency.items()\n",
    "    print(news_list)\n",
    "#     news_list = sorted(news_list) \n",
    "    x, y = zip(*news_list)\n",
    "\n",
    "    plt.rcParams[\"figure.figsize\"] = (20,3)\n",
    "    plt.plot(x, y)\n",
    "    plt.xticks(rotation='vertical')\n",
    "    plt.show()\n",
    "    \n",
    "def keyword_wordcloud (text_string):\n",
    "    wordcloud = WordCloud().generate(text_string)\n",
    "\n",
    "    plt.imshow(wordcloud, interpolation='bilinear')\n",
    "    plt.axis(\"off\")\n",
    "    plt.show()"
   ]
  },
  {
   "cell_type": "code",
   "execution_count": 111,
   "metadata": {
    "ExecuteTime": {
     "end_time": "2022-01-13T10:49:07.843165Z",
     "start_time": "2022-01-13T10:49:07.122155Z"
    }
   },
   "outputs": [],
   "source": [
    "sued_list = keyword_ret(news_df.headline.fillna('NaN'), 'sued')\n",
    "defaulted_list = keyword_ret(news_df.headline.fillna('NaN'), 'default')"
   ]
  },
  {
   "cell_type": "code",
   "execution_count": 126,
   "metadata": {
    "ExecuteTime": {
     "end_time": "2022-01-13T11:21:43.173562Z",
     "start_time": "2022-01-13T11:21:43.160562Z"
    },
    "scrolled": true
   },
   "outputs": [
    {
     "name": "stdout",
     "output_type": "stream",
     "text": [
      "79\n"
     ]
    },
    {
     "data": {
      "text/plain": [
       "['Tesla Sued Rivian Over Batteries, EV Trade Secrets. It’s Not a Big Deal, Yet.',\n",
       " 'Tesla sued over crash that injured Houston-area police officers',\n",
       " \"Tesla-Built 'Big Battery' Allegedly Failed To Provide Essential Services in Australia — Operator Gets Sued By Energy Regulator\",\n",
       " 'Apple, Google Sued By Jawbone Over Patent Violations In Noise-Canceling Technology: Report',\n",
       " 'Apple Sued Over Allegedly Concealing Defect That Causes M1 MacBook Screens To Crack',\n",
       " 'Google\\xa0to Be Sued by States Over Alleged Play Store Abuse',\n",
       " 'Google sued by states alleging Play Store fees violate antitrust law',\n",
       " 'AAPL Stock Slightly Up, Apple Sued for Failing to Remove Telegram from App Store',\n",
       " 'Apple Sued Over Not Taking Down Telegram After Capitol Hill Riot',\n",
       " 'Apple sued by group insisting it curb Telegram after Capitol attack',\n",
       " 'Apple sued by rival over alleged App Store monopoly - TechCentral',\n",
       " 'Apple is sued by rival over alleged App Store monopoly',\n",
       " 'Apple is sued by rival over alleged App Store monopoly | MarketScreener',\n",
       " 'Apple is sued by rival over alleged App Store monopoly',\n",
       " 'Apple Sued For $200M In EU Over Allegations It Deliberately Slowed Down iPhones To Mask Battery Issues',\n",
       " 'Why Apple Will Be Sued Over Tim Cook’s IPhone Comment',\n",
       " 'Game On: Activision Blizzard sued in California over workplace discrimination',\n",
       " 'Tesla Is Sued Over Workplace Issues Again. This Is What to Watch.',\n",
       " 'Apple Sued Over Apple Watch Screen Allegedly Causing Injury',\n",
       " 'Apple Sued Over Watch Safety Issues',\n",
       " 'Apple Sued By Customers For Alleged Defect In Apple Watch That Can Cause Injuries',\n",
       " 'Tesla sued by second female worker over sexual harassment, retaliation',\n",
       " '6 women workers have sued Tesla over alleged sexual harassment at its Fremont factory',\n",
       " 'Tesla Is Sued Over Workplace Issues Again. This Is What to Watch.',\n",
       " 'Tesla Sued By JPMorgan Over Refusing To Pay Up $162M In Dispute Over Warrants',\n",
       " 'Gilead Sciences sued over royalty payments on key HIV drug',\n",
       " 'Moderna could be sued over vaccines as court upholds patents',\n",
       " 'Explainer-Why is Toyota being sued by supplier Nippon Steel?',\n",
       " 'EXPLAINER-Why is Toyota being sued by supplier Nippon Steel?  ',\n",
       " 'Tesla Is Sued Over Autopilot Feature Used by Alleged Drunk Driver',\n",
       " 'Samsung Sued by Caltech Over Alleged Wi-Fi Patent Infringement',\n",
       " 'TikTok Sued by Content Moderator Traumatized by Graphic Videos',\n",
       " 'Apple, Google Sued By Jawbone Over Patent Violations In Noise-Canceling Technology: Report',\n",
       " 'BitConnect Founder Sued as SEC Alleges $2 Billion Crypto Scheme',\n",
       " 'Google Sued Over Alleged Play Store Abuses – Report',\n",
       " 'Google\\xa0to Be Sued by States Over Alleged Play Store Abuse',\n",
       " 'Google sued by states alleging Play Store fees violate antitrust law',\n",
       " 'Apple Sued Over Not Taking Down Telegram After Capitol Hill Riot',\n",
       " 'Google Sued By YouTube Rival Over Search Rankings ',\n",
       " 'TikTok Sued by Content Moderator Traumatized by Graphic Videos',\n",
       " 'Facebook could be sued by consumer groups, EU court adviser says',\n",
       " 'UPDATE 1-Facebook could be sued by consumer groups, EU court adviser says',\n",
       " 'UPDATE 1-Facebook could be sued by consumer groups, EU court adviser says ',\n",
       " 'Facebook Sued By Photo App Phhhoto And Crushed The Company: Lawsuit',\n",
       " 'Dua Lipa Sued After Sharing Paparazzi Photo Of Herself On Instagram',\n",
       " 'Google\\xa0to Be Sued by States Over Alleged Play Store Abuse',\n",
       " 'Facebook sued for failing to remove anti-Muslim and hate posts',\n",
       " 'Facebook Sued in France Over Hate Speech, False Information',\n",
       " \"Facebook sued for 'deceptive practices' over disinformation on platform\",\n",
       " 'Facebook Sued by French Freedom Group, Accuses Platform Does Little to Stop Hate Speeches, Misinformation',\n",
       " \"Facebook Sued in UK for 'Losing Control' of User Data\",\n",
       " \"Netflix's 'Squid Game' is so popular a South Korean internet provider sued over the surge in traffic\",\n",
       " \"Netflix Sued For Defamation Over 'Varsity Blues' Documentary, Could Force Netflix To Remove Title From Platform\",\n",
       " 'Game On: Activision Blizzard sued in California over workplace discrimination',\n",
       " 'LAWSUIT FILED: PAYPAL HOLDINGS Sued for Securities Law Violations; Investors Should Contact Block & Leviton for More Information',\n",
       " 'LAWSUIT FILED: PAYPAL HOLDINGS Sued for Securities Law Violations; Investors Should Contact Block & Leviton for More Information',\n",
       " 'Shopify sued by publishers accusing company of profiting from textbook piracy',\n",
       " 'Amazon sued by warehouse workers over COVID-19 screening pay',\n",
       " 'Amazon com : sued by warehouse workers over COVID-19 screening pay',\n",
       " 'Amazon Sued by U.S. Product-Safety Agency Over Dangerous Items',\n",
       " 'Sony sued for allegedly operating monopoly with PS store, Bloomberg says',\n",
       " 'Amazon sued over discrimination, sexual harassment claims',\n",
       " \"Amazon Sued for 'Systemic Pattern' of Anti-Black Racism and Equal Pay Act Violations\",\n",
       " 'Amazon sued for alleged race, gender bias in corporate hires',\n",
       " 'Amazon Sued By NY Attorney General Over COVID-19 Safety Issues -Report',\n",
       " 'Amazon Lawsuit: Why The E-Commerce Giant Is Being Sued Over Its Handling Of COVID',\n",
       " 'Amazon Sued By New York For Failing To Adequately Protect Workers During Pandemic',\n",
       " 'Apple Sued Over Not Taking Down Telegram After Capitol Hill Riot',\n",
       " 'Walmart Sued For Allegedly Dumping Toxic Waste',\n",
       " 'Walmart sued by EEOC for sexual harassment',\n",
       " 'Walmart sued by Kanye West over Yeezy Foam Runners, BI reports',\n",
       " 'Sony sued for allegedly operating monopoly with PS store, Bloomberg says',\n",
       " 'Tesla Sued By JPMorgan Over Refusing To Pay Up $162M In Dispute Over Warrants',\n",
       " 'Deutsche (DB), JPMorgan (JPM) Sued by Malaysia Over 1MDB',\n",
       " 'Goldman, Morgan Stanley Sued Over Archegos-Tied Stock Sales',\n",
       " 'Schwab Sued Over Robo’s ‘Excessive’ Cash Allocation',\n",
       " 'Moderna could be sued over vaccines as court upholds patents',\n",
       " 'Moderna could be sued over vaccines as court upholds Arbutus patents',\n",
       " 'Moderna could be sued over vaccines as court upholds patents']"
      ]
     },
     "execution_count": 126,
     "metadata": {},
     "output_type": "execute_result"
    }
   ],
   "source": [
    "target_list = sued_list\n",
    "print(len(target_list))\n",
    "target_list"
   ]
  },
  {
   "cell_type": "code",
   "execution_count": 129,
   "metadata": {
    "ExecuteTime": {
     "end_time": "2022-01-13T11:22:48.335431Z",
     "start_time": "2022-01-13T11:22:47.989430Z"
    }
   },
   "outputs": [],
   "source": [
    "target_embs = batch_inf(target_list)\n",
    "target_centroid = np.mean(target_embs, axis=0)"
   ]
  },
  {
   "cell_type": "code",
   "execution_count": 131,
   "metadata": {
    "ExecuteTime": {
     "end_time": "2022-01-13T11:34:47.507746Z",
     "start_time": "2022-01-13T11:24:14.612353Z"
    }
   },
   "outputs": [
    {
     "name": "stderr",
     "output_type": "stream",
     "text": [
      "100%|██████████████████████████████████████████████████████████| 3955/3955 [10:32<00:00,  6.25it/s]\n"
     ]
    }
   ],
   "source": [
    "import os\n",
    "from sklearn.metrics.pairwise import cosine_similarity\n",
    "from tqdm import tqdm\n",
    "\n",
    "def get_sim_articles(target_centroid):\n",
    "    results = []\n",
    "    folder = './saved_arrays/'\n",
    "    min_score = 0.65\n",
    "    for file_name in tqdm(os.listdir(folder)):\n",
    "        array = np.load(os.path.join(folder, file_name), allow_pickle=True)\n",
    "\n",
    "        scores = cosine_similarity(array[1], [target_centroid])\n",
    "\n",
    "        matched_headlines = np.array(array[0])[np.where(scores > min_score)[0]].reshape(-1)\n",
    "        matched_scores = scores[np.where(scores > min_score)[0]].reshape(-1)\n",
    "\n",
    "        for i in zip(matched_headlines, matched_scores):\n",
    "            results.append(i)\n",
    "            \n",
    "    return results\n",
    "\n",
    "results = get_sim_articles(target_centroid)"
   ]
  },
  {
   "cell_type": "code",
   "execution_count": 136,
   "metadata": {
    "ExecuteTime": {
     "end_time": "2022-01-13T11:42:40.489168Z",
     "start_time": "2022-01-13T11:42:40.431772Z"
    }
   },
   "outputs": [],
   "source": [
    "def gen_result_csv(keyword):\n",
    "    results_df = pd.DataFrame(results).sort_values([1], ascending=False)\n",
    "\n",
    "    results_df['contains keyword'] = results_df.apply(lambda row: keyword in row[0].lower(), axis = 1)\n",
    "    results_df.to_csv(f'./sim_{keyword}.csv')\n",
    "    \n",
    "gen_result_csv('sued')"
   ]
  },
  {
   "cell_type": "markdown",
   "metadata": {},
   "source": [
    "### Other Experiments"
   ]
  },
  {
   "cell_type": "code",
   "execution_count": 44,
   "metadata": {
    "ExecuteTime": {
     "end_time": "2022-01-13T09:41:36.976075Z",
     "start_time": "2022-01-13T09:41:36.921075Z"
    }
   },
   "outputs": [],
   "source": [
    "target = batch_inf([\"Dow Jones Futures Rebound After Stock Market Sells Off On China Property Default Fears; These 4 Top Growth Stocks Tumbled\"])"
   ]
  },
  {
   "cell_type": "code",
   "execution_count": 46,
   "metadata": {
    "ExecuteTime": {
     "end_time": "2022-01-13T09:43:22.536083Z",
     "start_time": "2022-01-13T09:43:22.071084Z"
    }
   },
   "outputs": [
    {
     "data": {
      "text/html": [
       "<div>\n",
       "<style scoped>\n",
       "    .dataframe tbody tr th:only-of-type {\n",
       "        vertical-align: middle;\n",
       "    }\n",
       "\n",
       "    .dataframe tbody tr th {\n",
       "        vertical-align: top;\n",
       "    }\n",
       "\n",
       "    .dataframe thead th {\n",
       "        text-align: right;\n",
       "    }\n",
       "</style>\n",
       "<table border=\"1\" class=\"dataframe\">\n",
       "  <thead>\n",
       "    <tr style=\"text-align: right;\">\n",
       "      <th></th>\n",
       "      <th>0</th>\n",
       "      <th>1</th>\n",
       "    </tr>\n",
       "  </thead>\n",
       "  <tbody>\n",
       "    <tr>\n",
       "      <th>0</th>\n",
       "      <td>Dow Jones Futures Rebound After Stock Market S...</td>\n",
       "      <td>[0.71440923]</td>\n",
       "    </tr>\n",
       "    <tr>\n",
       "      <th>1</th>\n",
       "      <td>Dow Jones Futures Rise After Stock Market Sell...</td>\n",
       "      <td>[0.7163255]</td>\n",
       "    </tr>\n",
       "    <tr>\n",
       "      <th>2</th>\n",
       "      <td>With U.S. Credit Default No Longer a Likely Th...</td>\n",
       "      <td>[0.58092976]</td>\n",
       "    </tr>\n",
       "    <tr>\n",
       "      <th>3</th>\n",
       "      <td>S&amp;P 500 Claws Back Losses on Easing Fears of U...</td>\n",
       "      <td>[0.7006258]</td>\n",
       "    </tr>\n",
       "    <tr>\n",
       "      <th>4</th>\n",
       "      <td>Dow Jones Futures Rise Despite China's Evergra...</td>\n",
       "      <td>[0.6940906]</td>\n",
       "    </tr>\n",
       "    <tr>\n",
       "      <th>5</th>\n",
       "      <td>Dow Jones Futures Dive On China Default Fears ...</td>\n",
       "      <td>[0.65235835]</td>\n",
       "    </tr>\n",
       "    <tr>\n",
       "      <th>6</th>\n",
       "      <td>Apple — Highlighting Commitment To 'Diversity'...</td>\n",
       "      <td>[0.54011375]</td>\n",
       "    </tr>\n",
       "    <tr>\n",
       "      <th>7</th>\n",
       "      <td>No, Apple Still Won't  Quite Let You Set A Def...</td>\n",
       "      <td>[0.5193939]</td>\n",
       "    </tr>\n",
       "    <tr>\n",
       "      <th>8</th>\n",
       "      <td>Google Pays Apple $8-12 Bn Every Year To Be De...</td>\n",
       "      <td>[0.51391816]</td>\n",
       "    </tr>\n",
       "    <tr>\n",
       "      <th>9</th>\n",
       "      <td>DOJ: Google Pays up to $12B Just to Be the  De...</td>\n",
       "      <td>[0.56565404]</td>\n",
       "    </tr>\n",
       "    <tr>\n",
       "      <th>10</th>\n",
       "      <td>Dow Jones Futures Rebound After Stock Market S...</td>\n",
       "      <td>[0.71440923]</td>\n",
       "    </tr>\n",
       "    <tr>\n",
       "      <th>11</th>\n",
       "      <td>Dow Jones Futures Rise After Stock Market Sell...</td>\n",
       "      <td>[0.7163255]</td>\n",
       "    </tr>\n",
       "    <tr>\n",
       "      <th>12</th>\n",
       "      <td>Dow Jones Futures Dive On China Default Fears ...</td>\n",
       "      <td>[0.65235835]</td>\n",
       "    </tr>\n",
       "    <tr>\n",
       "      <th>13</th>\n",
       "      <td>Alibaba, Tencent And Nio Rivals Xpeng, Li Auto...</td>\n",
       "      <td>[0.63748765]</td>\n",
       "    </tr>\n",
       "    <tr>\n",
       "      <th>14</th>\n",
       "      <td>3 Chinese Stocks to Buy on the Dip After Everg...</td>\n",
       "      <td>[0.6592885]</td>\n",
       "    </tr>\n",
       "    <tr>\n",
       "      <th>15</th>\n",
       "      <td>Alibaba, Tencent And Nio Rivals Xpeng, Li Auto...</td>\n",
       "      <td>[0.63748765]</td>\n",
       "    </tr>\n",
       "    <tr>\n",
       "      <th>16</th>\n",
       "      <td>Alibaba, Tencent And Nio Rivals Xpeng, Li Auto...</td>\n",
       "      <td>[0.63748765]</td>\n",
       "    </tr>\n",
       "    <tr>\n",
       "      <th>17</th>\n",
       "      <td>S&amp;P 500 Claws Back Losses on Easing Fears of U...</td>\n",
       "      <td>[0.7006258]</td>\n",
       "    </tr>\n",
       "    <tr>\n",
       "      <th>18</th>\n",
       "      <td>Dow Jones Today Chases Nasdaq Lower As Yellen ...</td>\n",
       "      <td>[0.5650544]</td>\n",
       "    </tr>\n",
       "    <tr>\n",
       "      <th>19</th>\n",
       "      <td>Alibaba, Tencent And Nio Rivals Xpeng, Li Auto...</td>\n",
       "      <td>[0.63748765]</td>\n",
       "    </tr>\n",
       "    <tr>\n",
       "      <th>20</th>\n",
       "      <td>3 Chinese Stocks to Buy on the Dip After Everg...</td>\n",
       "      <td>[0.6592885]</td>\n",
       "    </tr>\n",
       "    <tr>\n",
       "      <th>21</th>\n",
       "      <td>Dow Jones Futures Rise Despite China's Evergra...</td>\n",
       "      <td>[0.6940906]</td>\n",
       "    </tr>\n",
       "    <tr>\n",
       "      <th>22</th>\n",
       "      <td>Dow Jones Futures Rebound After Stock Market S...</td>\n",
       "      <td>[0.71440923]</td>\n",
       "    </tr>\n",
       "    <tr>\n",
       "      <th>23</th>\n",
       "      <td>Dow Jones Futures Rise After Stock Market Sell...</td>\n",
       "      <td>[0.7163255]</td>\n",
       "    </tr>\n",
       "    <tr>\n",
       "      <th>24</th>\n",
       "      <td>Dow Jones Futures: Market Sells Off Amid Yelle...</td>\n",
       "      <td>[0.65780795]</td>\n",
       "    </tr>\n",
       "    <tr>\n",
       "      <th>25</th>\n",
       "      <td>REITs Are Recurring Revenue Models By Default</td>\n",
       "      <td>[0.55729043]</td>\n",
       "    </tr>\n",
       "    <tr>\n",
       "      <th>26</th>\n",
       "      <td>S&amp;P 500 Claws Back Losses on Easing Fears of U...</td>\n",
       "      <td>[0.7006258]</td>\n",
       "    </tr>\n",
       "    <tr>\n",
       "      <th>27</th>\n",
       "      <td>Dow Jones Futures: Market Sells Off Amid Yelle...</td>\n",
       "      <td>[0.65780795]</td>\n",
       "    </tr>\n",
       "    <tr>\n",
       "      <th>28</th>\n",
       "      <td>Dow Jones Futures Dive On China Default Fears ...</td>\n",
       "      <td>[0.65235835]</td>\n",
       "    </tr>\n",
       "    <tr>\n",
       "      <th>29</th>\n",
       "      <td>Microsoft Excel New Updates Unlock Default Ful...</td>\n",
       "      <td>[0.55558693]</td>\n",
       "    </tr>\n",
       "    <tr>\n",
       "      <th>30</th>\n",
       "      <td>S&amp;P 500 Claws Back Losses on Easing Fears of U...</td>\n",
       "      <td>[0.7006258]</td>\n",
       "    </tr>\n",
       "    <tr>\n",
       "      <th>31</th>\n",
       "      <td>Dow Jones Futures: Market Sells Off Amid Yelle...</td>\n",
       "      <td>[0.65780795]</td>\n",
       "    </tr>\n",
       "    <tr>\n",
       "      <th>32</th>\n",
       "      <td>YouTube Will Make Video Uploads Private by Def...</td>\n",
       "      <td>[0.5211085]</td>\n",
       "    </tr>\n",
       "    <tr>\n",
       "      <th>33</th>\n",
       "      <td>Facebook : More Control and Privacy on WhatsAp...</td>\n",
       "      <td>[0.5231971]</td>\n",
       "    </tr>\n",
       "    <tr>\n",
       "      <th>34</th>\n",
       "      <td>Dow Jones Futures Rise Despite China's Evergra...</td>\n",
       "      <td>[0.6940906]</td>\n",
       "    </tr>\n",
       "    <tr>\n",
       "      <th>35</th>\n",
       "      <td>REITs Are Recurring Revenue Models By Default</td>\n",
       "      <td>[0.55729043]</td>\n",
       "    </tr>\n",
       "    <tr>\n",
       "      <th>36</th>\n",
       "      <td>Netflix and Cuddle: Streamer Launches ‘Chillee...</td>\n",
       "      <td>[0.50297856]</td>\n",
       "    </tr>\n",
       "    <tr>\n",
       "      <th>37</th>\n",
       "      <td>Wall Street Breakfast: Debt Ceiling And Defaul...</td>\n",
       "      <td>[0.51278985]</td>\n",
       "    </tr>\n",
       "    <tr>\n",
       "      <th>38</th>\n",
       "      <td>Wall Street Breakfast: Debt Ceiling And Default</td>\n",
       "      <td>[0.49342775]</td>\n",
       "    </tr>\n",
       "    <tr>\n",
       "      <th>39</th>\n",
       "      <td>3 Chinese Stocks to Buy on the Dip After Everg...</td>\n",
       "      <td>[0.6592885]</td>\n",
       "    </tr>\n",
       "    <tr>\n",
       "      <th>40</th>\n",
       "      <td>S&amp;P 500 Claws Back Losses on Easing Fears of U...</td>\n",
       "      <td>[0.7006258]</td>\n",
       "    </tr>\n",
       "    <tr>\n",
       "      <th>41</th>\n",
       "      <td>Alibaba, Tencent And Nio Rivals Xpeng, Li Auto...</td>\n",
       "      <td>[0.63748765]</td>\n",
       "    </tr>\n",
       "    <tr>\n",
       "      <th>42</th>\n",
       "      <td>3 Chinese Stocks to Buy on the Dip After Everg...</td>\n",
       "      <td>[0.6592885]</td>\n",
       "    </tr>\n",
       "    <tr>\n",
       "      <th>43</th>\n",
       "      <td>Asian Stocks Up as U.S. Avoids Immediate Defau...</td>\n",
       "      <td>[0.54879737]</td>\n",
       "    </tr>\n",
       "    <tr>\n",
       "      <th>44</th>\n",
       "      <td>Nomura, Credit Suisse Face 'Significant' Losse...</td>\n",
       "      <td>[0.6316571]</td>\n",
       "    </tr>\n",
       "    <tr>\n",
       "      <th>45</th>\n",
       "      <td>Nomura, Credit Suisse Face 'Significant' Losse...</td>\n",
       "      <td>[0.6316571]</td>\n",
       "    </tr>\n",
       "    <tr>\n",
       "      <th>46</th>\n",
       "      <td>Credit Suisse, Nomura Warn of Sizeable Losses ...</td>\n",
       "      <td>[0.6713637]</td>\n",
       "    </tr>\n",
       "    <tr>\n",
       "      <th>47</th>\n",
       "      <td>S&amp;P 500 Claws Back Losses on Easing Fears of U...</td>\n",
       "      <td>[0.7006258]</td>\n",
       "    </tr>\n",
       "  </tbody>\n",
       "</table>\n",
       "</div>"
      ],
      "text/plain": [
       "                                                    0             1\n",
       "0   Dow Jones Futures Rebound After Stock Market S...  [0.71440923]\n",
       "1   Dow Jones Futures Rise After Stock Market Sell...   [0.7163255]\n",
       "2   With U.S. Credit Default No Longer a Likely Th...  [0.58092976]\n",
       "3   S&P 500 Claws Back Losses on Easing Fears of U...   [0.7006258]\n",
       "4   Dow Jones Futures Rise Despite China's Evergra...   [0.6940906]\n",
       "5   Dow Jones Futures Dive On China Default Fears ...  [0.65235835]\n",
       "6   Apple — Highlighting Commitment To 'Diversity'...  [0.54011375]\n",
       "7   No, Apple Still Won't  Quite Let You Set A Def...   [0.5193939]\n",
       "8   Google Pays Apple $8-12 Bn Every Year To Be De...  [0.51391816]\n",
       "9   DOJ: Google Pays up to $12B Just to Be the  De...  [0.56565404]\n",
       "10  Dow Jones Futures Rebound After Stock Market S...  [0.71440923]\n",
       "11  Dow Jones Futures Rise After Stock Market Sell...   [0.7163255]\n",
       "12  Dow Jones Futures Dive On China Default Fears ...  [0.65235835]\n",
       "13  Alibaba, Tencent And Nio Rivals Xpeng, Li Auto...  [0.63748765]\n",
       "14  3 Chinese Stocks to Buy on the Dip After Everg...   [0.6592885]\n",
       "15  Alibaba, Tencent And Nio Rivals Xpeng, Li Auto...  [0.63748765]\n",
       "16  Alibaba, Tencent And Nio Rivals Xpeng, Li Auto...  [0.63748765]\n",
       "17  S&P 500 Claws Back Losses on Easing Fears of U...   [0.7006258]\n",
       "18  Dow Jones Today Chases Nasdaq Lower As Yellen ...   [0.5650544]\n",
       "19  Alibaba, Tencent And Nio Rivals Xpeng, Li Auto...  [0.63748765]\n",
       "20  3 Chinese Stocks to Buy on the Dip After Everg...   [0.6592885]\n",
       "21  Dow Jones Futures Rise Despite China's Evergra...   [0.6940906]\n",
       "22  Dow Jones Futures Rebound After Stock Market S...  [0.71440923]\n",
       "23  Dow Jones Futures Rise After Stock Market Sell...   [0.7163255]\n",
       "24  Dow Jones Futures: Market Sells Off Amid Yelle...  [0.65780795]\n",
       "25      REITs Are Recurring Revenue Models By Default  [0.55729043]\n",
       "26  S&P 500 Claws Back Losses on Easing Fears of U...   [0.7006258]\n",
       "27  Dow Jones Futures: Market Sells Off Amid Yelle...  [0.65780795]\n",
       "28  Dow Jones Futures Dive On China Default Fears ...  [0.65235835]\n",
       "29  Microsoft Excel New Updates Unlock Default Ful...  [0.55558693]\n",
       "30  S&P 500 Claws Back Losses on Easing Fears of U...   [0.7006258]\n",
       "31  Dow Jones Futures: Market Sells Off Amid Yelle...  [0.65780795]\n",
       "32  YouTube Will Make Video Uploads Private by Def...   [0.5211085]\n",
       "33  Facebook : More Control and Privacy on WhatsAp...   [0.5231971]\n",
       "34  Dow Jones Futures Rise Despite China's Evergra...   [0.6940906]\n",
       "35      REITs Are Recurring Revenue Models By Default  [0.55729043]\n",
       "36  Netflix and Cuddle: Streamer Launches ‘Chillee...  [0.50297856]\n",
       "37  Wall Street Breakfast: Debt Ceiling And Defaul...  [0.51278985]\n",
       "38    Wall Street Breakfast: Debt Ceiling And Default  [0.49342775]\n",
       "39  3 Chinese Stocks to Buy on the Dip After Everg...   [0.6592885]\n",
       "40  S&P 500 Claws Back Losses on Easing Fears of U...   [0.7006258]\n",
       "41  Alibaba, Tencent And Nio Rivals Xpeng, Li Auto...  [0.63748765]\n",
       "42  3 Chinese Stocks to Buy on the Dip After Everg...   [0.6592885]\n",
       "43  Asian Stocks Up as U.S. Avoids Immediate Defau...  [0.54879737]\n",
       "44  Nomura, Credit Suisse Face 'Significant' Losse...   [0.6316571]\n",
       "45  Nomura, Credit Suisse Face 'Significant' Losse...   [0.6316571]\n",
       "46  Credit Suisse, Nomura Warn of Sizeable Losses ...   [0.6713637]\n",
       "47  S&P 500 Claws Back Losses on Easing Fears of U...   [0.7006258]"
      ]
     },
     "execution_count": 46,
     "metadata": {},
     "output_type": "execute_result"
    }
   ],
   "source": [
    "from sklearn.metrics.pairwise import cosine_similarity\n",
    "\n",
    "sentences = defaulted_list\n",
    "\n",
    "embed = batch_inf(defaulted_list)\n",
    "\n",
    "# x = lambda h_idx, sen: np.hstack(outputs.hidden_states[h_idx][sen].cpu().detach().numpy())\n",
    "\n",
    "# layer = -1\n",
    "\n",
    "source = []\n",
    "for i, sen in enumerate(sentences):\n",
    "    source.append(embed[i])\n",
    "\n",
    "target = [default_centroid]#[x(layer, 6)]\n",
    "scores = cosine_similarity(source, target)\n",
    "\n",
    "temp = pd.DataFrame(zip(sentences, scores))\n",
    "temp.to_csv('./temp2.csv')\n",
    "temp"
   ]
  },
  {
   "cell_type": "markdown",
   "metadata": {},
   "source": [
    "## Abhi's other code"
   ]
  },
  {
   "cell_type": "code",
   "execution_count": 12,
   "metadata": {
    "ExecuteTime": {
     "end_time": "2022-01-11T14:36:55.908848Z",
     "start_time": "2022-01-11T14:36:36.936004Z"
    }
   },
   "outputs": [
    {
     "name": "stdout",
     "output_type": "stream",
     "text": [
      "dict_items([('Acceleration', 12), ('accelerate', 57), ('Default', 48), ('Insolvency', 1), ('Delay', 107), ('Late', 339), ('Failure', 27), ('fail', 28), ('Dispute', 35), ('Liquidation', 1), ('Haircut', 1), ('Termination', 10), ('Suspension', 33), ('Suspend', 17), ('Fraud', 72), ('misrepresentation', 1), ('Fine', 117), ('sanction', 2), ('Breach', 39), ('Restructuring', 20), ('Restructure', 3), ('Losses', 406), ('Loss', 172), ('Bailout', 4), ('Bankrupt', 2), ('Receiver', 4), ('Administration', 92), ('Administrator', 1), ('Support', 385), ('Corruption', 3), ('Acquisition', 570), ('LBO', 3), ('Provisions', 3), ('Distress', 2), ('Frozen', 5), ('Delisted', 6), ('Sued', 45), ('Suit', 38), ('Arrested', 3)])\n"
     ]
    },
    {
     "ename": "NameError",
     "evalue": "name 'plt' is not defined",
     "output_type": "error",
     "traceback": [
      "\u001b[1;31m---------------------------------------------------------------------------\u001b[0m",
      "\u001b[1;31mNameError\u001b[0m                                 Traceback (most recent call last)",
      "\u001b[1;32m<ipython-input-12-178c666f6b51>\u001b[0m in \u001b[0;36m<module>\u001b[1;34m\u001b[0m\n\u001b[0;32m      1\u001b[0m \u001b[0mheadline_keyword_frequency\u001b[0m \u001b[1;33m=\u001b[0m \u001b[0mkeyword_count\u001b[0m\u001b[1;33m(\u001b[0m\u001b[0mnews_df\u001b[0m\u001b[1;33m.\u001b[0m\u001b[0mheadline\u001b[0m\u001b[1;33m.\u001b[0m\u001b[0mfillna\u001b[0m\u001b[1;33m(\u001b[0m\u001b[1;34m'NaN'\u001b[0m\u001b[1;33m)\u001b[0m\u001b[1;33m)\u001b[0m\u001b[1;33m\u001b[0m\u001b[1;33m\u001b[0m\u001b[0m\n\u001b[1;32m----> 2\u001b[1;33m \u001b[0mplot_keyword_frequency\u001b[0m\u001b[1;33m(\u001b[0m\u001b[0mheadline_keyword_frequency\u001b[0m\u001b[1;33m)\u001b[0m\u001b[1;33m\u001b[0m\u001b[1;33m\u001b[0m\u001b[0m\n\u001b[0m",
      "\u001b[1;32m<ipython-input-10-4e1661fc2414>\u001b[0m in \u001b[0;36mplot_keyword_frequency\u001b[1;34m(news_keyword_frequency)\u001b[0m\n\u001b[0;32m     19\u001b[0m     \u001b[0mx\u001b[0m\u001b[1;33m,\u001b[0m \u001b[0my\u001b[0m \u001b[1;33m=\u001b[0m \u001b[0mzip\u001b[0m\u001b[1;33m(\u001b[0m\u001b[1;33m*\u001b[0m\u001b[0mnews_list\u001b[0m\u001b[1;33m)\u001b[0m\u001b[1;33m\u001b[0m\u001b[1;33m\u001b[0m\u001b[0m\n\u001b[0;32m     20\u001b[0m \u001b[1;33m\u001b[0m\u001b[0m\n\u001b[1;32m---> 21\u001b[1;33m     \u001b[0mplt\u001b[0m\u001b[1;33m.\u001b[0m\u001b[0mrcParams\u001b[0m\u001b[1;33m[\u001b[0m\u001b[1;34m\"figure.figsize\"\u001b[0m\u001b[1;33m]\u001b[0m \u001b[1;33m=\u001b[0m \u001b[1;33m(\u001b[0m\u001b[1;36m20\u001b[0m\u001b[1;33m,\u001b[0m\u001b[1;36m3\u001b[0m\u001b[1;33m)\u001b[0m\u001b[1;33m\u001b[0m\u001b[1;33m\u001b[0m\u001b[0m\n\u001b[0m\u001b[0;32m     22\u001b[0m     \u001b[0mplt\u001b[0m\u001b[1;33m.\u001b[0m\u001b[0mplot\u001b[0m\u001b[1;33m(\u001b[0m\u001b[0mx\u001b[0m\u001b[1;33m,\u001b[0m \u001b[0my\u001b[0m\u001b[1;33m)\u001b[0m\u001b[1;33m\u001b[0m\u001b[1;33m\u001b[0m\u001b[0m\n\u001b[0;32m     23\u001b[0m     \u001b[0mplt\u001b[0m\u001b[1;33m.\u001b[0m\u001b[0mxticks\u001b[0m\u001b[1;33m(\u001b[0m\u001b[0mrotation\u001b[0m\u001b[1;33m=\u001b[0m\u001b[1;34m'vertical'\u001b[0m\u001b[1;33m)\u001b[0m\u001b[1;33m\u001b[0m\u001b[1;33m\u001b[0m\u001b[0m\n",
      "\u001b[1;31mNameError\u001b[0m: name 'plt' is not defined"
     ]
    }
   ],
   "source": [
    "headline_keyword_frequency = keyword_count(news_df.headline.fillna('NaN'))\n",
    "plot_keyword_frequency(headline_keyword_frequency)"
   ]
  },
  {
   "cell_type": "code",
   "execution_count": 11,
   "metadata": {
    "ExecuteTime": {
     "end_time": "2022-01-11T14:35:41.353797Z",
     "start_time": "2022-01-11T14:35:41.322531Z"
    }
   },
   "outputs": [
    {
     "ename": "AttributeError",
     "evalue": "'float' object has no attribute 'split'",
     "output_type": "error",
     "traceback": [
      "\u001b[1;31m---------------------------------------------------------------------------\u001b[0m",
      "\u001b[1;31mAttributeError\u001b[0m                            Traceback (most recent call last)",
      "\u001b[1;32m<ipython-input-11-2ce2cb1c16b3>\u001b[0m in \u001b[0;36m<module>\u001b[1;34m\u001b[0m\n\u001b[1;32m----> 1\u001b[1;33m \u001b[0msummary_keyword_frequency\u001b[0m \u001b[1;33m=\u001b[0m \u001b[0mkeyword_count\u001b[0m\u001b[1;33m(\u001b[0m\u001b[0mnews_df\u001b[0m\u001b[1;33m.\u001b[0m\u001b[0msummary\u001b[0m\u001b[1;33m)\u001b[0m\u001b[1;33m\u001b[0m\u001b[1;33m\u001b[0m\u001b[0m\n\u001b[0m\u001b[0;32m      2\u001b[0m \u001b[0mplot_keyword_frequency\u001b[0m\u001b[1;33m(\u001b[0m\u001b[0msummary_keyword_frequency\u001b[0m\u001b[1;33m)\u001b[0m\u001b[1;33m\u001b[0m\u001b[1;33m\u001b[0m\u001b[0m\n",
      "\u001b[1;32m<ipython-input-10-4e1661fc2414>\u001b[0m in \u001b[0;36mkeyword_count\u001b[1;34m(news)\u001b[0m\n\u001b[0;32m      6\u001b[0m     \u001b[1;32mfor\u001b[0m \u001b[0mkeyword\u001b[0m \u001b[1;32min\u001b[0m \u001b[0mkeywords\u001b[0m\u001b[1;33m:\u001b[0m\u001b[1;33m\u001b[0m\u001b[1;33m\u001b[0m\u001b[0m\n\u001b[0;32m      7\u001b[0m         \u001b[1;32mfor\u001b[0m \u001b[0mnews_str\u001b[0m \u001b[1;32min\u001b[0m \u001b[0mnews\u001b[0m\u001b[1;33m:\u001b[0m\u001b[1;33m\u001b[0m\u001b[1;33m\u001b[0m\u001b[0m\n\u001b[1;32m----> 8\u001b[1;33m             \u001b[0mnews_str\u001b[0m \u001b[1;33m=\u001b[0m \u001b[0mnews_str\u001b[0m\u001b[1;33m.\u001b[0m\u001b[0msplit\u001b[0m\u001b[1;33m(\u001b[0m\u001b[1;33m)\u001b[0m\u001b[1;33m\u001b[0m\u001b[1;33m\u001b[0m\u001b[0m\n\u001b[0m\u001b[0;32m      9\u001b[0m             \u001b[1;32mfor\u001b[0m \u001b[0mword\u001b[0m \u001b[1;32min\u001b[0m \u001b[0mnews_str\u001b[0m\u001b[1;33m:\u001b[0m\u001b[1;33m\u001b[0m\u001b[1;33m\u001b[0m\u001b[0m\n\u001b[0;32m     10\u001b[0m                 \u001b[1;32mif\u001b[0m \u001b[0mkeyword\u001b[0m \u001b[1;33m==\u001b[0m \u001b[0mword\u001b[0m\u001b[1;33m:\u001b[0m\u001b[1;33m\u001b[0m\u001b[1;33m\u001b[0m\u001b[0m\n",
      "\u001b[1;31mAttributeError\u001b[0m: 'float' object has no attribute 'split'"
     ]
    }
   ],
   "source": [
    "summary_keyword_frequency = keyword_count(news_df.summary)\n",
    "plot_keyword_frequency(summary_keyword_frequency)"
   ]
  },
  {
   "cell_type": "code",
   "execution_count": 8,
   "metadata": {},
   "outputs": [
    {
     "data": {
      "image/png": "[encoded data removed]",
      "text/plain": [
       "<Figure size 1440x216 with 1 Axes>"
      ]
     },
     "metadata": {
      "needs_background": "light"
     },
     "output_type": "display_data"
    }
   ],
   "source": [
    "headline_text = \" \".join(headline for headline in news_df.headline)\n",
    "keyword_wordcloud(headline_text)"
   ]
  },
  {
   "cell_type": "code",
   "execution_count": null,
   "metadata": {},
   "outputs": [],
   "source": []
  },
  {
   "cell_type": "code",
   "execution_count": 9,
   "metadata": {},
   "outputs": [],
   "source": [
    "def counterparty_keyword_count (news_counterparty, target_counterparty: str):\n",
    "    keywords_count_dict = {}\n",
    "    \n",
    "    target_news_headline = news_counterparty.loc[news_counterparty[\"counterparty\"]==target_counterparty, \"headline\"]\n",
    "    target_news_summary = news_counterparty.loc[news_counterparty[\"counterparty\"]==target_counterparty, \"summary\"]\n",
    "\n",
    "\n",
    "    for keyword in keywords:\n",
    "        for news_str in target_news_summary:\n",
    "            news_str = news_str.split()\n",
    "            for word in news_str:\n",
    "                if keyword == word:\n",
    "                    keywords_count_dict[keyword] = keywords_count_dict.get(keyword, 0) + 1\n",
    "    \n",
    "    return keywords_count_dict"
   ]
  },
  {
   "cell_type": "code",
   "execution_count": 10,
   "metadata": {},
   "outputs": [
    {
     "name": "stdout",
     "output_type": "stream",
     "text": [
      "dict_items([('accelerate', 30), ('Delay', 2), ('Late', 3), ('Failure', 1), ('fail', 6), ('Fine', 2), ('Losses', 1), ('Loss', 6), ('Administration', 93), ('Administrator', 1), ('Acquisition', 37), ('Sued', 6)])\n"
     ]
    },
    {
     "data": {
      "image/png": "[encoded data removed]",
      "text/plain": [
       "<Figure size 1440x216 with 1 Axes>"
      ]
     },
     "metadata": {
      "needs_background": "light"
     },
     "output_type": "display_data"
    }
   ],
   "source": [
    "# graph for TSLA\n",
    "plot_keyword_frequency(counterparty_keyword_count (news_df, 'TSLA'))"
   ]
  },
  {
   "cell_type": "code",
   "execution_count": 11,
   "metadata": {},
   "outputs": [],
   "source": [
    "def counterparty_keyword_date_occurance (news_counterparty, target_counterparty: str, target_keyword: str):\n",
    "    keywords_count_dict = {}\n",
    "    keyword_count = 0\n",
    "    \n",
    "    target_news = news_counterparty.loc[news_counterparty[\"counterparty\"]==target_counterparty]\n",
    "    target_news = target_news[target_news['summary'].str.contains(target_keyword)]\n",
    "    \n",
    "    '''\n",
    "    select a keyword\n",
    "    check its frequency as we move along the x-axis\n",
    "    see when what keyword appears\n",
    "    connect with the frontend to make it interactive\n",
    "    '''\n",
    "#     print(target_news)\n",
    "    for date in target_news['date']:\n",
    "        keywords_count_dict[date] = keywords_count_dict.get(date, 0) + 1\n",
    "        \n",
    "    return keywords_count_dict"
   ]
  },
  {
   "cell_type": "code",
   "execution_count": 12,
   "metadata": {},
   "outputs": [
    {
     "name": "stdout",
     "output_type": "stream",
     "text": [
      "dict_items([(nan, 46), ('2021-10-13', 1), ('2021-10-09', 3), ('2021-10-08', 1), ('2021-09-21', 1), ('2021-08-31', 1), ('2021-08-30', 1), ('2021-08-11', 1), ('2020-12-04', 1), ('2020-11-20', 1), ('2020-11-18', 2), ('2020-11-06', 1), ('2020-10-22', 1)])\n"
     ]
    },
    {
     "data": {
      "image/png": "[encoded data removed]",
      "text/plain": [
       "<Figure size 1440x216 with 1 Axes>"
      ]
     },
     "metadata": {
      "needs_background": "light"
     },
     "output_type": "display_data"
    }
   ],
   "source": [
    "plot_keyword_frequency(counterparty_keyword_date_occurance (news_df, 'TSLA', 'accelerate'))"
   ]
  },
  {
   "cell_type": "code",
   "execution_count": 17,
   "metadata": {},
   "outputs": [
    {
     "data": {
      "text/html": [
       "<div>\n",
       "<style scoped>\n",
       "    .dataframe tbody tr th:only-of-type {\n",
       "        vertical-align: middle;\n",
       "    }\n",
       "\n",
       "    .dataframe tbody tr th {\n",
       "        vertical-align: top;\n",
       "    }\n",
       "\n",
       "    .dataframe thead th {\n",
       "        text-align: right;\n",
       "    }\n",
       "</style>\n",
       "<table border=\"1\" class=\"dataframe\">\n",
       "  <thead>\n",
       "    <tr style=\"text-align: right;\">\n",
       "      <th></th>\n",
       "      <th>_id</th>\n",
       "      <th>datetime</th>\n",
       "      <th>headline</th>\n",
       "      <th>image</th>\n",
       "      <th>source</th>\n",
       "      <th>summary</th>\n",
       "      <th>url</th>\n",
       "      <th>api</th>\n",
       "      <th>counterparty</th>\n",
       "      <th>sentiment</th>\n",
       "      <th>date</th>\n",
       "    </tr>\n",
       "  </thead>\n",
       "  <tbody>\n",
       "    <tr>\n",
       "      <th>0</th>\n",
       "      <td>616a9214d6b0969db79ff380</td>\n",
       "      <td>1634342006</td>\n",
       "      <td>Dow Jones Futures: Microsoft, Tesla Rival Xpen...</td>\n",
       "      <td>https://s.yimg.com/uu/api/res/1.2/8E9xXtahKzzU...</td>\n",
       "      <td>Yahoo</td>\n",
       "      <td>With a confirmed market rally, how aggressive ...</td>\n",
       "      <td>https://finnhub.io/api/news?id=0a71ef5127fb093...</td>\n",
       "      <td>Finnhub</td>\n",
       "      <td>TSLA</td>\n",
       "      <td>NaN</td>\n",
       "      <td>NaN</td>\n",
       "    </tr>\n",
       "    <tr>\n",
       "      <th>1</th>\n",
       "      <td>616a9214d6b0969db79ff381</td>\n",
       "      <td>1634345700</td>\n",
       "      <td>Tesla Will Probably Beat Earnings Estimates. W...</td>\n",
       "      <td>https://s.yimg.com/ny/api/res/1.2/Gc1PiHZWDkam...</td>\n",
       "      <td>Yahoo</td>\n",
       "      <td>Tesla  will easily beat earnings expectations ...</td>\n",
       "      <td>https://finnhub.io/api/news?id=b21fa618c07df48...</td>\n",
       "      <td>Finnhub</td>\n",
       "      <td>TSLA</td>\n",
       "      <td>NaN</td>\n",
       "      <td>NaN</td>\n",
       "    </tr>\n",
       "    <tr>\n",
       "      <th>2</th>\n",
       "      <td>616a9214d6b0969db79ff382</td>\n",
       "      <td>1634342280</td>\n",
       "      <td>Musk Trolls Bezos Over Wealth. He Could have T...</td>\n",
       "      <td>https://s.yimg.com/ny/api/res/1.2/eLHfCjFR8LCr...</td>\n",
       "      <td>Yahoo</td>\n",
       "      <td>In a tweet, the Tesla CEO drew attention to hi...</td>\n",
       "      <td>https://finnhub.io/api/news?id=e94ea5b855e79f8...</td>\n",
       "      <td>Finnhub</td>\n",
       "      <td>TSLA</td>\n",
       "      <td>NaN</td>\n",
       "      <td>NaN</td>\n",
       "    </tr>\n",
       "    <tr>\n",
       "      <th>3</th>\n",
       "      <td>616a9214d6b0969db79ff383</td>\n",
       "      <td>1634335078</td>\n",
       "      <td>'Big Short' investor Burry says he's no longer...</td>\n",
       "      <td>https://s.yimg.com/uu/api/res/1.2/BnJkedCmxSup...</td>\n",
       "      <td>Yahoo</td>\n",
       "      <td>Burry's Scion Asset Management said in a regul...</td>\n",
       "      <td>https://finnhub.io/api/news?id=d162aec79de9fdb...</td>\n",
       "      <td>Finnhub</td>\n",
       "      <td>TSLA</td>\n",
       "      <td>NaN</td>\n",
       "      <td>NaN</td>\n",
       "    </tr>\n",
       "    <tr>\n",
       "      <th>4</th>\n",
       "      <td>616a9214d6b0969db79ff384</td>\n",
       "      <td>1634335078</td>\n",
       "      <td>'Big Short' investor Burry says he's no longer...</td>\n",
       "      <td>https://static.reuters.com/resources/r/?m=02&amp;d...</td>\n",
       "      <td>Reuters</td>\n",
       "      <td>Investor Michael Burry of \"The Big Short\" fame...</td>\n",
       "      <td>https://finnhub.io/api/news?id=73b71d9c99019a1...</td>\n",
       "      <td>Finnhub</td>\n",
       "      <td>TSLA</td>\n",
       "      <td>0.0</td>\n",
       "      <td>2021-10-16</td>\n",
       "    </tr>\n",
       "  </tbody>\n",
       "</table>\n",
       "</div>"
      ],
      "text/plain": [
       "                        _id    datetime  \\\n",
       "0  616a9214d6b0969db79ff380  1634342006   \n",
       "1  616a9214d6b0969db79ff381  1634345700   \n",
       "2  616a9214d6b0969db79ff382  1634342280   \n",
       "3  616a9214d6b0969db79ff383  1634335078   \n",
       "4  616a9214d6b0969db79ff384  1634335078   \n",
       "\n",
       "                                            headline  \\\n",
       "0  Dow Jones Futures: Microsoft, Tesla Rival Xpen...   \n",
       "1  Tesla Will Probably Beat Earnings Estimates. W...   \n",
       "2  Musk Trolls Bezos Over Wealth. He Could have T...   \n",
       "3  'Big Short' investor Burry says he's no longer...   \n",
       "4  'Big Short' investor Burry says he's no longer...   \n",
       "\n",
       "                                               image   source  \\\n",
       "0  https://s.yimg.com/uu/api/res/1.2/8E9xXtahKzzU...    Yahoo   \n",
       "1  https://s.yimg.com/ny/api/res/1.2/Gc1PiHZWDkam...    Yahoo   \n",
       "2  https://s.yimg.com/ny/api/res/1.2/eLHfCjFR8LCr...    Yahoo   \n",
       "3  https://s.yimg.com/uu/api/res/1.2/BnJkedCmxSup...    Yahoo   \n",
       "4  https://static.reuters.com/resources/r/?m=02&d...  Reuters   \n",
       "\n",
       "                                             summary  \\\n",
       "0  With a confirmed market rally, how aggressive ...   \n",
       "1  Tesla  will easily beat earnings expectations ...   \n",
       "2  In a tweet, the Tesla CEO drew attention to hi...   \n",
       "3  Burry's Scion Asset Management said in a regul...   \n",
       "4  Investor Michael Burry of \"The Big Short\" fame...   \n",
       "\n",
       "                                                 url      api counterparty  \\\n",
       "0  https://finnhub.io/api/news?id=0a71ef5127fb093...  Finnhub         TSLA   \n",
       "1  https://finnhub.io/api/news?id=b21fa618c07df48...  Finnhub         TSLA   \n",
       "2  https://finnhub.io/api/news?id=e94ea5b855e79f8...  Finnhub         TSLA   \n",
       "3  https://finnhub.io/api/news?id=d162aec79de9fdb...  Finnhub         TSLA   \n",
       "4  https://finnhub.io/api/news?id=73b71d9c99019a1...  Finnhub         TSLA   \n",
       "\n",
       "   sentiment        date  \n",
       "0        NaN         NaN  \n",
       "1        NaN         NaN  \n",
       "2        NaN         NaN  \n",
       "3        NaN         NaN  \n",
       "4        0.0  2021-10-16  "
      ]
     },
     "execution_count": 17,
     "metadata": {},
     "output_type": "execute_result"
    }
   ],
   "source": [
    "\n",
    "# Read data into papers\n",
    "papers = news_df\n",
    "# Print head\n",
    "papers.head()"
   ]
  },
  {
   "cell_type": "code",
   "execution_count": 18,
   "metadata": {},
   "outputs": [
    {
     "data": {
      "text/html": [
       "<div>\n",
       "<style scoped>\n",
       "    .dataframe tbody tr th:only-of-type {\n",
       "        vertical-align: middle;\n",
       "    }\n",
       "\n",
       "    .dataframe tbody tr th {\n",
       "        vertical-align: top;\n",
       "    }\n",
       "\n",
       "    .dataframe thead th {\n",
       "        text-align: right;\n",
       "    }\n",
       "</style>\n",
       "<table border=\"1\" class=\"dataframe\">\n",
       "  <thead>\n",
       "    <tr style=\"text-align: right;\">\n",
       "      <th></th>\n",
       "      <th>datetime</th>\n",
       "      <th>headline</th>\n",
       "      <th>summary</th>\n",
       "      <th>counterparty</th>\n",
       "      <th>sentiment</th>\n",
       "      <th>date</th>\n",
       "    </tr>\n",
       "  </thead>\n",
       "  <tbody>\n",
       "    <tr>\n",
       "      <th>18978</th>\n",
       "      <td>1624425600</td>\n",
       "      <td>Apple CEO warns congress, claims antitrust bil...</td>\n",
       "      <td>Apple CEO warns congress, claims antitrust bil...</td>\n",
       "      <td>AAPL</td>\n",
       "      <td>NaN</td>\n",
       "      <td>NaN</td>\n",
       "    </tr>\n",
       "    <tr>\n",
       "      <th>58780</th>\n",
       "      <td>1638454560</td>\n",
       "      <td>January 2022 Options Now Available For Apple</td>\n",
       "      <td>Investors in Apple Inc (Symbol: AAPL) saw new ...</td>\n",
       "      <td>AAPL</td>\n",
       "      <td>NaN</td>\n",
       "      <td>NaN</td>\n",
       "    </tr>\n",
       "    <tr>\n",
       "      <th>58876</th>\n",
       "      <td>1638435682</td>\n",
       "      <td>Johnson &amp; Johnson : U.S. FDA Approves DARZALEX...</td>\n",
       "      <td>News ReleaseMedia Contacts:Christie CorbettOff...</td>\n",
       "      <td>JNJ</td>\n",
       "      <td>NaN</td>\n",
       "      <td>NaN</td>\n",
       "    </tr>\n",
       "    <tr>\n",
       "      <th>23766</th>\n",
       "      <td>1611069212</td>\n",
       "      <td>Free Apple TV+ Promo Extended to July - Thurro...</td>\n",
       "      <td>Apple has quietly extended its free Apple TV+ ...</td>\n",
       "      <td>AAPL</td>\n",
       "      <td>NaN</td>\n",
       "      <td>NaN</td>\n",
       "    </tr>\n",
       "    <tr>\n",
       "      <th>55010</th>\n",
       "      <td>1617908640</td>\n",
       "      <td>NIO and Other Chinese EV Stocks Are Struggling...</td>\n",
       "      <td>A huge gap has opened up between analysts' pri...</td>\n",
       "      <td>XPEV</td>\n",
       "      <td>NaN</td>\n",
       "      <td>NaN</td>\n",
       "    </tr>\n",
       "  </tbody>\n",
       "</table>\n",
       "</div>"
      ],
      "text/plain": [
       "         datetime                                           headline  \\\n",
       "18978  1624425600  Apple CEO warns congress, claims antitrust bil...   \n",
       "58780  1638454560       January 2022 Options Now Available For Apple   \n",
       "58876  1638435682  Johnson & Johnson : U.S. FDA Approves DARZALEX...   \n",
       "23766  1611069212  Free Apple TV+ Promo Extended to July - Thurro...   \n",
       "55010  1617908640  NIO and Other Chinese EV Stocks Are Struggling...   \n",
       "\n",
       "                                                 summary counterparty  \\\n",
       "18978  Apple CEO warns congress, claims antitrust bil...         AAPL   \n",
       "58780  Investors in Apple Inc (Symbol: AAPL) saw new ...         AAPL   \n",
       "58876  News ReleaseMedia Contacts:Christie CorbettOff...          JNJ   \n",
       "23766  Apple has quietly extended its free Apple TV+ ...         AAPL   \n",
       "55010  A huge gap has opened up between analysts' pri...         XPEV   \n",
       "\n",
       "       sentiment date  \n",
       "18978        NaN  NaN  \n",
       "58780        NaN  NaN  \n",
       "58876        NaN  NaN  \n",
       "23766        NaN  NaN  \n",
       "55010        NaN  NaN  "
      ]
     },
     "execution_count": 18,
     "metadata": {},
     "output_type": "execute_result"
    }
   ],
   "source": [
    "papers = papers.drop(columns=['_id', 'url', 'image', 'source', 'api'], axis=1).sample(100)\n",
    "# Print out the first rows of papers\n",
    "papers.head()"
   ]
  },
  {
   "cell_type": "code",
   "execution_count": 20,
   "metadata": {},
   "outputs": [
    {
     "data": {
      "text/plain": [
       "18978    apple ceo warns congress claims antitrust bill...\n",
       "58780    investors in apple inc (symbol: aapl) saw new ...\n",
       "58876    news releasemedia contacts:christie corbettoff...\n",
       "23766    apple has quietly extended its free apple tv+ ...\n",
       "55010    a huge gap has opened up between analysts' pri...\n",
       "Name: headline, dtype: object"
      ]
     },
     "execution_count": 20,
     "metadata": {},
     "output_type": "execute_result"
    }
   ],
   "source": [
    "# Load the regular expression library\n",
    "import re\n",
    "# Remove punctuation\n",
    "papers['headline'] = \\\n",
    "papers['summary'].map(lambda x: re.sub('[,\\.!?]', '', x))\n",
    "# Convert the titles to lowercase\n",
    "papers['headline'] = \\\n",
    "papers['headline'].map(lambda x: x.lower())\n",
    "# Print out the first rows of papers\n",
    "papers['headline'].head()"
   ]
  },
  {
   "cell_type": "code",
   "execution_count": 21,
   "metadata": {},
   "outputs": [
    {
     "data": {
      "image/png": "[encoded data removed]",
      "text/plain": [
       "<PIL.Image.Image image mode=RGB size=400x200 at 0x7FA46186A790>"
      ]
     },
     "execution_count": 21,
     "metadata": {},
     "output_type": "execute_result"
    }
   ],
   "source": [
    "# Import the wordcloud library\n",
    "from wordcloud import WordCloud\n",
    "# Join the different processed titles together.\n",
    "long_string = ','.join(list(papers['headline'].values))\n",
    "# Create a WordCloud object\n",
    "wordcloud = WordCloud(background_color=\"white\", max_words=5000, contour_width=3, contour_color='steelblue')\n",
    "# Generate a word cloud\n",
    "wordcloud.generate(long_string)\n",
    "# Visualize the word cloud\n",
    "wordcloud.to_image()"
   ]
  },
  {
   "cell_type": "code",
   "execution_count": 25,
   "metadata": {},
   "outputs": [
    {
     "name": "stdout",
     "output_type": "stream",
     "text": [
      "['apple', 'ceo', 'warns', 'congress', 'claims', 'antitrust', 'bills', 'rushed', 'ny', 'times', 'reports', 'aapl', 'amzn', 'fb', 'goog', 'googl']\n"
     ]
    },
    {
     "name": "stderr",
     "output_type": "stream",
     "text": [
      "[nltk_data] Downloading package stopwords to\n",
      "[nltk_data]     /Users/poswalabhishek/nltk_data...\n",
      "[nltk_data]   Package stopwords is already up-to-date!\n"
     ]
    }
   ],
   "source": [
    "import gensim\n",
    "from gensim.utils import simple_preprocess\n",
    "import nltk\n",
    "nltk.download('stopwords')\n",
    "from nltk.corpus import stopwords\n",
    "stop_words = stopwords.words('english')\n",
    "stop_words.extend(['from', 'subject', 're', 'edu', 'use'])\n",
    "def sent_to_words(sentences):\n",
    "    for sentence in sentences:\n",
    "        # deacc=True removes punctuations\n",
    "        yield(gensim.utils.simple_preprocess(str(sentence), deacc=True))\n",
    "def remove_stopwords(texts):\n",
    "    return [[word for word in simple_preprocess(str(doc)) \n",
    "             if word not in stop_words] for doc in texts]\n",
    "data = papers.headline.values.tolist()\n",
    "data_words = list(sent_to_words(data))\n",
    "# remove stop words\n",
    "data_words = remove_stopwords(data_words)\n",
    "print(data_words[:1][0][:30])"
   ]
  },
  {
   "cell_type": "code",
   "execution_count": 26,
   "metadata": {},
   "outputs": [
    {
     "name": "stdout",
     "output_type": "stream",
     "text": [
      "[(0, 1), (1, 1), (2, 1), (3, 1), (4, 1), (5, 1), (6, 1), (7, 1), (8, 1), (9, 1), (10, 1), (11, 1), (12, 1), (13, 1), (14, 1), (15, 1)]\n"
     ]
    }
   ],
   "source": [
    "import gensim.corpora as corpora\n",
    "# Create Dictionary\n",
    "id2word = corpora.Dictionary(data_words)\n",
    "# Create Corpus\n",
    "texts = data_words\n",
    "# Term Document Frequency\n",
    "corpus = [id2word.doc2bow(text) for text in texts]\n",
    "# View\n",
    "print(corpus[:1][0][:30])"
   ]
  },
  {
   "cell_type": "code",
   "execution_count": 27,
   "metadata": {},
   "outputs": [
    {
     "name": "stdout",
     "output_type": "stream",
     "text": [
      "[(0,\n",
      "  '0.010*\"group\" + 0.010*\"lazada\" + 0.010*\"apple\" + 0.009*\"us\" + '\n",
      "  '0.009*\"stocks\" + 0.009*\"rapido\" + 0.009*\"watch\" + 0.009*\"automotive\" + '\n",
      "  '0.007*\"chinese\" + 0.007*\"billion\"'),\n",
      " (1,\n",
      "  '0.015*\"tesla\" + 0.015*\"lithium\" + 0.011*\"investors\" + 0.010*\"tsla\" + '\n",
      "  '0.010*\"nasdaq\" + 0.010*\"batteries\" + 0.009*\"group\" + 0.007*\"co\" + '\n",
      "  '0.007*\"vehicles\" + 0.007*\"lazada\"'),\n",
      " (2,\n",
      "  '0.012*\"de\" + 0.010*\"company\" + 0.009*\"market\" + 0.009*\"stock\" + '\n",
      "  '0.009*\"apple\" + 0.007*\"stocks\" + 0.007*\"la\" + 0.007*\"inc\" + 0.007*\"trading\" '\n",
      "  '+ 0.006*\"quarterly\"'),\n",
      " (3,\n",
      "  '0.011*\"nasdaq\" + 0.009*\"take\" + 0.008*\"workers\" + 0.008*\"growing\" + '\n",
      "  '0.008*\"electric\" + 0.008*\"much\" + 0.008*\"past\" + 0.008*\"ford\" + '\n",
      "  '0.008*\"head\" + 0.007*\"stocks\"'),\n",
      " (4,\n",
      "  '0.020*\"de\" + 0.012*\"la\" + 0.012*\"tesla\" + 0.012*\"options\" + '\n",
      "  '0.009*\"available\" + 0.008*\"el\" + 0.008*\"produccion\" + 0.008*\"aapl\" + '\n",
      "  '0.008*\"new\" + 0.008*\"january\"'),\n",
      " (5,\n",
      "  '0.017*\"inc\" + 0.017*\"apple\" + 0.012*\"nasdaq\" + 0.009*\"shares\" + '\n",
      "  '0.009*\"friday\" + 0.009*\"ceo\" + 0.009*\"market\" + 0.006*\"positive\" + '\n",
      "  '0.006*\"monday\" + 0.006*\"retail\"'),\n",
      " (6,\n",
      "  '0.011*\"recent\" + 0.011*\"reit\" + 0.011*\"edge\" + 0.011*\"investors\" + '\n",
      "  '0.008*\"number\" + 0.006*\"actually\" + 0.006*\"friendly\" + 0.006*\"stocks\" + '\n",
      "  '0.006*\"gap\" + 0.006*\"vehicle\"'),\n",
      " (7,\n",
      "  '0.018*\"nasdaq\" + 0.011*\"tech\" + 0.011*\"stocks\" + 0.010*\"market\" + '\n",
      "  '0.009*\"investors\" + 0.008*\"stock\" + 0.007*\"may\" + 0.006*\"us\" + 0.006*\"open\" '\n",
      "  '+ 0.006*\"lower\"'),\n",
      " (8,\n",
      "  '0.020*\"stock\" + 0.011*\"tesla\" + 0.010*\"market\" + 0.010*\"model\" + '\n",
      "  '0.010*\"inc\" + 0.009*\"around\" + 0.007*\"shares\" + 0.007*\"ceo\" + '\n",
      "  '0.007*\"trading\" + 0.007*\"car\"'),\n",
      " (9,\n",
      "  '0.022*\"market\" + 0.014*\"stock\" + 0.012*\"shares\" + 0.012*\"pre\" + 0.009*\"dow\" '\n",
      "  '+ 0.008*\"boldest\" + 0.008*\"mean\" + 0.008*\"research\" + 0.008*\"chip\" + '\n",
      "  '0.008*\"made\"')]\n"
     ]
    }
   ],
   "source": [
    "from pprint import pprint\n",
    "# number of topics\n",
    "num_topics = 10\n",
    "# Build LDA model\n",
    "lda_model = gensim.models.LdaMulticore(corpus=corpus,\n",
    "                                       id2word=id2word,\n",
    "                                       num_topics=num_topics)\n",
    "# Print the Keyword in the 10 topics\n",
    "pprint(lda_model.print_topics())\n",
    "doc_lda = lda_model[corpus]"
   ]
  },
  {
   "cell_type": "code",
   "execution_count": 32,
   "metadata": {},
   "outputs": [
    {
     "name": "stderr",
     "output_type": "stream",
     "text": [
      "/Users/poswalabhishek/opt/anaconda3/lib/python3.9/site-packages/past/builtins/misc.py:45: DeprecationWarning: the imp module is deprecated in favour of importlib; see the module's documentation for alternative uses\n",
      "  from imp import reload\n",
      "/Users/poswalabhishek/opt/anaconda3/lib/python3.9/site-packages/past/builtins/misc.py:45: DeprecationWarning: the imp module is deprecated in favour of importlib; see the module's documentation for alternative uses\n",
      "  from imp import reload\n",
      "/Users/poswalabhishek/opt/anaconda3/lib/python3.9/site-packages/past/builtins/misc.py:45: DeprecationWarning: the imp module is deprecated in favour of importlib; see the module's documentation for alternative uses\n",
      "  from imp import reload\n",
      "/Users/poswalabhishek/opt/anaconda3/lib/python3.9/site-packages/past/builtins/misc.py:45: DeprecationWarning: the imp module is deprecated in favour of importlib; see the module's documentation for alternative uses\n",
      "  from imp import reload\n",
      "/Users/poswalabhishek/opt/anaconda3/lib/python3.9/site-packages/past/builtins/misc.py:45: DeprecationWarning: the imp module is deprecated in favour of importlib; see the module's documentation for alternative uses\n",
      "  from imp import reload\n",
      "/Users/poswalabhishek/opt/anaconda3/lib/python3.9/site-packages/past/builtins/misc.py:45: DeprecationWarning: the imp module is deprecated in favour of importlib; see the module's documentation for alternative uses\n",
      "  from imp import reload\n",
      "/Users/poswalabhishek/opt/anaconda3/lib/python3.9/site-packages/past/builtins/misc.py:45: DeprecationWarning: the imp module is deprecated in favour of importlib; see the module's documentation for alternative uses\n",
      "  from imp import reload\n",
      "/Users/poswalabhishek/opt/anaconda3/lib/python3.9/site-packages/past/builtins/misc.py:45: DeprecationWarning: the imp module is deprecated in favour of importlib; see the module's documentation for alternative uses\n",
      "  from imp import reload\n",
      "/Users/poswalabhishek/opt/anaconda3/lib/python3.9/site-packages/past/builtins/misc.py:45: DeprecationWarning: the imp module is deprecated in favour of importlib; see the module's documentation for alternative uses\n",
      "  from imp import reload\n"
     ]
    },
    {
     "data": {
      "text/html": [
       "\n",
       "<link rel=\"stylesheet\" type=\"text/css\" href=\"https://cdn.jsdelivr.net/gh/bmabey/pyLDAvis@3.3.1/pyLDAvis/js/ldavis.v1.0.0.css\">\n",
       "\n",
       "\n",
       "<div id=\"ldavis_el473161403439700750243385181845\"></div>\n",
       "<script type=\"text/javascript\">\n",
       "\n",
       "var ldavis_el473161403439700750243385181845_data = {\"mdsDat\": {\"x\": [0.11719534089472877, -0.14034582293729492, 0.04058200579007402, 0.027102171190955957, 0.03469553536918755, 0.06559667673058521, -0.08781645712526816, 0.010602371974131162, -0.02451690386566895, -0.0430949180214308], \"y\": [-0.06957508609723241, -0.06806038873721433, -0.05719101467518443, 0.13652017307969308, -0.009507226603980954, -0.04374926488805432, -0.008466490730051414, 0.0746401001674643, 0.04541210973005202, -2.291124549170427e-05], \"topics\": [1, 2, 3, 4, 5, 6, 7, 8, 9, 10], \"cluster\": [1, 1, 1, 1, 1, 1, 1, 1, 1, 1], \"Freq\": [17.15017794229403, 15.656474817267174, 13.258333214303777, 12.86102905423413, 10.7367882970223, 8.038648294866897, 6.884978794009459, 6.139619022569627, 5.320141944881599, 3.9538086185510073]}, \"tinfo\": {\"Term\": [\"de\", \"tesla\", \"nasdaq\", \"group\", \"lazada\", \"la\", \"pre\", \"investors\", \"shares\", \"apple\", \"market\", \"inc\", \"options\", \"electric\", \"lithium\", \"stock\", \"recent\", \"vehicles\", \"us\", \"model\", \"tech\", \"tsla\", \"reit\", \"edge\", \"batteries\", \"made\", \"take\", \"chinese\", \"co\", \"companies\", \"model\", \"sedan\", \"change\", \"rough\", \"even\", \"rolls\", \"services\", \"version\", \"vehicles\", \"ground\", \"around\", \"ursula\", \"interview\", \"west\", \"better\", \"advantage\", \"across\", \"reflect\", \"center\", \"burns\", \"legal\", \"astronomical\", \"strategy\", \"rates\", \"halted\", \"fsr\", \"xerox\", \"require\", \"markets\", \"solid\", \"week\", \"otc\", \"amid\", \"car\", \"stock\", \"tesla\", \"late\", \"tuesday\", \"demand\", \"proved\", \"co\", \"global\", \"trading\", \"inc\", \"battery\", \"months\", \"news\", \"new\", \"shares\", \"ceo\", \"friday\", \"market\", \"may\", \"session\", \"nasdaq\", \"thursday\", \"rapido\", \"watch\", \"automotive\", \"president\", \"con\", \"lazada\", \"xpeng\", \"since\", \"sorprender\", \"assets\", \"omaha\", \"people\", \"woman\", \"point\", \"wants\", \"habia\", \"nadie\", \"kidnapped\", \"oracle\", \"save\", \"buffett\", \"authorities\", \"sent\", \"lot\", \"un\", \"momentum\", \"vuelve\", \"nickname\", \"reducing\", \"que\", \"singapore\", \"chinese\", \"payments\", \"group\", \"southeast\", \"office\", \"nyse\", \"chang\", \"us\", \"asia\", \"bloomberg\", \"billion\", \"december\", \"lead\", \"alibaba\", \"become\", \"apple\", \"baba\", \"public\", \"stocks\", \"companies\", \"business\", \"friday\", \"ceo\", \"market\", \"chief\", \"trading\", \"co\", \"intelligence\", \"last\", \"devices\", \"micro\", \"compared\", \"primes\", \"les\", \"performance\", \"quarterly\", \"including\", \"blockbuster\", \"delivered\", \"etfs\", \"argument\", \"climbed\", \"lack\", \"disclosed\", \"acquisition\", \"considering\", \"someone\", \"pickets\", \"amd\", \"performing\", \"second\", \"ark\", \"provided\", \"hotels\", \"gas\", \"climbs\", \"ownership\", \"le\", \"increase\", \"advanced\", \"de\", \"la\", \"company\", \"investment\", \"used\", \"time\", \"best\", \"long\", \"trading\", \"apple\", \"profit\", \"market\", \"stocks\", \"stock\", \"may\", \"year\", \"inc\", \"results\", \"shares\", \"open\", \"right\", \"cheap\", \"like\", \"trade\", \"technology\", \"claims\", \"superstar\", \"jobless\", \"cases\", \"indexes\", \"early\", \"operating\", \"check\", \"yields\", \"heavyweight\", \"jonathan\", \"essentially\", \"futures\", \"awaiting\", \"backing\", \"treasury\", \"previous\", \"kanter\", \"showed\", \"pressure\", \"traded\", \"consideration\", \"thought\", \"protocol\", \"platform\", \"tech\", \"nasdaq\", \"read\", \"lower\", \"look\", \"antitrust\", \"rise\", \"hatchet\", \"stocks\", \"pre\", \"investors\", \"best\", \"market\", \"us\", \"massive\", \"take\", \"may\", \"buy\", \"stock\", \"could\", \"aapl\", \"year\", \"well\", \"retail\", \"cisco\", \"mac\", \"court\", \"lvmh\", \"bernard\", \"ruling\", \"work\", \"computers\", \"technologies\", \"chairman\", \"took\", \"luis\", \"vuitton\", \"richest\", \"signs\", \"arnault\", \"agreed\", \"fashion\", \"sponsors\", \"moet\", \"hennessy\", \"faring\", \"laptop\", \"brexit\", \"unfavorable\", \"weighed\", \"territory\", \"processor\", \"clock\", \"wall\", \"running\", \"apple\", \"inc\", \"monday\", \"positive\", \"street\", \"friday\", \"nasdaq\", \"shares\", \"billion\", \"ceo\", \"market\", \"aapl\", \"stocks\", \"may\", \"investors\", \"new\", \"stock\", \"december\", \"related\", \"trading\", \"sharply\", \"place\", \"boldest\", \"research\", \"five\", \"fearless\", \"sos\", \"physician\", \"ultimately\", \"yahoo\", \"audacious\", \"payal\", \"infectious\", \"broader\", \"dr\", \"diseases\", \"proves\", \"university\", \"fifth\", \"entertainment\", \"delay\", \"welcome\", \"finance\", \"sector\", \"zackscom\", \"corp\", \"depth\", \"looking\", \"patel\", \"annual\", \"proven\", \"bets\", \"coronavirus\", \"mean\", \"chip\", \"pre\", \"made\", \"market\", \"announced\", \"dow\", \"shares\", \"results\", \"jones\", \"average\", \"stock\", \"companies\", \"industrial\", \"news\", \"tuesday\", \"nasdaq\", \"inc\", \"media\", \"yet\", \"year\", \"produccion\", \"january\", \"options\", \"presidente\", \"autocracies\", \"guerra\", \"ensure\", \"face\", \"celebrated\", \"nicknamed\", \"tries\", \"contra\", \"yesterday\", \"bloc\", \"rules\", \"imports\", \"tequila\", \"ley\", \"ideada\", \"stricter\", \"garantizar\", \"supply\", \"birthday\", \"teslaquila\", \"bottle\", \"splurged\", \"treated\", \"para\", \"invoco\", \"corea\", \"de\", \"el\", \"la\", \"available\", \"one\", \"tesla\", \"aapl\", \"new\", \"china\", \"itunes\", \"stitcher\", \"podcast\", \"alpha\", \"listen\", \"seeking\", \"spotify\", \"daily\", \"breakfast\", \"inc\", \"us\", \"wall\", \"go\", \"said\", \"street\", \"may\", \"pharmaceutical\", \"growing\", \"past\", \"ford\", \"easing\", \"highlights\", \"edt\", \"percent\", \"quiet\", \"stories\", \"february\", \"protect\", \"got\", \"domination\", \"pm\", \"hill\", \"rights\", \"canaccord\", \"energy\", \"legalization\", \"law\", \"storage\", \"top\", \"unlike\", \"genuity\", \"season\", \"gain\", \"highs\", \"make\", \"enacted\", \"powell\", \"workers\", \"much\", \"head\", \"take\", \"live\", \"battery\", \"electric\", \"nasdaq\", \"stocks\", \"buy\", \"company\", \"may\", \"inc\", \"maker\", \"market\", \"go\", \"nyse\", \"stock\", \"information\", \"according\", \"third\", \"today\", \"tesla\", \"cap\", \"reit\", \"edge\", \"actually\", \"friendly\", \"gap\", \"biweekly\", \"introduced\", \"great\", \"headphones\", \"demonstrates\", \"provide\", \"huge\", \"sound\", \"wiling\", \"know\", \"combine\", \"reits\", \"attractive\", \"fed\", \"opened\", \"features\", \"max\", \"user\", \"airpods\", \"cutting\", \"slips\", \"ear\", \"weeks\", \"highly\", \"jitters\", \"recent\", \"number\", \"investors\", \"stocks\", \"vehicle\", \"report\", \"apple\", \"made\", \"moves\", \"targets\", \"industry\", \"analysts\", \"lithium\", \"stratospheric\", \"unveiled\", \"sigma\", \"ever\", \"find\", \"brazil\", \"supplies\", \"contemporary\", \"amperex\", \"spodumene\", \"alike\", \"ion\", \"hard\", \"class\", \"attest\", \"deposit\", \"give\", \"sodium\", \"pioneer\", \"grade\", \"enthusiasts\", \"impurity\", \"hoped\", \"likes\", \"rock\", \"developing\", \"generation\", \"batteries\", \"tsla\", \"tesla\", \"group\", \"investors\", \"rapidly\", \"vehicles\", \"nasdaq\", \"ltd\", \"southeast\", \"co\", \"lazada\", \"rise\", \"could\", \"electric\", \"time\", \"inc\", \"technology\", \"musk\", \"thursday\", \"high\", \"since\"], \"Freq\": [6.0, 8.0, 12.0, 5.0, 3.0, 4.0, 4.0, 8.0, 7.0, 10.0, 15.0, 11.0, 2.0, 4.0, 1.0, 15.0, 2.0, 2.0, 5.0, 4.0, 4.0, 2.0, 1.0, 1.0, 2.0, 2.0, 3.0, 3.0, 4.0, 5.0, 3.209420499265286, 2.096479785914443, 1.5521676611564597, 1.5521645618821047, 1.470864101836014, 1.4642337208994827, 1.4371646586839966, 1.3884816998710852, 1.9412679786377647, 1.2821252300952468, 2.9608631235390317, 0.8130763265245493, 0.813069242468881, 0.813073448626934, 0.8130727844967152, 0.8130655528565537, 0.8130696852223602, 0.8130685783386621, 0.813065183895321, 0.8130595018923371, 0.8130550743575444, 0.813054484019572, 0.8130603873992956, 0.8130591329311043, 0.8130579522551596, 0.813054336435079, 0.8130483592631088, 0.8130445958585351, 0.8130490971855743, 0.8130479903018761, 1.2195161985144265, 1.1992374988259802, 1.1957429931986112, 2.2356767570925187, 6.43965867678778, 3.533176601755346, 1.4136078122350504, 1.3612005587390297, 1.3360695760867927, 1.5522681661962534, 1.8394306936248144, 1.9666300786061794, 2.2911342868917095, 3.17657911235609, 1.1684877531450928, 1.0315854256655699, 1.8516089232410666, 2.140080672707823, 2.2913835571005374, 2.291332050112449, 1.9634162786846663, 3.2746614051113685, 1.8395979068554846, 1.5521965877171051, 1.7709461757896148, 1.3939240256382472, 2.490036394484153, 2.48990732261766, 2.48977420883468, 1.6868088309754703, 1.6867533219890454, 3.018309490145264, 1.5131399399985073, 1.6867374237841957, 0.8836247854343007, 0.8836140743556095, 0.8836071357323063, 0.8835976372285613, 0.8835994560909806, 0.88359804142021, 0.8835994560909806, 0.8835933258509749, 0.8835902270483347, 0.8835948078870203, 0.8835913722580061, 0.8835905638747086, 0.8835857809401987, 0.8835883408206406, 0.8835852420180004, 0.8835910354316321, 0.8835781012988729, 0.8835797854307427, 0.8835724426157908, 0.8835726447116151, 0.8835814695626123, 0.8835671207590826, 1.2147907247922047, 2.1253772488852314, 1.1975185377978046, 3.020622005298167, 1.477379218608145, 1.212670065941896, 1.8495746522280865, 1.129347574323908, 2.707998627286605, 1.1129758589575918, 1.1424028298471642, 1.9294173232116545, 1.4175542737582139, 1.0785033637169896, 1.3370458991291962, 1.469981029400439, 2.9489690655010574, 1.0923653857711, 1.068493961727973, 2.490070885504844, 1.6866816453366715, 1.107842625018789, 1.642656686765936, 1.6186556519341178, 1.7298362445571536, 1.1222307698689893, 1.2332540645753964, 1.1322553290448332, 1.4375471353966915, 1.4374710350104285, 1.4373094785682266, 1.4372932772865934, 1.3030346255143543, 1.2051342738783484, 1.1899842500547504, 1.1706180138264013, 1.5759543421088327, 0.7530183992361699, 0.7530067616958418, 0.7530067616958418, 0.7530044798251893, 0.7530077314908692, 0.7530002013177156, 0.753003167749564, 0.752998090587362, 0.7529884496838549, 0.7529976912599978, 0.7529935268460569, 0.7529940402669537, 0.7529821745395604, 0.7529851409714087, 0.7529872517017623, 0.7529838859425498, 0.7529765269096953, 0.7529851409714087, 0.7529844564102129, 0.7529783524062174, 0.7529810906510004, 1.1201894710593656, 1.1326537331248905, 1.437402350703786, 2.843413919588448, 1.8320534773749675, 2.487214823470764, 1.4374860953567354, 1.4148717303479876, 1.5099911662197083, 1.43741684058243, 1.1973192091738991, 1.7768261606255802, 2.088888059552425, 1.067923451949349, 2.3229577873515983, 1.8349529363196537, 2.1218558421795395, 1.5590519557175946, 1.3167995538518433, 1.8029653312313505, 1.1007981342538382, 1.1051473797176339, 1.5248303054544423, 1.3380136348155125, 1.335237142047036, 1.323974234442428, 1.2434879291053855, 1.5246771318588919, 1.25843508224632, 0.7987529874193062, 0.798741366590164, 0.7987353348264664, 0.7987309078439361, 0.7987285836781076, 0.7987272555833484, 0.7987179035827531, 0.7987164648134307, 0.79871508138139, 0.7987151367186717, 0.7987217218551855, 0.7987144726712921, 0.7987115951326473, 0.7987100456887617, 0.798708662256721, 0.7987077215229333, 0.7987053973571049, 0.7987058953926395, 0.7986994209306889, 0.7986988675578726, 0.7986954919836932, 0.79870285184215, 0.7986937765279627, 0.7987015790846724, 2.5261564243974433, 4.17302469321886, 1.5167158678254242, 1.5248179099033572, 1.1952138981031069, 1.2357046297696384, 1.0832753206572, 0.9985664487081398, 2.51200159045488, 1.524781829995735, 2.0401080516788475, 1.3772860608896897, 2.469571176392672, 1.5248317442237647, 1.074328720987038, 1.2102228076503398, 1.6342349887745362, 1.2945084600694978, 1.9647056930796671, 1.0478830340963177, 1.231581448915427, 1.0174020419546133, 0.8266617366990281, 1.2294082641002615, 1.2293615124436572, 0.6440217170889276, 0.6440162196115206, 0.6440141407335095, 0.6440114612907397, 0.6440055480377305, 0.644007765507609, 0.6440069801536936, 0.644005409445863, 0.6440009745061062, 0.6440021294383345, 0.6439965395663492, 0.6439970015392406, 0.6439953384368317, 0.6439967243555057, 0.6439952922395425, 0.6439965857636383, 0.6439943682937599, 0.6439965857636383, 0.643990302932316, 0.6439902567350269, 0.6439953384368317, 0.6439918736401465, 0.6439952922395425, 0.6439905339187617, 0.6439885012380397, 0.6439885012380397, 0.6439876696868353, 0.6439870229247875, 1.1597504208351281, 0.6439897023675573, 3.2778739529624032, 3.2989144159042247, 1.2294085412839963, 1.2294188894767626, 1.1748806797887907, 1.8148157846808628, 2.429021494178519, 1.8149185274518984, 1.2293893232117163, 1.754662664076881, 1.7537878722098263, 0.9377094334405082, 1.1187172494690603, 0.9036193450530727, 0.907589909659622, 0.8364710309283147, 0.8399973624025446, 0.6443288828643843, 0.6440164967952554, 0.6440161272169423, 0.6440140021416421, 0.6440112765015832, 1.241998684183366, 1.2419771012872953, 1.2419361491255203, 1.2419134594142667, 1.1679187138665357, 0.6505731670805428, 0.6505681172362698, 0.6505701925147381, 0.6505556655654599, 0.6505564265008983, 0.6505528293515531, 0.6505500623135954, 0.6505482637389228, 0.6505482637389228, 0.6505463959883013, 0.6505458425807098, 0.6505375414668365, 0.650536918883296, 0.6505378181706323, 0.6505352586605213, 0.6505396859212538, 0.6505353970124191, 0.6505349127807766, 0.6505326991504103, 0.6505332525580019, 0.6505313156314315, 0.6505305546959931, 0.6505240521567923, 0.650529378704861, 0.6505163736264595, 1.00132642658098, 1.2419920432922673, 1.2419643729126897, 1.7206586191615085, 1.2419629893937107, 3.268581850067414, 1.0325768690444022, 1.3311428241979948, 1.7876237047775225, 1.2419425133128232, 1.0526504150850002, 1.0344934578858522, 2.0979993087589324, 1.241891876518196, 1.0466184798649065, 1.0023541044784963, 0.8033420244885644, 0.7796525132447513, 0.6748323422639119, 0.6505957184398986, 0.6505752423590111, 0.6505637591514863, 1.0480649559702662, 1.0430671385580963, 1.5378945504960229, 0.5490008281977681, 0.549002072408661, 0.5490001764682528, 0.5489975695501916, 0.5489956736097834, 0.5489954958653702, 0.5489947848877171, 0.5489922372177937, 0.5489890970664927, 0.5489909930069008, 0.5489886823295284, 0.5489873788704978, 0.5489876158630488, 0.5489876751111865, 0.5489848312005743, 0.5489818095455489, 0.5489821057862376, 0.5489799136051406, 0.5489780769128703, 0.5489776029277682, 0.5489770104463907, 0.5489754699948091, 0.5489762402205999, 0.548974048039503, 0.5489704339030999, 0.5489709671363397, 0.5489700784142734, 2.545279379595005, 1.048070762287766, 1.5471107168200602, 1.1086931013496686, 1.0429327637816683, 1.5470564455258768, 1.0449244491804344, 1.0438910431617148, 0.730813514841154, 0.6185976604298059, 0.6143364158662039, 0.6037030340870714, 0.6036655892640104, 0.6011243181394308, 0.6001476718366804, 0.5987491195449779, 0.5947323327977523, 0.5927113788189354, 0.7822223537452181, 0.6964562899829264, 0.6083098730381972, 0.6254964543418391, 0.5762969784946522, 0.5954468060909376, 0.6098292322827817, 0.5490068715078191, 0.9635412240227262, 0.9396155568796073, 0.9348429556766107, 0.5047326397648809, 0.5047367608171529, 0.5047285715466124, 0.504728096040581, 0.5047271450285182, 0.5047304207367345, 0.5047243448263334, 0.5047256656764206, 0.5047211219521207, 0.5047270921945148, 0.5047197482680301, 0.5047227598062288, 0.5047187444219638, 0.5047172122358627, 0.5047171594018592, 0.5047191142599883, 0.5047166838958278, 0.5047148347057058, 0.5047147290376988, 0.5047097098073675, 0.5047126685115628, 0.5047135138556186, 0.5047047962450433, 0.5047049547470537, 0.5047088116293083, 0.5047087587953047, 0.5047111891594652, 0.9635619349520932, 0.9397840973507311, 0.9288191396030325, 0.9923634409410227, 0.6444562830387872, 0.7429326839603324, 0.9497700410138138, 1.3040290084832753, 0.7985416349785812, 0.6501807944826109, 0.6499823499655134, 0.6142596423537774, 0.5714215153224164, 0.5251090242217435, 0.5534097166916189, 0.5174206728683044, 0.5127932595068903, 0.504738715675282, 0.5047379231652297, 0.5047357041370832, 0.5047329567689018, 0.504732428428867, 0.5047290998866473, 0.5047289942186404, 1.1281179958472722, 1.1281097550767185, 0.5909643812685629, 0.5909527068436118, 0.5909471214324588, 0.5909414444571883, 0.5909404830339571, 0.5909400252133707, 0.5909402083416053, 0.590938880661905, 0.5909385601874946, 0.5909381939310255, 0.5909351723151558, 0.5909344398022177, 0.5909325169557552, 0.590932791648107, 0.5909302736348823, 0.5909273893651884, 0.5909351723151558, 0.5909250544801983, 0.5909178209149344, 0.5909174088764068, 0.5909168594917031, 0.5909156691581787, 0.5909069705670387, 0.5909125559781918, 0.5908976768091364, 0.5908831638965502, 0.5908719930742441, 0.5908857734738922, 1.1281609394182688, 0.7465204625486245, 1.1281022468191029, 0.5909511960356769, 0.5909462515733447, 0.5909431841754164, 0.5909426347907129, 0.5909424058804197, 0.5909412613289539, 0.5909387433157292, 0.5909312350581135, 0.5909309145837031, 1.0603360546414602, 0.3762588743409652, 0.37625751337353336, 0.37625356656798103, 0.3762515931652049, 0.3762496197624287, 0.37625081060893156, 0.3762473401419804, 0.3762473061177946, 0.37624608124710596, 0.37624441406200193, 0.37624176017550987, 0.37624363150572865, 0.37624284894945537, 0.37624240663504, 0.37623934445831836, 0.3762409435950508, 0.3762367926443837, 0.3762375411764712, 0.3762340366853342, 0.37623607813648197, 0.37622974963792394, 0.3762317230407001, 0.3762272658723608, 0.37622641526771594, 0.37622536051795624, 0.3762242717440108, 0.37621872580172605, 0.7182392661214089, 0.7183011901395573, 1.1095344148669628, 0.6732999854254632, 0.7758731746829133, 0.43905537468583633, 0.5069341697355959, 0.7182487248450601, 0.49007032021516705, 0.46543350935292543, 0.5205497982864635, 0.4934425253177686, 0.44129535695770833, 0.4523534555106709, 0.44795759875421437, 0.43266692551242975, 0.4279538612717982, 0.3762636037027908, 0.37626169834838624, 0.37626074567118395, 0.37625513168052765, 0.3762538387614674], \"Total\": [6.0, 8.0, 12.0, 5.0, 3.0, 4.0, 4.0, 8.0, 7.0, 10.0, 15.0, 11.0, 2.0, 4.0, 1.0, 15.0, 2.0, 2.0, 5.0, 4.0, 4.0, 2.0, 1.0, 1.0, 2.0, 2.0, 3.0, 3.0, 4.0, 5.0, 4.180507516270535, 2.775327855512169, 2.0750843808500683, 2.075086815956491, 2.0314361805713377, 2.0278316455497887, 2.0132729833751215, 2.0423274752514287, 2.9995637451936124, 2.0211113467111472, 4.809380117805826, 1.3359805469504165, 1.3359739623197273, 1.3359815723603663, 1.3359816119265275, 1.3359701703681237, 1.3359774369623743, 1.335975910177598, 1.3359728714559624, 1.3359639129773675, 1.335959909619369, 1.3359592788749504, 1.3359698732311656, 1.335969649686499, 1.335968837162717, 1.3359634699576823, 1.3359539004047394, 1.3359496218622449, 1.335957822266806, 1.335956388058232, 2.0085902168534053, 2.001723424457413, 2.0010233940925928, 3.935278672720217, 15.490731457143498, 8.461479021786593, 2.7319158156215497, 2.6283115627971796, 2.626830452354348, 3.3450032350073284, 4.382103253838506, 5.281035429698312, 6.883776817151411, 11.687234486022293, 2.3884456755707792, 1.971014875149337, 5.256255126673106, 6.77586152896736, 7.787762448541131, 7.9298157151778605, 6.125000775846344, 15.79885462510952, 7.602783449907781, 4.66820322726065, 12.144332792348031, 5.08267029490692, 3.006547709304593, 3.006493068018721, 3.0064580942754304, 2.203315950641187, 2.203259220475121, 3.9940357409634566, 2.1288218422135934, 2.5453496740540347, 1.4001174764212077, 1.4001090714103996, 1.400101836648431, 1.4000922652797363, 1.4000957284122915, 1.400093555877938, 1.4000964055867011, 1.4000871908536066, 1.4000843147057305, 1.4000918578505361, 1.4000866725414036, 1.400087114154772, 1.4000808003118694, 1.4000862768842028, 1.4000830653794634, 1.4000923841399493, 1.4000733239060565, 1.4000764827132282, 1.4000676268873065, 1.400068446503431, 1.4000826812888105, 1.4000622541709176, 1.932308582313167, 3.4805513270657706, 1.9223729923621633, 5.1397672305941855, 2.4250949658811978, 1.9720976509465946, 3.257241226932652, 1.8832107333172579, 5.61978509961549, 1.8738281088592563, 1.9511232127213907, 3.9651371240423168, 2.6868018577808486, 1.8540403316584204, 2.69985402760634, 3.1623967527453893, 10.91773219477726, 2.016353352178853, 1.9691653191594658, 10.613798771089584, 5.101894426303929, 2.329710530512751, 6.125000775846344, 7.9298157151778605, 15.79885462510952, 2.551894255021313, 6.883776817151411, 4.382103253838506, 1.9659213423539794, 1.965854149417695, 1.9658400614030456, 1.965845384002306, 1.9215494716914565, 1.9342711196463993, 1.932219020440683, 1.9295329193371926, 2.6804704835577793, 1.2813897572020438, 1.2813732835756892, 1.2813735431008284, 1.2813730501016933, 1.2813790355065944, 1.281366940034796, 1.2813766736895256, 1.2813718123725313, 1.2813558808670689, 1.2813722077859246, 1.2813666188990236, 1.281367922645841, 1.281350120025003, 1.2813552788252645, 1.2813595790810666, 1.28135450245381, 1.2813444727041603, 1.2813594979126328, 1.2813584564610012, 1.2813495768167091, 1.2813547199323492, 1.922695651185502, 1.956365075777766, 2.551274766209259, 6.426734299753496, 4.108178546233935, 6.496352930367897, 3.23620435325138, 3.444041213489683, 4.260561407271946, 4.166919408743231, 3.036245219857553, 6.883776817151411, 10.91773219477726, 2.721656179469781, 15.79885462510952, 10.613798771089584, 15.490731457143498, 7.602783449907781, 5.184589421638547, 11.687234486022293, 3.946127003305117, 7.787762448541131, 2.0490470015998605, 1.9802724004434222, 1.9792388204627307, 1.9751125435697223, 1.9454401031379365, 2.3909658176228925, 2.0337350934339455, 1.3229678573154096, 1.322950435159677, 1.3229448288721952, 1.322940356010639, 1.322938628368908, 1.3229429253270173, 1.3229283865486325, 1.322926451351128, 1.3229253967178236, 1.3229256104162217, 1.322936869227059, 1.3229252030039205, 1.322922090985295, 1.3229205954785164, 1.3229186265743518, 1.3229182625819078, 1.3229156823162966, 1.3229170515599764, 1.3229101885831336, 1.3229104118459418, 1.3229066985405173, 1.3229202382242924, 1.3229052974389615, 1.322918381041109, 4.665855293012011, 12.144332792348031, 3.25610179738129, 3.848369329601439, 2.586174552302922, 2.772119248098678, 2.236173270968615, 1.958268201238018, 10.613798771089584, 4.378158324474958, 8.424628367663125, 4.166919408743231, 15.79885462510952, 5.61978509961549, 2.691486262207611, 3.6387515807183353, 7.602783449907781, 4.326650610716718, 15.490731457143498, 2.8604171647681014, 4.739034103436842, 5.184589421638547, 2.4735922649886724, 1.7676983183273312, 1.7676556735958484, 1.1823011146200597, 1.1822940833907531, 1.182291780668866, 1.1822895932685173, 1.182283590108183, 1.1822877488631525, 1.182286784966195, 1.182286130592779, 1.1822792780702893, 1.1822825206092311, 1.182274698333078, 1.1822756427833574, 1.1822734791891327, 1.182276271189782, 1.1822737799667467, 1.1822766597470267, 1.1822730751881136, 1.1822772937890156, 1.1822684790700468, 1.182268871740223, 1.1822785037840022, 1.1822722787332365, 1.1822787215807373, 1.1822700217267252, 1.1822677967680726, 1.1822700021633952, 1.1822690093917014, 1.1822685411713472, 2.2564474206787493, 1.182273895924795, 10.91773219477726, 11.687234486022293, 2.965630590738561, 3.126297961091619, 2.943202180283681, 6.125000775846344, 12.144332792348031, 7.787762448541131, 3.9651371240423168, 7.9298157151778605, 15.79885462510952, 4.739034103436842, 10.613798771089584, 7.602783449907781, 8.424628367663125, 6.77586152896736, 15.490731457143498, 2.6868018577808486, 1.9083785538946496, 6.883776817151411, 1.9213680792072516, 1.9855354855427891, 1.7796847921313448, 1.779671583935648, 1.7796230451910344, 1.7796028365476868, 1.791262206274502, 1.188257149122759, 1.1882491706299168, 1.188254497364409, 1.18823790788119, 1.188241284013067, 1.1882385456926354, 1.1882340441566173, 1.188233492679319, 1.1882347524849874, 1.1882323896278384, 1.1882316833709547, 1.1882197109716452, 1.188219600087853, 1.1882223708970157, 1.1882180217282767, 1.1882269442878206, 1.1882198429381632, 1.1882212531625054, 1.1882175139006832, 1.1882208212183307, 1.1882180996055127, 1.1882175069699488, 1.1882064734316586, 1.1882165435722822, 1.18819995205398, 1.839736425967439, 2.5057283490270463, 2.518752220605661, 4.378158324474958, 2.920347838230378, 15.79885462510952, 2.516384302322996, 3.885137531496565, 7.787762448541131, 3.946127003305117, 3.2156093689473515, 3.2200480341263615, 15.490731457143498, 5.101894426303929, 3.956231091366658, 5.256255126673106, 2.6283115627971796, 12.144332792348031, 11.687234486022293, 1.9915062417986422, 2.5939355096043313, 5.184589421638547, 1.5949868878752789, 1.5980086413167682, 2.8386953555101213, 1.0959166053530638, 1.0959194681636073, 1.0959162728240757, 1.0959153034987965, 1.095913750449652, 1.0959141929919642, 1.0959138664134764, 1.0959103822775322, 1.0959053613707357, 1.0959095238280956, 1.0959073051592434, 1.0959054407319815, 1.0959059203125483, 1.095906451481441, 1.0959015650153057, 1.0958991907556461, 1.0959006248942003, 1.0958970261339238, 1.0958970479020507, 1.0958975661014683, 1.09589699554307, 1.0958950722657117, 1.0958966213516588, 1.0958941611117072, 1.0958875432100406, 1.0958888243473552, 1.0958872925206926, 6.426734299753496, 2.3982681625290456, 4.108178546233935, 2.889455493807967, 3.6711941686391483, 8.461479021786593, 4.739034103436842, 6.77586152896736, 2.973288291998176, 1.6692770317327632, 1.6699941576582071, 1.67186022042211, 1.6718984699503272, 1.6723001432244105, 1.6724319071242375, 1.672762039244944, 1.673407225308409, 1.673723458986316, 11.687234486022293, 5.61978509961549, 2.2564474206787493, 2.8381797649459717, 1.5569094611316598, 2.943202180283681, 7.602783449907781, 1.8350235866788023, 1.5145003116217033, 1.5165866513078436, 1.5170516939376892, 1.0556737608805455, 1.0556851085125225, 1.055670037361002, 1.0556695964940788, 1.0556683456179317, 1.0556768724989494, 1.0556657462646972, 1.0556714809120125, 1.0556629430056905, 1.0556763365550754, 1.0556614804303637, 1.0556706137752365, 1.0556646659572724, 1.055663025312693, 1.0556632363456335, 1.055668477082971, 1.0556639696585084, 1.055662519089561, 1.0556623308875184, 1.0556521230309268, 1.0556590999047102, 1.0556624074517176, 1.055647164530607, 1.0556478555222735, 1.055656003875037, 1.055655978509374, 1.0556610743164916, 2.0999295327015743, 2.201798746903268, 2.7885573908994896, 3.6387515807183353, 1.6914423147933653, 2.3884456755707792, 4.569664682761394, 12.144332792348031, 10.613798771089584, 4.326650610716718, 6.496352930367897, 7.602783449907781, 11.687234486022293, 2.4349468974720483, 15.79885462510952, 2.8381797649459717, 3.257241226932652, 15.490731457143498, 1.6410952688095573, 3.0597523707214562, 2.4265023265080155, 1.5564258329564207, 8.461479021786593, 1.6411158269812138, 1.6712341127932686, 1.6712385665567713, 1.134068613596954, 1.1340567293330168, 1.1340531274491683, 1.1340465958118062, 1.134045325204547, 1.1340450569091818, 1.1340457662918184, 1.1340435910222117, 1.1340444469634507, 1.1340441934978007, 1.134040865127708, 1.134040338531342, 1.1340378737385381, 1.1340392580599337, 1.1340360871727677, 1.1340343672734732, 1.1340501209641922, 1.1340333601449941, 1.134024538415255, 1.134024587413002, 1.1340242690637041, 1.1340226394253279, 1.1340159391583813, 1.134032777148685, 1.1340068311156752, 1.1339925502808534, 1.1339817176956704, 1.1340091664412768, 2.2567048858741305, 1.6923593130415788, 8.424628367663125, 10.613798771089584, 1.592882885295689, 2.2680095025246914, 10.91773219477726, 2.920347838230378, 1.7254353837323593, 1.8675253592234895, 1.7911316053077655, 1.7194637237956325, 1.6229783054167122, 0.9388809578136259, 0.9388820725343583, 0.9388791989644072, 0.938874638339215, 0.9388721160747873, 0.9388770783975406, 0.9388731751456949, 0.9388732318673398, 0.9388720916962705, 0.938871392477794, 0.938865114170683, 0.9388700369761822, 0.9388699838748915, 0.9388695124071738, 0.9388627743468554, 0.9388687249432068, 0.9388609617535589, 0.938863709038021, 0.9388581329401533, 0.9388636772903369, 0.9388536445982669, 0.9388601797791992, 0.9388519834793383, 0.9388542303449197, 0.9388549236196078, 0.9388536107692629, 0.9388477478013075, 2.014875334486776, 2.0200440186146307, 8.461479021786593, 5.1397672305941855, 8.424628367663125, 1.5030095425234828, 2.9995637451936124, 12.144332792348031, 2.9963137131168054, 2.4250949658811978, 4.382103253838506, 3.9940357409634566, 2.236173270968615, 2.8604171647681014, 4.569664682761394, 4.260561407271946, 11.687234486022293, 2.3909658176228925, 2.4040572110044627, 5.08267029490692, 3.0267944685124406, 2.5453496740540347], \"Category\": [\"Default\", \"Default\", \"Default\", \"Default\", \"Default\", \"Default\", \"Default\", \"Default\", \"Default\", \"Default\", \"Default\", \"Default\", \"Default\", \"Default\", \"Default\", \"Default\", \"Default\", \"Default\", \"Default\", \"Default\", \"Default\", \"Default\", \"Default\", \"Default\", \"Default\", \"Default\", \"Default\", \"Default\", \"Default\", \"Default\", \"Topic1\", \"Topic1\", \"Topic1\", \"Topic1\", \"Topic1\", \"Topic1\", \"Topic1\", \"Topic1\", \"Topic1\", \"Topic1\", \"Topic1\", \"Topic1\", \"Topic1\", \"Topic1\", \"Topic1\", \"Topic1\", \"Topic1\", \"Topic1\", \"Topic1\", \"Topic1\", \"Topic1\", \"Topic1\", \"Topic1\", \"Topic1\", \"Topic1\", \"Topic1\", \"Topic1\", \"Topic1\", \"Topic1\", \"Topic1\", \"Topic1\", \"Topic1\", \"Topic1\", \"Topic1\", \"Topic1\", \"Topic1\", \"Topic1\", \"Topic1\", \"Topic1\", \"Topic1\", \"Topic1\", \"Topic1\", \"Topic1\", \"Topic1\", \"Topic1\", \"Topic1\", \"Topic1\", \"Topic1\", \"Topic1\", \"Topic1\", \"Topic1\", \"Topic1\", \"Topic1\", \"Topic1\", \"Topic1\", \"Topic1\", \"Topic2\", \"Topic2\", \"Topic2\", \"Topic2\", \"Topic2\", \"Topic2\", \"Topic2\", \"Topic2\", \"Topic2\", \"Topic2\", \"Topic2\", \"Topic2\", \"Topic2\", \"Topic2\", \"Topic2\", \"Topic2\", \"Topic2\", \"Topic2\", \"Topic2\", \"Topic2\", \"Topic2\", \"Topic2\", \"Topic2\", \"Topic2\", \"Topic2\", \"Topic2\", \"Topic2\", \"Topic2\", \"Topic2\", \"Topic2\", \"Topic2\", \"Topic2\", \"Topic2\", \"Topic2\", \"Topic2\", \"Topic2\", \"Topic2\", \"Topic2\", \"Topic2\", \"Topic2\", \"Topic2\", \"Topic2\", \"Topic2\", \"Topic2\", \"Topic2\", \"Topic2\", \"Topic2\", \"Topic2\", \"Topic2\", \"Topic2\", \"Topic2\", \"Topic2\", \"Topic2\", \"Topic2\", \"Topic2\", \"Topic2\", \"Topic2\", \"Topic2\", \"Topic3\", \"Topic3\", \"Topic3\", \"Topic3\", \"Topic3\", \"Topic3\", \"Topic3\", \"Topic3\", \"Topic3\", \"Topic3\", \"Topic3\", \"Topic3\", \"Topic3\", \"Topic3\", \"Topic3\", \"Topic3\", \"Topic3\", \"Topic3\", \"Topic3\", \"Topic3\", \"Topic3\", \"Topic3\", \"Topic3\", \"Topic3\", \"Topic3\", \"Topic3\", \"Topic3\", \"Topic3\", \"Topic3\", \"Topic3\", \"Topic3\", \"Topic3\", \"Topic3\", \"Topic3\", \"Topic3\", \"Topic3\", \"Topic3\", \"Topic3\", \"Topic3\", \"Topic3\", \"Topic3\", \"Topic3\", \"Topic3\", \"Topic3\", \"Topic3\", \"Topic3\", \"Topic3\", \"Topic3\", \"Topic3\", \"Topic3\", \"Topic3\", \"Topic3\", \"Topic4\", \"Topic4\", \"Topic4\", \"Topic4\", \"Topic4\", \"Topic4\", \"Topic4\", \"Topic4\", \"Topic4\", \"Topic4\", \"Topic4\", \"Topic4\", \"Topic4\", \"Topic4\", \"Topic4\", \"Topic4\", \"Topic4\", \"Topic4\", \"Topic4\", \"Topic4\", \"Topic4\", \"Topic4\", \"Topic4\", \"Topic4\", \"Topic4\", \"Topic4\", \"Topic4\", \"Topic4\", \"Topic4\", \"Topic4\", \"Topic4\", \"Topic4\", \"Topic4\", \"Topic4\", \"Topic4\", \"Topic4\", \"Topic4\", \"Topic4\", \"Topic4\", \"Topic4\", \"Topic4\", \"Topic4\", \"Topic4\", \"Topic4\", \"Topic4\", \"Topic4\", \"Topic4\", \"Topic4\", \"Topic4\", \"Topic4\", \"Topic4\", \"Topic4\", \"Topic4\", \"Topic4\", \"Topic5\", \"Topic5\", \"Topic5\", \"Topic5\", \"Topic5\", \"Topic5\", \"Topic5\", \"Topic5\", \"Topic5\", \"Topic5\", \"Topic5\", \"Topic5\", \"Topic5\", \"Topic5\", \"Topic5\", \"Topic5\", \"Topic5\", \"Topic5\", \"Topic5\", \"Topic5\", \"Topic5\", \"Topic5\", \"Topic5\", \"Topic5\", \"Topic5\", \"Topic5\", \"Topic5\", \"Topic5\", \"Topic5\", \"Topic5\", \"Topic5\", \"Topic5\", \"Topic5\", \"Topic5\", \"Topic5\", \"Topic5\", \"Topic5\", \"Topic5\", \"Topic5\", \"Topic5\", \"Topic5\", \"Topic5\", \"Topic5\", \"Topic5\", \"Topic5\", \"Topic5\", \"Topic5\", \"Topic5\", \"Topic5\", \"Topic5\", \"Topic5\", \"Topic5\", \"Topic5\", \"Topic5\", \"Topic6\", \"Topic6\", \"Topic6\", \"Topic6\", \"Topic6\", \"Topic6\", \"Topic6\", \"Topic6\", \"Topic6\", \"Topic6\", \"Topic6\", \"Topic6\", \"Topic6\", \"Topic6\", \"Topic6\", \"Topic6\", \"Topic6\", \"Topic6\", \"Topic6\", \"Topic6\", \"Topic6\", \"Topic6\", \"Topic6\", \"Topic6\", \"Topic6\", \"Topic6\", \"Topic6\", \"Topic6\", \"Topic6\", \"Topic6\", \"Topic6\", \"Topic6\", \"Topic6\", \"Topic6\", \"Topic6\", \"Topic6\", \"Topic6\", \"Topic6\", \"Topic6\", \"Topic6\", \"Topic6\", \"Topic6\", \"Topic6\", \"Topic6\", \"Topic6\", \"Topic6\", \"Topic6\", \"Topic6\", \"Topic6\", \"Topic6\", \"Topic6\", \"Topic6\", \"Topic7\", \"Topic7\", \"Topic7\", \"Topic7\", \"Topic7\", \"Topic7\", \"Topic7\", \"Topic7\", \"Topic7\", \"Topic7\", \"Topic7\", \"Topic7\", \"Topic7\", \"Topic7\", \"Topic7\", \"Topic7\", \"Topic7\", \"Topic7\", \"Topic7\", \"Topic7\", \"Topic7\", \"Topic7\", \"Topic7\", \"Topic7\", \"Topic7\", \"Topic7\", \"Topic7\", \"Topic7\", \"Topic7\", \"Topic7\", \"Topic7\", \"Topic7\", \"Topic7\", \"Topic7\", \"Topic7\", \"Topic7\", \"Topic7\", \"Topic7\", \"Topic7\", \"Topic7\", \"Topic7\", \"Topic7\", \"Topic7\", \"Topic7\", \"Topic7\", \"Topic7\", \"Topic7\", \"Topic7\", \"Topic7\", \"Topic7\", \"Topic7\", \"Topic7\", \"Topic7\", \"Topic7\", \"Topic7\", \"Topic7\", \"Topic8\", \"Topic8\", \"Topic8\", \"Topic8\", \"Topic8\", \"Topic8\", \"Topic8\", \"Topic8\", \"Topic8\", \"Topic8\", \"Topic8\", \"Topic8\", \"Topic8\", \"Topic8\", \"Topic8\", \"Topic8\", \"Topic8\", \"Topic8\", \"Topic8\", \"Topic8\", \"Topic8\", \"Topic8\", \"Topic8\", \"Topic8\", \"Topic8\", \"Topic8\", \"Topic8\", \"Topic8\", \"Topic8\", \"Topic8\", \"Topic8\", \"Topic8\", \"Topic8\", \"Topic8\", \"Topic8\", \"Topic8\", \"Topic8\", \"Topic8\", \"Topic8\", \"Topic8\", \"Topic8\", \"Topic8\", \"Topic8\", \"Topic8\", \"Topic8\", \"Topic8\", \"Topic8\", \"Topic8\", \"Topic8\", \"Topic8\", \"Topic8\", \"Topic8\", \"Topic8\", \"Topic8\", \"Topic9\", \"Topic9\", \"Topic9\", \"Topic9\", \"Topic9\", \"Topic9\", \"Topic9\", \"Topic9\", \"Topic9\", \"Topic9\", \"Topic9\", \"Topic9\", \"Topic9\", \"Topic9\", \"Topic9\", \"Topic9\", \"Topic9\", \"Topic9\", \"Topic9\", \"Topic9\", \"Topic9\", \"Topic9\", \"Topic9\", \"Topic9\", \"Topic9\", \"Topic9\", \"Topic9\", \"Topic9\", \"Topic9\", \"Topic9\", \"Topic9\", \"Topic9\", \"Topic9\", \"Topic9\", \"Topic9\", \"Topic9\", \"Topic9\", \"Topic9\", \"Topic9\", \"Topic9\", \"Topic9\", \"Topic9\", \"Topic10\", \"Topic10\", \"Topic10\", \"Topic10\", \"Topic10\", \"Topic10\", \"Topic10\", \"Topic10\", \"Topic10\", \"Topic10\", \"Topic10\", \"Topic10\", \"Topic10\", \"Topic10\", \"Topic10\", \"Topic10\", \"Topic10\", \"Topic10\", \"Topic10\", \"Topic10\", \"Topic10\", \"Topic10\", \"Topic10\", \"Topic10\", \"Topic10\", \"Topic10\", \"Topic10\", \"Topic10\", \"Topic10\", \"Topic10\", \"Topic10\", \"Topic10\", \"Topic10\", \"Topic10\", \"Topic10\", \"Topic10\", \"Topic10\", \"Topic10\", \"Topic10\", \"Topic10\", \"Topic10\", \"Topic10\", \"Topic10\", \"Topic10\", \"Topic10\", \"Topic10\", \"Topic10\", \"Topic10\", \"Topic10\", \"Topic10\"], \"logprob\": [30.0, 29.0, 28.0, 27.0, 26.0, 25.0, 24.0, 23.0, 22.0, 21.0, 20.0, 19.0, 18.0, 17.0, 16.0, 15.0, 14.0, 13.0, 12.0, 11.0, 10.0, 9.0, 8.0, 7.0, 6.0, 5.0, 4.0, 3.0, 2.0, 1.0, -4.5926, -5.0184, -5.319, -5.319, -5.3728, -5.3774, -5.396, -5.4305, -5.0954, -5.5102, -4.6732, -5.9656, -5.9656, -5.9656, -5.9656, -5.9656, -5.9656, -5.9656, -5.9656, -5.9656, -5.9657, -5.9657, -5.9656, -5.9656, -5.9657, -5.9657, -5.9657, -5.9657, -5.9657, -5.9657, -5.5602, -5.577, -5.5799, -4.9542, -3.8962, -4.4965, -5.4126, -5.4503, -5.469, -5.319, -5.1492, -5.0824, -4.9297, -4.6029, -5.603, -5.7276, -5.1426, -4.9979, -4.9295, -4.9296, -5.084, -4.5725, -5.1492, -5.319, -5.1872, -5.4266, -4.7553, -4.7553, -4.7554, -5.1447, -5.1448, -4.5629, -5.2534, -5.1448, -5.7913, -5.7913, -5.7913, -5.7913, -5.7913, -5.7913, -5.7913, -5.7913, -5.7913, -5.7913, -5.7913, -5.7913, -5.7913, -5.7913, -5.7913, -5.7913, -5.7913, -5.7913, -5.7914, -5.7914, -5.7913, -5.7914, -5.473, -4.9136, -5.4873, -4.5621, -5.2773, -5.4747, -5.0526, -5.5459, -4.6714, -5.5605, -5.5344, -5.0104, -5.3186, -5.592, -5.3771, -5.2823, -4.5861, -5.5792, -5.6013, -4.7553, -5.1448, -5.5652, -5.1713, -5.186, -5.1195, -5.5523, -5.4579, -5.5434, -5.1384, -5.1384, -5.1385, -5.1386, -5.2366, -5.3147, -5.3274, -5.3438, -5.0465, -5.785, -5.785, -5.785, -5.785, -5.785, -5.785, -5.785, -5.785, -5.785, -5.785, -5.785, -5.785, -5.785, -5.785, -5.785, -5.785, -5.785, -5.785, -5.785, -5.785, -5.785, -5.3878, -5.3768, -5.1385, -4.4563, -4.8959, -4.5902, -5.1384, -5.1543, -5.0892, -5.1385, -5.3212, -4.9265, -4.7647, -5.4356, -4.6585, -4.8943, -4.749, -5.0572, -5.2261, -4.9119, -5.4053, -5.4013, -5.049, -5.1797, -5.1818, -5.1903, -5.253, -5.0491, -5.241, -5.6956, -5.6956, -5.6956, -5.6956, -5.6956, -5.6956, -5.6956, -5.6956, -5.6956, -5.6956, -5.6956, -5.6956, -5.6956, -5.6956, -5.6956, -5.6957, -5.6957, -5.6957, -5.6957, -5.6957, -5.6957, -5.6957, -5.6957, -5.6957, -4.5442, -4.0422, -5.0543, -5.049, -5.2926, -5.2592, -5.3909, -5.4723, -4.5498, -5.049, -4.7579, -5.1508, -4.5668, -5.049, -5.3992, -5.2801, -4.9797, -5.2128, -4.7955, -5.4241, -5.2626, -5.4536, -5.6613, -5.0838, -5.0839, -5.7304, -5.7304, -5.7304, -5.7304, -5.7304, -5.7304, -5.7304, -5.7304, -5.7304, -5.7304, -5.7304, -5.7304, -5.7304, -5.7304, -5.7304, -5.7304, -5.7304, -5.7304, -5.7304, -5.7304, -5.7304, -5.7304, -5.7304, -5.7304, -5.7304, -5.7304, -5.7304, -5.7304, -5.1422, -5.7304, -4.1032, -4.0968, -5.0838, -5.0838, -5.1292, -4.6944, -4.4029, -4.6943, -5.0838, -4.7281, -4.7286, -5.3547, -5.1782, -5.3917, -5.3873, -5.4689, -5.4647, -5.7299, -5.7304, -5.7304, -5.7304, -5.7304, -4.7842, -4.7842, -4.7843, -4.7843, -4.8457, -5.4309, -5.4309, -5.4309, -5.4309, -5.4309, -5.4309, -5.4309, -5.4309, -5.4309, -5.4309, -5.4309, -5.4309, -5.4309, -5.4309, -5.4309, -5.4309, -5.4309, -5.4309, -5.4309, -5.4309, -5.4309, -5.4309, -5.4309, -5.4309, -5.4309, -4.9996, -4.7842, -4.7843, -4.4582, -4.7843, -3.8166, -4.9689, -4.7149, -4.4201, -4.7843, -4.9496, -4.967, -4.26, -4.7843, -4.9554, -4.9986, -5.2199, -5.2499, -5.3942, -5.4308, -5.4308, -5.4309, -4.7991, -4.8039, -4.4156, -5.4457, -5.4457, -5.4457, -5.4457, -5.4457, -5.4457, -5.4457, -5.4457, -5.4457, -5.4457, -5.4457, -5.4457, -5.4457, -5.4457, -5.4457, -5.4457, -5.4457, -5.4457, -5.4457, -5.4457, -5.4457, -5.4457, -5.4457, -5.4457, -5.4457, -5.4457, -5.4457, -3.9118, -4.7991, -4.4096, -4.7428, -4.804, -4.4097, -4.8021, -4.8031, -5.1596, -5.3263, -5.3332, -5.3507, -5.3508, -5.355, -5.3566, -5.3589, -5.3657, -5.3691, -5.0916, -5.2078, -5.3431, -5.3152, -5.3972, -5.3645, -5.3406, -5.4457, -4.7686, -4.7937, -4.7988, -5.4152, -5.4152, -5.4152, -5.4152, -5.4152, -5.4152, -5.4152, -5.4152, -5.4152, -5.4152, -5.4152, -5.4152, -5.4152, -5.4152, -5.4152, -5.4152, -5.4152, -5.4152, -5.4152, -5.4152, -5.4152, -5.4152, -5.4152, -5.4152, -5.4152, -5.4152, -5.4152, -4.7686, -4.7936, -4.8053, -4.7391, -5.1708, -5.0286, -4.783, -4.466, -4.9564, -5.162, -5.1623, -5.2188, -5.2911, -5.3756, -5.3231, -5.3904, -5.3993, -5.4152, -5.4152, -5.4152, -5.4152, -5.4152, -5.4152, -5.4152, -4.4676, -4.4676, -5.1142, -5.1142, -5.1142, -5.1142, -5.1142, -5.1142, -5.1142, -5.1142, -5.1142, -5.1142, -5.1142, -5.1142, -5.1142, -5.1142, -5.1142, -5.1143, -5.1142, -5.1143, -5.1143, -5.1143, -5.1143, -5.1143, -5.1143, -5.1143, -5.1143, -5.1143, -5.1143, -5.1143, -4.4676, -4.8805, -4.4677, -5.1142, -5.1142, -5.1142, -5.1142, -5.1142, -5.1142, -5.1142, -5.1142, -5.1142, -4.2328, -5.2688, -5.2688, -5.2689, -5.2689, -5.2689, -5.2689, -5.2689, -5.2689, -5.2689, -5.2689, -5.2689, -5.2689, -5.2689, -5.2689, -5.2689, -5.2689, -5.2689, -5.2689, -5.2689, -5.2689, -5.2689, -5.2689, -5.2689, -5.2689, -5.2689, -5.2689, -5.269, -4.6223, -4.6222, -4.1874, -4.6869, -4.5451, -5.1145, -4.9707, -4.6223, -5.0046, -5.0562, -4.9442, -4.9977, -5.1094, -5.0847, -5.0944, -5.1292, -5.1401, -5.2688, -5.2688, -5.2688, -5.2689, -5.2689], \"loglift\": [30.0, 29.0, 28.0, 27.0, 26.0, 25.0, 24.0, 23.0, 22.0, 21.0, 20.0, 19.0, 18.0, 17.0, 16.0, 15.0, 14.0, 13.0, 12.0, 11.0, 10.0, 9.0, 8.0, 7.0, 6.0, 5.0, 4.0, 3.0, 2.0, 1.0, 1.4988, 1.4827, 1.4728, 1.4728, 1.4403, 1.4375, 1.4261, 1.3773, 1.328, 1.308, 1.2781, 1.2666, 1.2666, 1.2666, 1.2666, 1.2666, 1.2666, 1.2666, 1.2666, 1.2666, 1.2666, 1.2666, 1.2666, 1.2666, 1.2666, 1.2666, 1.2666, 1.2665, 1.2665, 1.2665, 1.2642, 1.2508, 1.2483, 1.1977, 0.8854, 0.8898, 1.1043, 1.1052, 1.0871, 0.9954, 0.8951, 0.7754, 0.663, 0.4605, 1.0482, 1.1157, 0.7198, 0.6106, 0.5398, 0.5217, 0.6255, 0.1894, 0.3442, 0.6621, -0.1622, 0.4694, 1.6658, 1.6658, 1.6657, 1.5872, 1.5872, 1.5742, 1.5129, 1.4428, 1.394, 1.394, 1.394, 1.394, 1.394, 1.394, 1.394, 1.394, 1.394, 1.394, 1.394, 1.394, 1.394, 1.394, 1.394, 1.394, 1.394, 1.394, 1.394, 1.394, 1.394, 1.394, 1.3901, 1.361, 1.381, 1.3227, 1.3587, 1.368, 1.2884, 1.3429, 1.1242, 1.3333, 1.319, 1.134, 1.2149, 1.3125, 1.1516, 1.0882, 0.5454, 1.2413, 1.2429, 0.4044, 0.7474, 1.111, 0.5382, 0.2653, -0.3576, 1.0328, 0.1348, 0.501, 1.7075, 1.7075, 1.7074, 1.7074, 1.6321, 1.5474, 1.5358, 1.5208, 1.4894, 1.4889, 1.4889, 1.4889, 1.4889, 1.4889, 1.4889, 1.4889, 1.4889, 1.4889, 1.4889, 1.4889, 1.4889, 1.4889, 1.4889, 1.4889, 1.4889, 1.4889, 1.4889, 1.4889, 1.4889, 1.4889, 1.4803, 1.474, 1.4468, 1.2051, 1.213, 1.0605, 1.209, 1.1309, 0.9832, 0.9562, 1.09, 0.6662, 0.3668, 1.085, 0.1034, 0.2654, 0.0326, 0.4361, 0.6501, 0.1515, 0.7438, 0.068, 1.7555, 1.6589, 1.6574, 1.651, 1.6034, 1.6011, 1.571, 1.5464, 1.5464, 1.5464, 1.5464, 1.5464, 1.5464, 1.5464, 1.5464, 1.5464, 1.5464, 1.5464, 1.5464, 1.5464, 1.5464, 1.5464, 1.5464, 1.5464, 1.5464, 1.5464, 1.5464, 1.5464, 1.5464, 1.5464, 1.5464, 1.4374, 0.9827, 1.287, 1.1252, 1.2791, 1.243, 1.3262, 1.3775, 0.6099, 0.9962, 0.6328, 0.9439, 0.1951, 0.7466, 1.1326, 0.9501, 0.5136, 0.8443, -0.0139, 1.0468, 0.7034, 0.4225, 0.9549, 1.8683, 1.8683, 1.624, 1.624, 1.624, 1.624, 1.624, 1.624, 1.624, 1.624, 1.624, 1.624, 1.624, 1.624, 1.624, 1.624, 1.624, 1.624, 1.624, 1.624, 1.624, 1.624, 1.624, 1.624, 1.624, 1.624, 1.624, 1.624, 1.624, 1.624, 1.5659, 1.624, 1.0283, 0.9666, 1.3509, 1.2982, 1.3132, 1.0151, 0.6221, 0.775, 1.0605, 0.7231, 0.0333, 0.6113, -0.0185, 0.1016, 0.0034, 0.1396, -0.6831, 0.8036, 1.1452, -0.1377, 1.1384, 1.1056, 2.1612, 2.1612, 2.1612, 2.1612, 2.0932, 1.9185, 1.9185, 1.9185, 1.9185, 1.9185, 1.9185, 1.9185, 1.9185, 1.9185, 1.9185, 1.9185, 1.9185, 1.9185, 1.9185, 1.9185, 1.9185, 1.9185, 1.9185, 1.9185, 1.9185, 1.9185, 1.9185, 1.9185, 1.9185, 1.9185, 1.9126, 1.819, 1.8138, 1.587, 1.6659, 0.9453, 1.6301, 1.4498, 1.0492, 1.3649, 1.4042, 1.3854, 0.5217, 1.1079, 1.1912, 0.8638, 1.3356, -0.2249, -0.3309, 1.4022, 1.1378, 0.4453, 2.2559, 2.2492, 2.0629, 1.9846, 1.9846, 1.9846, 1.9846, 1.9846, 1.9846, 1.9846, 1.9846, 1.9846, 1.9846, 1.9846, 1.9846, 1.9846, 1.9846, 1.9846, 1.9846, 1.9846, 1.9846, 1.9846, 1.9846, 1.9846, 1.9846, 1.9846, 1.9846, 1.9846, 1.9846, 1.9846, 1.7496, 1.848, 1.6992, 1.7179, 1.4173, 0.9767, 1.1639, 0.8054, 1.2726, 1.6831, 1.6758, 1.6572, 1.6571, 1.6527, 1.651, 1.6484, 1.6413, 1.6377, -0.0283, 0.5878, 1.365, 1.1635, 1.682, 1.0779, 0.1527, 1.4691, 2.3382, 2.3117, 2.3063, 2.0525, 2.0525, 2.0525, 2.0525, 2.0525, 2.0525, 2.0525, 2.0525, 2.0525, 2.0525, 2.0525, 2.0525, 2.0525, 2.0525, 2.0525, 2.0525, 2.0525, 2.0525, 2.0525, 2.0525, 2.0525, 2.0525, 2.0525, 2.0525, 2.0525, 2.0525, 2.0525, 2.0114, 1.939, 1.691, 1.4911, 1.8255, 1.6226, 1.2194, 0.559, 0.2033, 0.8951, 0.4884, 0.2746, -0.2277, 1.2563, -0.5612, 1.0883, 0.9416, -0.6335, 1.6113, 0.9884, 1.2202, 1.6643, -0.0288, 1.6113, 2.5407, 2.5406, 2.2819, 2.2818, 2.2818, 2.2818, 2.2818, 2.2818, 2.2818, 2.2818, 2.2818, 2.2818, 2.2818, 2.2818, 2.2818, 2.2818, 2.2818, 2.2818, 2.2818, 2.2818, 2.2818, 2.2818, 2.2818, 2.2818, 2.2818, 2.2818, 2.2818, 2.2818, 2.2818, 2.2818, 2.2404, 2.1152, 0.923, 0.0455, 1.9421, 1.5887, 0.0172, 1.3359, 1.8622, 1.783, 1.8248, 1.8656, 2.8048, 2.3161, 2.3161, 2.3161, 2.3161, 2.3161, 2.3161, 2.3161, 2.3161, 2.3161, 2.3161, 2.3161, 2.3161, 2.316, 2.316, 2.316, 2.316, 2.316, 2.316, 2.316, 2.316, 2.316, 2.316, 2.316, 2.316, 2.316, 2.316, 2.316, 2.199, 2.1965, 1.1989, 1.1979, 0.8456, 1.9999, 1.4526, 0.4027, 1.4199, 1.5798, 1.1001, 1.1393, 1.6077, 1.3862, 0.908, 0.9433, -0.0767, 1.3813, 1.3759, 0.6272, 1.1455, 1.3187]}, \"token.table\": {\"Topic\": [4, 5, 7, 8, 1, 3, 5, 8, 3, 1, 9, 3, 5, 1, 5, 9, 2, 3, 5, 7, 3, 1, 5, 9, 3, 6, 6, 3, 4, 2, 3, 5, 7, 8, 9, 3, 3, 5, 1, 3, 5, 2, 2, 1, 9, 6, 2, 7, 2, 1, 5, 7, 2, 5, 6, 4, 2, 4, 1, 10, 1, 8, 2, 5, 7, 5, 2, 3, 4, 6, 1, 2, 5, 7, 9, 7, 3, 2, 6, 7, 5, 7, 5, 6, 2, 1, 2, 8, 1, 3, 4, 7, 8, 8, 5, 8, 1, 2, 4, 7, 1, 1, 2, 3, 5, 5, 2, 1, 4, 4, 1, 2, 2, 4, 7, 8, 2, 9, 1, 6, 5, 4, 3, 3, 5, 1, 2, 10, 9, 2, 3, 4, 6, 1, 2, 3, 4, 5, 8, 3, 5, 2, 4, 3, 7, 7, 6, 6, 4, 5, 9, 5, 7, 3, 6, 7, 2, 5, 6, 3, 1, 3, 9, 6, 3, 3, 6, 8, 1, 2, 5, 6, 6, 9, 4, 8, 9, 8, 2, 7, 1, 2, 8, 9, 8, 8, 7, 6, 4, 3, 1, 7, 5, 5, 6, 9, 8, 9, 6, 6, 6, 8, 1, 2, 5, 9, 1, 4, 8, 9, 7, 3, 8, 1, 3, 4, 5, 6, 4, 5, 7, 8, 8, 9, 1, 2, 3, 10, 8, 7, 2, 1, 4, 2, 5, 8, 9, 4, 5, 1, 4, 8, 9, 8, 8, 3, 9, 7, 7, 1, 2, 3, 5, 6, 7, 8, 3, 3, 4, 1, 2, 5, 6, 9, 6, 5, 8, 3, 1, 9, 2, 3, 1, 2, 3, 4, 5, 7, 9, 10, 7, 5, 7, 7, 9, 4, 4, 2, 5, 6, 4, 2, 9, 3, 7, 3, 5, 3, 1, 3, 8, 2, 3, 2, 1, 8, 3, 7, 4, 5, 7, 10, 4, 8, 1, 3, 1, 4, 6, 2, 2, 4, 5, 8, 2, 5, 5, 5, 5, 6, 9, 8, 2, 6, 8, 1, 2, 3, 4, 5, 6, 8, 1, 2, 4, 9, 1, 3, 4, 5, 7, 8, 4, 6, 2, 6, 3, 1, 6, 5, 2, 1, 5, 8, 1, 6, 9, 2, 8, 1, 4, 2, 1, 3, 4, 5, 6, 8, 10, 1, 2, 3, 4, 5, 7, 8, 1, 2, 3, 6, 9, 2, 7, 9, 2, 8, 2, 2, 2, 3, 5, 7, 4, 9, 4, 1, 7, 2, 1, 3, 7, 8, 6, 6, 2, 2, 8, 3, 3, 1, 7, 6, 3, 2, 5, 4, 8, 5, 7, 2, 4, 5, 8, 4, 6, 9, 2, 7, 4, 4, 3, 5, 7, 2, 3, 8, 4, 1, 3, 5, 6, 6, 9, 3, 2, 2, 3, 2, 8, 2, 1, 2, 4, 9, 5, 9, 2, 1, 9, 9, 4, 5, 4, 8, 9, 1, 6, 1, 3, 6, 5, 5, 4, 8, 4, 1, 1, 7, 5, 5, 7, 2, 8, 3, 6, 1, 5, 7, 2, 1, 1, 3, 4, 5, 6, 1, 2, 3, 5, 6, 1, 5, 4, 5, 2, 2, 9, 1, 3, 2, 6, 9, 2, 7, 5, 5, 7, 5, 7, 1, 2, 3, 4, 5, 6, 7, 8, 1, 2, 3, 4, 5, 6, 8, 9, 8, 8, 1, 3, 5, 7, 7, 4, 7, 1, 4, 8, 1, 9, 1, 4, 6, 5, 4, 7, 5, 1, 3, 5, 7, 8, 10, 7, 3, 4, 8, 4, 1, 3, 4, 5, 1, 2, 3, 7, 8, 5, 8, 4, 4, 1, 2, 3, 5, 6, 4, 7, 7, 1, 10, 1, 6, 6, 2, 5, 6, 8, 1, 2, 4, 7, 1, 2, 3, 9, 8, 9, 1, 10, 1, 2, 5, 5, 7, 2, 2, 1, 9, 5, 6, 4, 1, 9, 2, 5, 5, 8, 1, 2, 6, 2, 3, 4, 5, 6, 7, 3, 4, 6, 4, 6], \"Freq\": [0.2110134635399184, 0.2110134635399184, 0.2110134635399184, 0.2110134635399184, 0.3268238337092001, 0.3268238337092001, 0.3268238337092001, 0.3268238337092001, 0.7804233116902068, 0.748515635319194, 0.8817808622956902, 0.3919609182220002, 0.3919609182220002, 0.7485197066372015, 0.8458257141048283, 0.8818166103868573, 0.37039039510094873, 0.37039039510094873, 0.5981224446181295, 0.5981224446181295, 0.7804268204075924, 0.4997442823268298, 0.5815766777519148, 0.5815766777519148, 0.3973955802684239, 0.3973955802684239, 0.841604571562298, 0.36073484237226555, 0.36073484237226555, 0.27478234000236024, 0.18318822666824017, 0.27478234000236024, 0.09159411333412008, 0.09159411333412008, 0.09159411333412008, 0.7804092093676631, 0.7804241512282413, 0.8458277743655337, 0.6237810126284391, 0.20792700420947968, 0.20792700420947968, 0.533666879727179, 0.7142300699420868, 0.7485258089918195, 0.8818074909001847, 0.8415823071855644, 0.7142416981797952, 0.9124758059783936, 0.6652346173752369, 0.3460859674575282, 0.3460859674575282, 0.3460859674575282, 0.3105543735378818, 0.3105543735378818, 0.3105543735378818, 0.7559024124052635, 0.4959448198498588, 0.7559032669215403, 0.4963086216223484, 0.4963086216223484, 0.4186823297796065, 0.4186823297796065, 0.3162158572076272, 0.3162158572076272, 0.3162158572076272, 0.845816461291378, 0.2399854429393935, 0.2399854429393935, 0.2399854429393935, 0.8416091906680786, 0.7485132961957227, 0.5043961753234579, 0.25219808766172896, 0.9124940422647227, 0.8817979822814519, 0.9124859331553526, 0.7804127125309548, 0.5125252949070389, 0.5618972553012622, 0.9124961187502622, 0.5974702658500384, 0.5974702658500384, 0.8458242390279799, 0.8415850437190413, 0.7142444920159243, 0.7485232125554734, 0.42923787608064246, 0.42923787608064246, 0.23112566508677437, 0.23112566508677437, 0.23112566508677437, 0.23112566508677437, 0.23112566508677437, 0.9472719760207521, 0.609341512377875, 0.609341512377875, 0.5082232203437634, 0.2541116101718817, 0.755889420462451, 0.9124801981712564, 0.7485181932700367, 0.2522126707398699, 0.2522126707398699, 0.12610633536993496, 0.2522126707398699, 0.8458238409051669, 0.5310080185442175, 0.9638162276469405, 0.5052447383616939, 0.7558988152101601, 0.3918657671775856, 0.3918657671775856, 0.33632796479616095, 0.33632796479616095, 0.33632796479616095, 0.33632796479616095, 0.5746216079180971, 0.28731080395904857, 0.39702198247969755, 0.39702198247969755, 0.5657210365895259, 0.4917061239827002, 0.7804165760456131, 0.7804271512574473, 0.8458315223453697, 0.4564018427105977, 0.22820092135529885, 0.22820092135529885, 0.8818036879170812, 0.3920112477609423, 0.19600562388047116, 0.19600562388047116, 0.19600562388047116, 0.15393252348181283, 0.15393252348181283, 0.30786504696362565, 0.15393252348181283, 0.15393252348181283, 0.15393252348181283, 0.5204133511690143, 0.8458184703710384, 0.9077461160329154, 0.7559112075728691, 0.7804133677348083, 0.9124875516159724, 0.9125025965944559, 0.5435561235214129, 0.8415967516900148, 0.34959935645648094, 0.8458132490454964, 0.8818218205487991, 0.5975831733460455, 0.5975831733460455, 0.4668000667329701, 0.15560002224432337, 0.4668000667329701, 0.3721897084089205, 0.3721897084089205, 0.8415933115659804, 0.7804125544687575, 0.380686922181723, 0.380686922181723, 0.8818003187149211, 0.8415944091727493, 0.508688381946132, 0.7804136085594425, 0.841584542034874, 0.9472600316714869, 0.2573911455882998, 0.2573911455882998, 0.2573911455882998, 0.2573911455882998, 0.841585434311504, 0.8818289031082515, 0.7558929632532773, 0.9472623428339191, 0.5983586185784867, 0.9472656839819308, 0.41696755001136737, 0.41696755001136737, 0.21883443740902933, 0.21883443740902933, 0.21883443740902933, 0.21883443740902933, 0.9472782993300882, 0.9472717866558262, 0.9124792735418702, 0.8415952740773366, 0.755893968382831, 0.7804128547269176, 0.4922625724420995, 0.9124805666410348, 0.8458243948438533, 0.8458282785818227, 0.5619231322084959, 0.8818151337337481, 0.9472695344509742, 0.8817952412454044, 0.8415951955402827, 0.8415900723404005, 0.5619167512481018, 0.659173318876419, 0.3265305708836654, 0.3265305708836654, 0.3265305708836654, 0.8817901028532665, 0.7485234607737259, 0.7559006342379256, 0.9472862084981297, 0.8817929035205831, 0.9124944918664241, 0.7804217430007148, 0.9472754983974142, 0.3787136114923307, 0.18935680574616534, 0.18935680574616534, 0.18935680574616534, 0.18935680574616534, 0.35233849960840524, 0.35233849960840524, 0.35233849960840524, 0.35233849960840524, 0.9472720498768228, 0.8817991788840216, 0.49477729251644137, 0.5836840201911602, 0.19456134006372006, 0.19456134006372006, 0.6602837862272973, 0.9124784664644972, 0.7142412319266481, 0.7485204536086069, 0.5106552817268848, 0.35860836261197965, 0.35860836261197965, 0.35860836261197965, 0.8817986272898575, 0.7559005235525743, 0.8458312858462262, 0.330382525276473, 0.330382525276473, 0.9472521606457216, 0.881848432294014, 0.9472855884363616, 0.9472651667586445, 0.7804211086966815, 0.8817998502471406, 0.9124926895059375, 0.9124870862225142, 0.2566903234112349, 0.0855634411370783, 0.1711268822741566, 0.2566903234112349, 0.0855634411370783, 0.0855634411370783, 0.0855634411370783, 0.7804026794966213, 0.5111520402716468, 0.755891976124703, 0.25276582103159084, 0.25276582103159084, 0.25276582103159084, 0.25276582103159084, 0.5583062668519952, 0.8415818554489752, 0.6093491456625765, 0.6093491456625765, 0.508667350242308, 0.7485175820819466, 0.8817989702656996, 0.309003972198267, 0.309003972198267, 0.11869959793578243, 0.11869959793578243, 0.11869959793578243, 0.23739919587156486, 0.11869959793578243, 0.11869959793578243, 0.11869959793578243, 0.11869959793578243, 0.9125013211039351, 0.5990617380998574, 0.5990617380998574, 0.6257788438340323, 0.8818270871109256, 0.755886217218185, 0.7559004014484063, 0.3109830471502065, 0.3109830471502065, 0.3109830471502065, 0.7559060742624937, 0.7142388511102625, 0.8818047643359028, 0.4868337579517929, 0.4868337579517929, 0.7804106478079197, 0.8458288483863169, 0.5086847365030664, 0.3660434901697312, 0.3660434901697312, 0.9472711286371601, 0.7511199685149359, 0.5201031163634331, 0.5393625925631887, 0.7485254555916367, 0.9472670840406314, 0.5175396729983173, 0.9124907125997522, 0.5063002628663623, 0.5979787803353714, 0.5979787803353714, 0.6161511812342078, 0.5912114124460489, 0.5912114124460489, 0.32935416199582046, 0.32935416199582046, 0.3866715025517229, 0.3866715025517229, 0.84159633684422, 0.7142385826305894, 0.25985031953873466, 0.5197006390774693, 0.25985031953873466, 0.25985031953873466, 0.33374342466957063, 0.8458271173441568, 0.8458148964160633, 0.8458082189335977, 0.34242496284482427, 0.34242496284482427, 0.34242496284482427, 0.9472782765685617, 0.4106865743307157, 0.4106865743307157, 0.4106865743307157, 0.18988718303870106, 0.12659145535913402, 0.12659145535913402, 0.12659145535913402, 0.12659145535913402, 0.18988718303870106, 0.06329572767956701, 0.7485266251169781, 0.37154192984057066, 0.37154192984057066, 0.8818150956332031, 0.2630615501779495, 0.2630615501779495, 0.2630615501779495, 0.13153077508897476, 0.13153077508897476, 0.13153077508897476, 0.3990855594495276, 0.3990855594495276, 0.5021324960030471, 0.5021324960030471, 0.5086870046534784, 0.717616219639362, 0.239205406546454, 0.8458315667745653, 0.7142466946249149, 0.33719641384969656, 0.33719641384969656, 0.33719641384969656, 0.5073528427451536, 0.5795638651137776, 0.5795638651137776, 0.4541741162340362, 0.4541741162340362, 0.4159634784989914, 0.4159634784989914, 0.7142426991692853, 0.1646858690549201, 0.08234293452746005, 0.3293717381098402, 0.1646858690549201, 0.08234293452746005, 0.08234293452746005, 0.08234293452746005, 0.29516541792506196, 0.14758270896253098, 0.14758270896253098, 0.14758270896253098, 0.14758270896253098, 0.14758270896253098, 0.14758270896253098, 0.3804990343506937, 0.19024951717534686, 0.19024951717534686, 0.19024951717534686, 0.19024951717534686, 0.7142507943075406, 0.9124804700871545, 0.5908910668637846, 0.6140165436513901, 0.30700827182569507, 0.5070742818034423, 0.7142337605911608, 0.27239093168713646, 0.27239093168713646, 0.27239093168713646, 0.27239093168713646, 0.9760635058338997, 0.8818082740283257, 0.7558905080903704, 0.3522745045744077, 0.7045490091488154, 0.7142414963388117, 0.4995695148399734, 0.780424018770381, 0.9125023878552633, 0.6593754462612736, 0.8415967565989507, 0.8415799160105627, 0.5201904125646425, 0.7142386432655576, 0.9472660795773983, 0.5182601395282267, 0.7804236783702889, 0.5449521233729174, 0.5449521233729174, 0.8415686795894799, 0.7804159775867835, 0.50364247190809, 0.50364247190809, 0.7559045322304926, 0.9472733622830758, 0.5981361287174598, 0.5981361287174598, 0.7142379848844768, 0.3198671439656465, 0.3198671439656465, 0.9472737267000866, 0.4568130825282217, 0.4568130825282217, 0.22840654126411086, 0.9077227437208812, 0.9124781895953087, 0.7559092133616586, 0.7559045999170985, 0.516990606871496, 0.8458311873661629, 0.6269644017777002, 0.367423338606574, 0.367423338606574, 0.9472643886676593, 0.7559120081656032, 0.5979067461187727, 0.29895337305938635, 0.29895337305938635, 0.8415974389597173, 0.8415862155661369, 0.8817996531596518, 0.7804302600139925, 0.50782937840224, 0.3730688347937723, 0.7461376695875446, 0.7142539533659347, 0.9472672020061884, 0.6652147889788833, 0.7485199983657277, 0.30711570529037113, 0.6142314105807423, 0.30711570529037113, 0.44312395752741585, 0.44312395752741585, 0.7142435324458662, 0.7485164907405141, 0.5983602131772067, 0.8818061535352644, 0.5240050502344956, 0.5240050502344956, 0.4409152602256847, 0.4409152602256847, 0.4409152602256847, 0.7485312197671433, 0.5619014255363642, 0.2534130298296128, 0.2534130298296128, 0.2534130298296128, 0.5657073888864934, 0.8458279895492997, 0.5049810317894045, 0.9472705038329611, 0.44719253779777207, 0.4931375847667465, 0.9638150966122926, 0.9124874855371428, 0.8458207560070224, 0.8458276914062988, 0.6422981072214289, 0.714241271053835, 0.94727253044268, 0.7804210592604731, 0.8415951020707214, 0.7206355804153859, 0.5979316680937459, 0.5979316680937459, 0.7142433365044458, 0.49670363048510435, 0.4284303623117155, 0.21421518115585775, 0.21421518115585775, 0.21421518115585775, 0.21421518115585775, 0.25681317492865446, 0.12840658746432723, 0.12840658746432723, 0.25681317492865446, 0.25681317492865446, 0.5204624823436204, 0.5204624823436204, 0.7559052918856897, 0.8458259920869861, 0.785746658067045, 0.5175156852032918, 0.881808727358229, 0.7485274286935868, 0.7804167716334147, 0.7142257823651097, 0.5582655607298371, 0.8818024382987175, 0.41235498570944984, 0.9124948289069623, 0.84582526049803, 0.5978136617993691, 0.5978136617993691, 0.5988044900721545, 0.5988044900721545, 0.3873283851443387, 0.06455473085738979, 0.12910946171477958, 0.12910946171477958, 0.06455473085738979, 0.12910946171477958, 0.06455473085738979, 0.06455473085738979, 0.09421697373082405, 0.1884339474616481, 0.1884339474616481, 0.28265092119247215, 0.09421697373082405, 0.09421697373082405, 0.09421697373082405, 0.09421697373082405, 0.9472724302672352, 0.9472595507684528, 0.7485198731176538, 0.33976598913215494, 0.33976598913215494, 0.33976598913215494, 0.9124914953822034, 0.7558762629571502, 0.9124944737412763, 0.27481953021991884, 0.27481953021991884, 0.27481953021991884, 0.5354679630245003, 0.5354679630245003, 0.21432297771808026, 0.6429689331542408, 0.21432297771808026, 0.8458189385158534, 0.836482054765805, 0.9124866439541486, 0.8458304771077118, 0.47273059351690305, 0.11818264837922576, 0.11818264837922576, 0.23636529675845153, 0.11818264837922576, 0.11818264837922576, 0.9124945173377829, 0.4121158216399084, 0.4121158216399084, 0.4121158216399084, 0.7559034710529968, 0.1967469739286548, 0.1967469739286548, 0.1967469739286548, 0.1967469739286548, 0.23471085249309995, 0.23471085249309995, 0.4694217049861999, 0.6424976885024496, 0.6424976885024496, 0.8458215211409023, 0.947272599145674, 0.5140225074969053, 0.7559090857895931, 0.2905381817459364, 0.1452690908729682, 0.2905381817459364, 0.1452690908729682, 0.1452690908729682, 0.7559043919348709, 0.9124968774225155, 0.9124833710597665, 0.49503871736706584, 0.49503871736706584, 0.38047239686293144, 0.38047239686293144, 0.841574330297978, 0.7142483060887881, 0.8458304631115345, 0.8415867157851314, 0.9472817590030116, 0.7485138928726587, 0.5338282419741036, 0.3558854946494024, 0.1779427473247012, 0.2903565718328752, 0.2903565718328752, 0.2903565718328752, 0.8818153431810062, 0.6277925447195501, 0.6277925447195501, 0.6667636262788962, 0.3333818131394481, 0.4896374416531272, 0.7142512124383914, 0.8458264416627604, 0.44317451886346, 0.44317451886346, 0.7142365311486938, 0.6652268788758592, 0.49786163031629654, 0.8818400083424994, 0.8458320549148576, 0.8415963920034545, 0.4042703456644984, 0.7485133183635417, 0.8818028477673614, 0.7142368765984308, 0.8458177807911533, 0.47620645570591735, 0.47620645570591735, 0.7485288225117954, 0.9394867904588757, 0.8415705576692837, 0.19287930415981874, 0.19287930415981874, 0.19287930415981874, 0.19287930415981874, 0.19287930415981874, 0.9124840858275634, 0.3855145959864423, 0.3855145959864423, 0.3855145959864423, 0.7558999209507697, 0.8415941032349439], \"Term\": [\"aapl\", \"aapl\", \"aapl\", \"aapl\", \"according\", \"according\", \"according\", \"according\", \"acquisition\", \"across\", \"actually\", \"advanced\", \"advanced\", \"advantage\", \"agreed\", \"airpods\", \"alibaba\", \"alibaba\", \"alpha\", \"alpha\", \"amd\", \"amid\", \"analysts\", \"analysts\", \"announced\", \"announced\", \"annual\", \"antitrust\", \"antitrust\", \"apple\", \"apple\", \"apple\", \"apple\", \"apple\", \"apple\", \"argument\", \"ark\", \"arnault\", \"around\", \"around\", \"around\", \"asia\", \"assets\", \"astronomical\", \"attractive\", \"audacious\", \"authorities\", \"autocracies\", \"automotive\", \"available\", \"available\", \"available\", \"average\", \"average\", \"average\", \"awaiting\", \"baba\", \"backing\", \"batteries\", \"batteries\", \"battery\", \"battery\", \"become\", \"become\", \"become\", \"bernard\", \"best\", \"best\", \"best\", \"bets\", \"better\", \"billion\", \"billion\", \"birthday\", \"biweekly\", \"bloc\", \"blockbuster\", \"bloomberg\", \"boldest\", \"bottle\", \"breakfast\", \"breakfast\", \"brexit\", \"broader\", \"buffett\", \"burns\", \"business\", \"business\", \"buy\", \"buy\", \"buy\", \"buy\", \"buy\", \"canaccord\", \"cap\", \"cap\", \"car\", \"car\", \"cases\", \"celebrated\", \"center\", \"ceo\", \"ceo\", \"ceo\", \"ceo\", \"chairman\", \"chang\", \"change\", \"cheap\", \"check\", \"chief\", \"chief\", \"china\", \"china\", \"china\", \"china\", \"chinese\", \"chinese\", \"chip\", \"chip\", \"cisco\", \"claims\", \"climbed\", \"climbs\", \"clock\", \"co\", \"co\", \"co\", \"combine\", \"companies\", \"companies\", \"companies\", \"companies\", \"company\", \"company\", \"company\", \"company\", \"company\", \"company\", \"compared\", \"computers\", \"con\", \"consideration\", \"considering\", \"contra\", \"corea\", \"coronavirus\", \"corp\", \"could\", \"court\", \"cutting\", \"daily\", \"daily\", \"de\", \"de\", \"de\", \"december\", \"december\", \"delay\", \"delivered\", \"demand\", \"demand\", \"demonstrates\", \"depth\", \"devices\", \"disclosed\", \"diseases\", \"domination\", \"dow\", \"dow\", \"dow\", \"dow\", \"dr\", \"ear\", \"early\", \"easing\", \"edge\", \"edt\", \"el\", \"el\", \"electric\", \"electric\", \"electric\", \"electric\", \"enacted\", \"energy\", \"ensure\", \"entertainment\", \"essentially\", \"etfs\", \"even\", \"face\", \"faring\", \"fashion\", \"fearless\", \"features\", \"february\", \"fed\", \"fifth\", \"finance\", \"five\", \"ford\", \"friday\", \"friday\", \"friday\", \"friendly\", \"fsr\", \"futures\", \"gain\", \"gap\", \"garantizar\", \"gas\", \"genuity\", \"global\", \"global\", \"global\", \"global\", \"global\", \"go\", \"go\", \"go\", \"go\", \"got\", \"great\", \"ground\", \"group\", \"group\", \"group\", \"growing\", \"guerra\", \"habia\", \"halted\", \"hatchet\", \"head\", \"head\", \"head\", \"headphones\", \"heavyweight\", \"hennessy\", \"high\", \"high\", \"highlights\", \"highly\", \"highs\", \"hill\", \"hotels\", \"huge\", \"ideada\", \"imports\", \"inc\", \"inc\", \"inc\", \"inc\", \"inc\", \"inc\", \"inc\", \"including\", \"increase\", \"indexes\", \"industrial\", \"industrial\", \"industrial\", \"industrial\", \"industry\", \"infectious\", \"information\", \"information\", \"intelligence\", \"interview\", \"introduced\", \"investment\", \"investment\", \"investors\", \"investors\", \"investors\", \"investors\", \"investors\", \"investors\", \"investors\", \"investors\", \"invoco\", \"itunes\", \"itunes\", \"january\", \"jitters\", \"jobless\", \"jonathan\", \"jones\", \"jones\", \"jones\", \"kanter\", \"kidnapped\", \"know\", \"la\", \"la\", \"lack\", \"laptop\", \"last\", \"late\", \"late\", \"law\", \"lazada\", \"le\", \"lead\", \"legal\", \"legalization\", \"les\", \"ley\", \"like\", \"listen\", \"listen\", \"lithium\", \"live\", \"live\", \"long\", \"long\", \"look\", \"look\", \"looking\", \"lot\", \"lower\", \"lower\", \"lower\", \"lower\", \"ltd\", \"luis\", \"lvmh\", \"mac\", \"made\", \"made\", \"made\", \"make\", \"maker\", \"maker\", \"maker\", \"market\", \"market\", \"market\", \"market\", \"market\", \"market\", \"market\", \"markets\", \"massive\", \"massive\", \"max\", \"may\", \"may\", \"may\", \"may\", \"may\", \"may\", \"mean\", \"mean\", \"media\", \"media\", \"micro\", \"model\", \"model\", \"moet\", \"momentum\", \"monday\", \"monday\", \"monday\", \"months\", \"moves\", \"moves\", \"much\", \"much\", \"musk\", \"musk\", \"nadie\", \"nasdaq\", \"nasdaq\", \"nasdaq\", \"nasdaq\", \"nasdaq\", \"nasdaq\", \"nasdaq\", \"new\", \"new\", \"new\", \"new\", \"new\", \"new\", \"new\", \"news\", \"news\", \"news\", \"news\", \"news\", \"nickname\", \"nicknamed\", \"number\", \"nyse\", \"nyse\", \"office\", \"omaha\", \"one\", \"one\", \"one\", \"one\", \"open\", \"opened\", \"operating\", \"options\", \"options\", \"oracle\", \"otc\", \"ownership\", \"para\", \"past\", \"patel\", \"payal\", \"payments\", \"people\", \"percent\", \"performance\", \"performing\", \"pharmaceutical\", \"pharmaceutical\", \"physician\", \"pickets\", \"place\", \"place\", \"platform\", \"pm\", \"podcast\", \"podcast\", \"point\", \"positive\", \"positive\", \"powell\", \"pre\", \"pre\", \"pre\", \"president\", \"presidente\", \"pressure\", \"previous\", \"primes\", \"processor\", \"produccion\", \"profit\", \"profit\", \"protect\", \"protocol\", \"proved\", \"proved\", \"proved\", \"proven\", \"proves\", \"provide\", \"provided\", \"public\", \"quarterly\", \"quarterly\", \"que\", \"quiet\", \"rapido\", \"rates\", \"read\", \"read\", \"read\", \"recent\", \"recent\", \"reducing\", \"reflect\", \"reit\", \"reits\", \"related\", \"related\", \"report\", \"report\", \"report\", \"require\", \"research\", \"results\", \"results\", \"results\", \"retail\", \"richest\", \"right\", \"rights\", \"rise\", \"rolls\", \"rough\", \"rules\", \"ruling\", \"running\", \"said\", \"save\", \"season\", \"second\", \"sector\", \"sedan\", \"seeking\", \"seeking\", \"sent\", \"services\", \"session\", \"session\", \"session\", \"session\", \"session\", \"shares\", \"shares\", \"shares\", \"shares\", \"shares\", \"sharply\", \"sharply\", \"showed\", \"signs\", \"since\", \"singapore\", \"slips\", \"solid\", \"someone\", \"sorprender\", \"sos\", \"sound\", \"southeast\", \"splurged\", \"sponsors\", \"spotify\", \"spotify\", \"stitcher\", \"stitcher\", \"stock\", \"stock\", \"stock\", \"stock\", \"stock\", \"stock\", \"stock\", \"stock\", \"stocks\", \"stocks\", \"stocks\", \"stocks\", \"stocks\", \"stocks\", \"stocks\", \"stocks\", \"storage\", \"stories\", \"strategy\", \"street\", \"street\", \"street\", \"stricter\", \"superstar\", \"supply\", \"take\", \"take\", \"take\", \"targets\", \"targets\", \"tech\", \"tech\", \"tech\", \"technologies\", \"technology\", \"tequila\", \"territory\", \"tesla\", \"tesla\", \"tesla\", \"tesla\", \"tesla\", \"tesla\", \"teslaquila\", \"third\", \"third\", \"third\", \"thought\", \"thursday\", \"thursday\", \"thursday\", \"thursday\", \"time\", \"time\", \"time\", \"today\", \"today\", \"took\", \"top\", \"trade\", \"traded\", \"trading\", \"trading\", \"trading\", \"trading\", \"trading\", \"treasury\", \"treated\", \"tries\", \"tsla\", \"tsla\", \"tuesday\", \"tuesday\", \"ultimately\", \"un\", \"unfavorable\", \"university\", \"unlike\", \"ursula\", \"us\", \"us\", \"us\", \"used\", \"used\", \"used\", \"user\", \"vehicle\", \"vehicle\", \"vehicles\", \"vehicles\", \"version\", \"vuelve\", \"vuitton\", \"wall\", \"wall\", \"wants\", \"watch\", \"week\", \"weeks\", \"weighed\", \"welcome\", \"well\", \"west\", \"wiling\", \"woman\", \"work\", \"workers\", \"workers\", \"xerox\", \"xpeng\", \"yahoo\", \"year\", \"year\", \"year\", \"year\", \"year\", \"yesterday\", \"yet\", \"yet\", \"yet\", \"yields\", \"zackscom\"]}, \"R\": 30, \"lambda.step\": 0.01, \"plot.opts\": {\"xlab\": \"PC1\", \"ylab\": \"PC2\"}, \"topic.order\": [9, 1, 3, 8, 6, 10, 5, 4, 7, 2]};\n",
       "\n",
       "function LDAvis_load_lib(url, callback){\n",
       "  var s = document.createElement('script');\n",
       "  s.src = url;\n",
       "  s.async = true;\n",
       "  s.onreadystatechange = s.onload = callback;\n",
       "  s.onerror = function(){console.warn(\"failed to load library \" + url);};\n",
       "  document.getElementsByTagName(\"head\")[0].appendChild(s);\n",
       "}\n",
       "\n",
       "if(typeof(LDAvis) !== \"undefined\"){\n",
       "   // already loaded: just create the visualization\n",
       "   !function(LDAvis){\n",
       "       new LDAvis(\"#\" + \"ldavis_el473161403439700750243385181845\", ldavis_el473161403439700750243385181845_data);\n",
       "   }(LDAvis);\n",
       "}else if(typeof define === \"function\" && define.amd){\n",
       "   // require.js is available: use it to load d3/LDAvis\n",
       "   require.config({paths: {d3: \"https://d3js.org/d3.v5\"}});\n",
       "   require([\"d3\"], function(d3){\n",
       "      window.d3 = d3;\n",
       "      LDAvis_load_lib(\"https://cdn.jsdelivr.net/gh/bmabey/pyLDAvis@3.3.1/pyLDAvis/js/ldavis.v3.0.0.js\", function(){\n",
       "        new LDAvis(\"#\" + \"ldavis_el473161403439700750243385181845\", ldavis_el473161403439700750243385181845_data);\n",
       "      });\n",
       "    });\n",
       "}else{\n",
       "    // require.js not available: dynamically load d3 & LDAvis\n",
       "    LDAvis_load_lib(\"https://d3js.org/d3.v5.js\", function(){\n",
       "         LDAvis_load_lib(\"https://cdn.jsdelivr.net/gh/bmabey/pyLDAvis@3.3.1/pyLDAvis/js/ldavis.v3.0.0.js\", function(){\n",
       "                 new LDAvis(\"#\" + \"ldavis_el473161403439700750243385181845\", ldavis_el473161403439700750243385181845_data);\n",
       "            })\n",
       "         });\n",
       "}\n",
       "</script>"
      ],
      "text/plain": [
       "PreparedData(topic_coordinates=              x         y  topics  cluster       Freq\n",
       "topic                                                \n",
       "8      0.117195 -0.069575       1        1  17.150178\n",
       "0     -0.140346 -0.068060       2        1  15.656475\n",
       "2      0.040582 -0.057191       3        1  13.258333\n",
       "7      0.027102  0.136520       4        1  12.861029\n",
       "5      0.034696 -0.009507       5        1  10.736788\n",
       "9      0.065597 -0.043749       6        1   8.038648\n",
       "4     -0.087816 -0.008466       7        1   6.884979\n",
       "3      0.010602  0.074640       8        1   6.139619\n",
       "6     -0.024517  0.045412       9        1   5.320142\n",
       "1     -0.043095 -0.000023      10        1   3.953809, topic_info=           Term       Freq      Total Category  logprob  loglift\n",
       "450          de   6.000000   6.000000  Default  30.0000  30.0000\n",
       "508       tesla   8.000000   8.000000  Default  29.0000  29.0000\n",
       "96       nasdaq  12.000000  12.000000  Default  28.0000  28.0000\n",
       "278       group   5.000000   5.000000  Default  27.0000  27.0000\n",
       "931      lazada   3.000000   3.000000  Default  26.0000  26.0000\n",
       "..          ...        ...        ...      ...      ...      ...\n",
       "104  technology   0.376264   2.390966  Topic10  -5.2688   1.3813\n",
       "409        musk   0.376262   2.404057  Topic10  -5.2688   1.3759\n",
       "105    thursday   0.376261   5.082670  Topic10  -5.2688   0.6272\n",
       "124        high   0.376255   3.026794  Topic10  -5.2689   1.1455\n",
       "506       since   0.376254   2.545350  Topic10  -5.2689   1.3187\n",
       "\n",
       "[558 rows x 6 columns], token_table=      Topic      Freq       Term\n",
       "term                            \n",
       "0         4  0.211013       aapl\n",
       "0         5  0.211013       aapl\n",
       "0         7  0.211013       aapl\n",
       "0         8  0.211013       aapl\n",
       "283       1  0.326824  according\n",
       "...     ...       ...        ...\n",
       "273       3  0.385515        yet\n",
       "273       4  0.385515        yet\n",
       "273       6  0.385515        yet\n",
       "108       4  0.755900     yields\n",
       "715       6  0.841594   zackscom\n",
       "\n",
       "[651 rows x 3 columns], R=30, lambda_step=0.01, plot_opts={'xlab': 'PC1', 'ylab': 'PC2'}, topic_order=[9, 1, 3, 8, 6, 10, 5, 4, 7, 2])"
      ]
     },
     "execution_count": 32,
     "metadata": {},
     "output_type": "execute_result"
    }
   ],
   "source": [
    "import pyLDAvis.gensim_models\n",
    "import pickle \n",
    "import pyLDAvis\n",
    "# Visualize the topics\n",
    "pyLDAvis.enable_notebook()\n",
    "LDAvis_data_filepath = os.path.join('./results/ldavis_prepared_'+str(num_topics))\n",
    "# # this is a bit time consuming - make the if statement True\n",
    "# # if you want to execute visualization prep yourself\n",
    "if 1 == 1:\n",
    "    LDAvis_prepared = pyLDAvis.gensim_models.prepare(lda_model, corpus, id2word)\n",
    "    with open(LDAvis_data_filepath, 'wb') as f:\n",
    "        pickle.dump(LDAvis_prepared, f)\n",
    "# load the pre-prepared pyLDAvis data from disk\n",
    "with open(LDAvis_data_filepath, 'rb') as f:\n",
    "    LDAvis_prepared = pickle.load(f)\n",
    "pyLDAvis.save_html(LDAvis_prepared, './results/ldavis_prepared_'+ str(num_topics) +'.html')\n",
    "LDAvis_prepared"
   ]
  },
  {
   "cell_type": "code",
   "execution_count": null,
   "metadata": {},
   "outputs": [],
   "source": []
  }
 ],
 "metadata": {
  "kernelspec": {
   "display_name": "Python 3",
   "language": "python",
   "name": "python3"
  },
  "language_info": {
   "codemirror_mode": {
    "name": "ipython",
    "version": 3
   },
   "file_extension": ".py",
   "mimetype": "text/x-python",
   "name": "python",
   "nbconvert_exporter": "python",
   "pygments_lexer": "ipython3",
   "version": "3.8.3"
  },
  "toc": {
   "base_numbering": 1,
   "nav_menu": {},
   "number_sections": true,
   "sideBar": true,
   "skip_h1_title": false,
   "title_cell": "Table of Contents",
   "title_sidebar": "Contents",
   "toc_cell": false,
   "toc_position": {},
   "toc_section_display": true,
   "toc_window_display": false
  },
  "varInspector": {
   "cols": {
    "lenName": 16,
    "lenType": 16,
    "lenVar": 40
   },
   "kernels_config": {
    "python": {
     "delete_cmd_postfix": "",
     "delete_cmd_prefix": "del ",
     "library": "var_list.py",
     "varRefreshCmd": "print(var_dic_list())"
    },
    "r": {
     "delete_cmd_postfix": ") ",
     "delete_cmd_prefix": "rm(",
     "library": "var_list.r",
     "varRefreshCmd": "cat(var_dic_list()) "
    }
   },
   "types_to_exclude": [
    "module",
    "function",
    "builtin_function_or_method",
    "instance",
    "_Feature"
   ],
   "window_display": false
  }
 },
 "nbformat": 4,
 "nbformat_minor": 5
}
