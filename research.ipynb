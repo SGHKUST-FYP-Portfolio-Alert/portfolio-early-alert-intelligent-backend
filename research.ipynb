{
 "cells": [
  {
   "cell_type": "code",
   "execution_count": 1,
   "id": "a58cf451",
   "metadata": {},
   "outputs": [],
   "source": [
    "import sys\n",
    "import os\n",
    "\n",
    "import pandas as pd\n",
    "import seaborn as sns\n",
    "\n",
    "from database import database\n",
    "import matplotlib.pyplot as plt"
   ]
  },
  {
   "cell_type": "code",
   "execution_count": 2,
   "id": "cdd4948d",
   "metadata": {},
   "outputs": [],
   "source": [
    "news_doc = []\n",
    "for doc in database.news_collection.find({}):\n",
    "    news_doc.append(doc)"
   ]
  },
  {
   "cell_type": "code",
   "execution_count": 3,
   "id": "9aec0802",
   "metadata": {},
   "outputs": [
    {
     "data": {
      "text/html": [
       "<div>\n",
       "<style scoped>\n",
       "    .dataframe tbody tr th:only-of-type {\n",
       "        vertical-align: middle;\n",
       "    }\n",
       "\n",
       "    .dataframe tbody tr th {\n",
       "        vertical-align: top;\n",
       "    }\n",
       "\n",
       "    .dataframe thead th {\n",
       "        text-align: right;\n",
       "    }\n",
       "</style>\n",
       "<table border=\"1\" class=\"dataframe\">\n",
       "  <thead>\n",
       "    <tr style=\"text-align: right;\">\n",
       "      <th></th>\n",
       "      <th>_id</th>\n",
       "      <th>datetime</th>\n",
       "      <th>headline</th>\n",
       "      <th>image</th>\n",
       "      <th>source</th>\n",
       "      <th>summary</th>\n",
       "      <th>url</th>\n",
       "      <th>api</th>\n",
       "      <th>counterparty</th>\n",
       "      <th>sentiment</th>\n",
       "      <th>date</th>\n",
       "    </tr>\n",
       "  </thead>\n",
       "  <tbody>\n",
       "    <tr>\n",
       "      <th>0</th>\n",
       "      <td>616a9214d6b0969db79ff380</td>\n",
       "      <td>1634342006</td>\n",
       "      <td>Dow Jones Futures: Microsoft, Tesla Rival Xpen...</td>\n",
       "      <td>https://s.yimg.com/uu/api/res/1.2/8E9xXtahKzzU...</td>\n",
       "      <td>Yahoo</td>\n",
       "      <td>With a confirmed market rally, how aggressive ...</td>\n",
       "      <td>https://finnhub.io/api/news?id=0a71ef5127fb093...</td>\n",
       "      <td>Finnhub</td>\n",
       "      <td>TSLA</td>\n",
       "      <td>0.0</td>\n",
       "      <td>2021-10-16</td>\n",
       "    </tr>\n",
       "    <tr>\n",
       "      <th>1</th>\n",
       "      <td>616a9214d6b0969db79ff382</td>\n",
       "      <td>1634342280</td>\n",
       "      <td>Musk Trolls Bezos Over Wealth. He Could have T...</td>\n",
       "      <td>https://s.yimg.com/ny/api/res/1.2/eLHfCjFR8LCr...</td>\n",
       "      <td>Yahoo</td>\n",
       "      <td>In a tweet, the Tesla CEO drew attention to hi...</td>\n",
       "      <td>https://finnhub.io/api/news?id=e94ea5b855e79f8...</td>\n",
       "      <td>Finnhub</td>\n",
       "      <td>TSLA</td>\n",
       "      <td>0.0</td>\n",
       "      <td>2021-10-16</td>\n",
       "    </tr>\n",
       "    <tr>\n",
       "      <th>2</th>\n",
       "      <td>616a9214d6b0969db79ff383</td>\n",
       "      <td>1634335078</td>\n",
       "      <td>'Big Short' investor Burry says he's no longer...</td>\n",
       "      <td>https://s.yimg.com/uu/api/res/1.2/BnJkedCmxSup...</td>\n",
       "      <td>Yahoo</td>\n",
       "      <td>Burry's Scion Asset Management said in a regul...</td>\n",
       "      <td>https://finnhub.io/api/news?id=d162aec79de9fdb...</td>\n",
       "      <td>Finnhub</td>\n",
       "      <td>TSLA</td>\n",
       "      <td>0.0</td>\n",
       "      <td>2021-10-16</td>\n",
       "    </tr>\n",
       "    <tr>\n",
       "      <th>3</th>\n",
       "      <td>616a9214d6b0969db79ff381</td>\n",
       "      <td>1634345700</td>\n",
       "      <td>Tesla Will Probably Beat Earnings Estimates. W...</td>\n",
       "      <td>https://s.yimg.com/ny/api/res/1.2/Gc1PiHZWDkam...</td>\n",
       "      <td>Yahoo</td>\n",
       "      <td>Tesla  will easily beat earnings expectations ...</td>\n",
       "      <td>https://finnhub.io/api/news?id=b21fa618c07df48...</td>\n",
       "      <td>Finnhub</td>\n",
       "      <td>TSLA</td>\n",
       "      <td>1.0</td>\n",
       "      <td>2021-10-16</td>\n",
       "    </tr>\n",
       "    <tr>\n",
       "      <th>4</th>\n",
       "      <td>616a9214d6b0969db79ff384</td>\n",
       "      <td>1634335078</td>\n",
       "      <td>'Big Short' investor Burry says he's no longer...</td>\n",
       "      <td>https://static.reuters.com/resources/r/?m=02&amp;d...</td>\n",
       "      <td>Reuters</td>\n",
       "      <td>Investor Michael Burry of \"The Big Short\" fame...</td>\n",
       "      <td>https://finnhub.io/api/news?id=73b71d9c99019a1...</td>\n",
       "      <td>Finnhub</td>\n",
       "      <td>TSLA</td>\n",
       "      <td>0.0</td>\n",
       "      <td>2021-10-16</td>\n",
       "    </tr>\n",
       "  </tbody>\n",
       "</table>\n",
       "</div>"
      ],
      "text/plain": [
       "                        _id    datetime  \\\n",
       "0  616a9214d6b0969db79ff380  1634342006   \n",
       "1  616a9214d6b0969db79ff382  1634342280   \n",
       "2  616a9214d6b0969db79ff383  1634335078   \n",
       "3  616a9214d6b0969db79ff381  1634345700   \n",
       "4  616a9214d6b0969db79ff384  1634335078   \n",
       "\n",
       "                                            headline  \\\n",
       "0  Dow Jones Futures: Microsoft, Tesla Rival Xpen...   \n",
       "1  Musk Trolls Bezos Over Wealth. He Could have T...   \n",
       "2  'Big Short' investor Burry says he's no longer...   \n",
       "3  Tesla Will Probably Beat Earnings Estimates. W...   \n",
       "4  'Big Short' investor Burry says he's no longer...   \n",
       "\n",
       "                                               image   source  \\\n",
       "0  https://s.yimg.com/uu/api/res/1.2/8E9xXtahKzzU...    Yahoo   \n",
       "1  https://s.yimg.com/ny/api/res/1.2/eLHfCjFR8LCr...    Yahoo   \n",
       "2  https://s.yimg.com/uu/api/res/1.2/BnJkedCmxSup...    Yahoo   \n",
       "3  https://s.yimg.com/ny/api/res/1.2/Gc1PiHZWDkam...    Yahoo   \n",
       "4  https://static.reuters.com/resources/r/?m=02&d...  Reuters   \n",
       "\n",
       "                                             summary  \\\n",
       "0  With a confirmed market rally, how aggressive ...   \n",
       "1  In a tweet, the Tesla CEO drew attention to hi...   \n",
       "2  Burry's Scion Asset Management said in a regul...   \n",
       "3  Tesla  will easily beat earnings expectations ...   \n",
       "4  Investor Michael Burry of \"The Big Short\" fame...   \n",
       "\n",
       "                                                 url      api counterparty  \\\n",
       "0  https://finnhub.io/api/news?id=0a71ef5127fb093...  Finnhub         TSLA   \n",
       "1  https://finnhub.io/api/news?id=e94ea5b855e79f8...  Finnhub         TSLA   \n",
       "2  https://finnhub.io/api/news?id=d162aec79de9fdb...  Finnhub         TSLA   \n",
       "3  https://finnhub.io/api/news?id=b21fa618c07df48...  Finnhub         TSLA   \n",
       "4  https://finnhub.io/api/news?id=73b71d9c99019a1...  Finnhub         TSLA   \n",
       "\n",
       "   sentiment        date  \n",
       "0        0.0  2021-10-16  \n",
       "1        0.0  2021-10-16  \n",
       "2        0.0  2021-10-16  \n",
       "3        1.0  2021-10-16  \n",
       "4        0.0  2021-10-16  "
      ]
     },
     "execution_count": 3,
     "metadata": {},
     "output_type": "execute_result"
    }
   ],
   "source": [
    "news_doc = pd.DataFrame(news_doc)\n",
    "news_doc.head()"
   ]
  },
  {
   "cell_type": "code",
   "execution_count": 4,
   "id": "16f15a98",
   "metadata": {},
   "outputs": [],
   "source": [
    "keywords = [\"Ownership change\", \"Change of control\", \"Acceleration\", \"accelerate\", \"Default\", \"Insolvency\", \"Insolvent\", \"Delay\", \"Late\", \"Failure\", \"fail\", \"Dispute\", \"Liquidation\", \"Liquidator\", \"Margin call\", \"Haircut\", \"Bank run\", \"Termination\", \"Moratorium\", \"Suspension\", \"Suspend\", \"Fraud\", \"misrepresentation\", \"Fine\", \"sanction\", \"Breach\", \"Reschedule\", \"Restructuring\", \"Restructure\", \"Credit event\", \"Losses\", \"Loss\", \"Bailout\", \"Bailin\", \"Bankrupt\", \"Receivership\", \"Receiver\", \"Judicial Management\", \"Judicial Manager\", \"Administration\", \"Administrator\", \"Sequestrate\", \"Sequestration\", \"Support\", \"Capital call\", \"Liquidity event\", \"Negative trends\", \"Price changes\", \"Board infighting\", \"Corruption\", \"Inappropriate or ultra vires dealings\", \"Negative working capital\", \"Acquisition\", \"LBO\", \"Qualified audit opinion\", \"Regulatory breach\", \"Non-performing assets\", \"Provisions\", \"Force majeur\", \"Distress\", \"Frozen\", \"Delisted\", \"Sued\", \"Suit\", \"Arrested\", \"Disappeared\", \"Uncontactable\"]\n",
    "\n",
    "def keyword_count (news):\n",
    "    keywords_count_dict = {}\n",
    "    \n",
    "    for keyword in keywords:\n",
    "        for news_str in news:\n",
    "            news_str = news_str.split()\n",
    "            for word in news_str:\n",
    "                if keyword == word:\n",
    "                    keywords_count_dict[keyword] = keywords_count_dict.get(keyword, 0) + 1\n",
    "    \n",
    "    return keywords_count_dict"
   ]
  },
  {
   "cell_type": "code",
   "execution_count": 5,
   "id": "81dce421",
   "metadata": {},
   "outputs": [],
   "source": [
    "count = keyword_count(news_doc.headline)"
   ]
  },
  {
   "cell_type": "code",
   "execution_count": 6,
   "id": "50a629b0",
   "metadata": {},
   "outputs": [
    {
     "data": {
      "image/png": "[encoded data removed]",
      "text/plain": [
       "<Figure size 432x288 with 1 Axes>"
      ]
     },
     "metadata": {
      "needs_background": "light"
     },
     "output_type": "display_data"
    }
   ],
   "source": [
    "myList = count.items()\n",
    "myList = sorted(myList) \n",
    "x, y = zip(*myList) \n",
    "\n",
    "\n",
    "plt.plot(x, y)\n",
    "plt.xticks(rotation='vertical')\n",
    "plt.show()"
   ]
  },
  {
   "cell_type": "code",
   "execution_count": null,
   "id": "156d6219",
   "metadata": {},
   "outputs": [],
   "source": []
  }
 ],
 "metadata": {
  "kernelspec": {
   "display_name": "Python 3 (ipykernel)",
   "language": "python",
   "name": "python3"
  },
  "language_info": {
   "codemirror_mode": {
    "name": "ipython",
    "version": 3
   },
   "file_extension": ".py",
   "mimetype": "text/x-python",
   "name": "python",
   "nbconvert_exporter": "python",
   "pygments_lexer": "ipython3",
   "version": "3.9.7"
  }
 },
 "nbformat": 4,
 "nbformat_minor": 5
}
